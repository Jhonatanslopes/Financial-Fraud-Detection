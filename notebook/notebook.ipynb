{
 "cells": [
  {
   "cell_type": "markdown",
   "id": "0d927fba",
   "metadata": {},
   "source": [
    "# CONTEXTO DO PROBLEMA"
   ]
  },
  {
   "cell_type": "markdown",
   "id": "1626be3a",
   "metadata": {},
   "source": [
    "A Blocker Fraude Company é uma empresa especializada na detecção de fraudes em transações financeiras feitas através de dispositivos móveis. A empresa tem um serviço chamado “Blocker Fraud” no qual garante o bloqueio de transações fraudulentas.\n",
    "\n",
    "E o modelo de negócio da empresa é do tipo Serviço com a monetização feita por performance do serviço prestado, ou seja, o usuário paga uma taxa fixa sobre o sucesso na detecção de fraude das transações do cliente.\n",
    "\n",
    "Porém, a Blocker Fraud Company está em fase de expansão no Brasil e para adquirir clientes mais rapidamente, ela adotou uma estratégia muito agressiva. A estratégia funciona da seguinte forma:\n",
    "\n",
    "1. A empresa vai receber 25% do valor de cada transação detectada verdadeiramente como fraude.\n",
    "2. A empresa vai receber 5% do valor de cada transação detectada como fraude, porém a transação é verdadeiramente legítima.\n",
    "3. A empresa vai devolver 100% do valor para o cliente, a cada transação detectada como legítima, porém a transação é verdadeiramente uma fraude.\n",
    "\n",
    "\n",
    "Com essa estratégia agressiva a empresa assume os riscos em falhar na detecção de fraude e é remunerada na detecção assertiva das fraudes.\n",
    "\n",
    "Para o cliente, é um excelente negócio contratar a Blocker Fraud Company. Apesar da taxa cobrada ser muito alta sobre o sucesso, 25%, a empresa reduz seus custos com transações fraudulentas detectadas corretamente e ainda o prejuízo causado por um erro do serviço de anti-fraude será coberto pela própria Blocker Fraud Company.\n",
    "\n",
    "Para a empresa, além de conseguir muitos clientes com essa estratégia arriscada em garantir o reembolso no caso de uma falha na detecção de fraude do cliente, ela depende somente da precisão e da acurácia dos modelos construídos pelos seus Cientistas de Dados, ou seja, quanto mais preciso for o modelo “Blocker Fraud”, maior o faturamento da empresa. Porém, se o modelo tiver baixa precisão, a empresa poderá ter um prejuízo enorme."
   ]
  },
  {
   "cell_type": "markdown",
   "id": "f5c4ef93",
   "metadata": {},
   "source": [
    "# O PROBLEMA"
   ]
  },
  {
   "cell_type": "markdown",
   "id": "ed223ec7",
   "metadata": {},
   "source": [
    "Você foi contratado como um Consultor de Ciência de Dados para criar um modelo de alta precisão e acurácia na detecção de fraudes de transações feitas através de dispositivos móveis.\n",
    "\n",
    "Ao final da sua consultoria, você precisa entregar ao CEO da Blocker Fraud Company um modelo em produção no qual seu acesso será feito via API, ou seja, os clientes enviarão suas transações via API para que o seu modelo as classifique como fraudulentas ou legítimas.\n",
    "\n",
    "Além disso, você precisará entregar um relatório reportando a performance e os resultados do seu modelo em relação ao lucro e prejuízo que a empresa terá ao usar o modelo que você produziu. No seu relatório deve conter as respostas para as seguintes perguntas:\n",
    "\n",
    "1. Qual a Precisão e Acurácia do modelo?\n",
    "2. Qual a Confiabilidade do modelo em classificar as transações como legítimas ou fraudulentas?\n",
    "3. Qual o Faturamento Esperado pela Empresa se classificarmos 100% das transações com o modelo?\n",
    "4. Qual o Prejuízo Esperado pela Empresa em caso de falha do modelo?\n",
    "5. Qual o Lucro Esperado pela Blocker Fraud Company ao utilizar o modelo?"
   ]
  },
  {
   "cell_type": "markdown",
   "id": "d51b078e",
   "metadata": {},
   "source": [
    "# ENTENDIMENTO DO PROBLEMA"
   ]
  },
  {
   "cell_type": "markdown",
   "id": "d5971761",
   "metadata": {},
   "source": [
    "**Motivação:** Alta estratégia de crescimento para expansão sobre os resultados de detecção das fraudes.\n",
    "\n",
    "**Causa Raiz do Problema:** Criar um modelo capaz de detectar fraudes com alta acuracia.\n",
    "\n",
    "**Tipo de Problema:** Detecção de Fraude.\n",
    "\n",
    "**Potênciais Métodos:** Classificação.\n",
    "\n",
    "**Granularidade:** Classificação de Fraude por Transação.\n",
    "\n",
    "**Entraga da Solução:** WebApp contendo a predição e o Relatório.\n",
    "\n",
    "**Dados para Resolver o Problema:** [Kaggle](https://www.kaggle.com/ealaxi/paysim1)."
   ]
  },
  {
   "cell_type": "markdown",
   "id": "eb0ca4e8",
   "metadata": {},
   "source": [
    "# 0.0 IMPORTS"
   ]
  },
  {
   "cell_type": "code",
   "execution_count": 1,
   "id": "0516426e",
   "metadata": {},
   "outputs": [],
   "source": [
    "# Manipulation\n",
    "import pandas as pd\n",
    "import inflection\n",
    "\n",
    "# Visualization\n",
    "import matplotlib.pyplot as plt\n",
    "import seaborn as sns\n",
    "\n",
    "# math and statistic\n",
    "import numpy as np\n",
    "from scipy import stats\n",
    "\n",
    "# preparation ML\n",
    "from sklearn.preprocessing import RobustScaler, MinMaxScaler\n",
    "from sklearn.model_selection import train_test_split\n",
    "from sklearn.ensemble import ExtraTreesClassifier"
   ]
  },
  {
   "cell_type": "markdown",
   "id": "977d5737",
   "metadata": {},
   "source": [
    "## 0.1 Funções Auxiliares"
   ]
  },
  {
   "cell_type": "code",
   "execution_count": 2,
   "id": "0d37094b",
   "metadata": {},
   "outputs": [],
   "source": [
    "# correlation categories\n",
    "def cramer_v(x, y):\n",
    "    \n",
    "    cm = pd.crosstab(x, y).values\n",
    "    n = cm.sum()\n",
    "    r, k = cm.shape\n",
    "    \n",
    "    chi2 = stats.chi2_contingency(cm)[0]\n",
    "    chi2_corr = max(0, chi2 - (k-1) * (r-1) / (n-1))\n",
    "    \n",
    "    kcorr = k - (k-1) **2 / (n-1)\n",
    "    rcorr = r - (r-1) **2 / (n-1)\n",
    "    \n",
    "    return np.sqrt((chi2_corr / n) / (min(kcorr-1, rcorr-1)))\n",
    "\n",
    "\n",
    "# Show matrix correlation\n",
    "def show_matrix(col, data, output='list'):\n",
    "\n",
    "    rows = []\n",
    "    index = []\n",
    "    columns = []\n",
    "\n",
    "    for c in data.columns:\n",
    "\n",
    "        result = cramer_v(x=data[str(col)], y=data[str(c)])\n",
    "\n",
    "        rows.append(result)\n",
    "        index.append(str(c))\n",
    "        columns.append(str(col))\n",
    "        \n",
    "    if output == 'list':\n",
    "        return rows\n",
    "    \n",
    "    elif output == 'dict':\n",
    "        return pd.DataFrame(rows, index=index, columns=[str(col)])\n",
    "    \n",
    "    \n",
    "def plot_boxplot(x1, x2, x3, data):\n",
    "    \n",
    "    \"\"\"\n",
    "    A função recebe 3 series.\n",
    "    Retorna 3 plot de boxplot nas mesma linha.\n",
    "    \"\"\"\n",
    "    \n",
    "    plt.figure(figsize=(15, 5))\n",
    "    plt.subplot(1, 3, 1)\n",
    "    sns.boxplot(x=x1)\n",
    "    \n",
    "    plt.subplot(1, 3, 2)\n",
    "    sns.boxplot(x=x2)\n",
    "    \n",
    "    plt.subplot(1, 3, 3)\n",
    "    sns.boxplot(x=x3)\n",
    "    \n",
    "    \n",
    "def low_variance(data, threshold):\n",
    "    \n",
    "    variance_list = []\n",
    "    columns_list = []\n",
    "    color = []\n",
    "    variance = 0\n",
    "    \n",
    "    for p in range(data.shape[1]):\n",
    "        \n",
    "        variance = data.iloc[:, p].var() # calculate variance\n",
    "    \n",
    "        variance_list.append(variance) # variance\n",
    "        columns_list.append(data.columns[p]) # columns\n",
    "        \n",
    "        if variance >= threshold:\n",
    "            color.append('green')\n",
    "            \n",
    "        else:\n",
    "            color.append('blue')\n",
    "            \n",
    "    df = pd.DataFrame({'columns': columns_list, 'variance': variance_list, 'color': color})\n",
    "    df = df.sort_values(by='variance', ascending=False)\n",
    "    sns.barplot(x='variance', y='columns', data=df, palette=list(df['color'].values))"
   ]
  },
  {
   "cell_type": "markdown",
   "id": "e5248ef9",
   "metadata": {},
   "source": [
    "## 0.2 Carregamento de Dados"
   ]
  },
  {
   "cell_type": "code",
   "execution_count": 3,
   "id": "f3283124",
   "metadata": {},
   "outputs": [
    {
     "data": {
      "text/html": [
       "<div>\n",
       "<style scoped>\n",
       "    .dataframe tbody tr th:only-of-type {\n",
       "        vertical-align: middle;\n",
       "    }\n",
       "\n",
       "    .dataframe tbody tr th {\n",
       "        vertical-align: top;\n",
       "    }\n",
       "\n",
       "    .dataframe thead th {\n",
       "        text-align: right;\n",
       "    }\n",
       "</style>\n",
       "<table border=\"1\" class=\"dataframe\">\n",
       "  <thead>\n",
       "    <tr style=\"text-align: right;\">\n",
       "      <th></th>\n",
       "      <th>step</th>\n",
       "      <th>type</th>\n",
       "      <th>amount</th>\n",
       "      <th>nameOrig</th>\n",
       "      <th>oldbalanceOrg</th>\n",
       "      <th>newbalanceOrig</th>\n",
       "      <th>nameDest</th>\n",
       "      <th>oldbalanceDest</th>\n",
       "      <th>newbalanceDest</th>\n",
       "      <th>isFraud</th>\n",
       "      <th>isFlaggedFraud</th>\n",
       "    </tr>\n",
       "  </thead>\n",
       "  <tbody>\n",
       "    <tr>\n",
       "      <th>0</th>\n",
       "      <td>1</td>\n",
       "      <td>PAYMENT</td>\n",
       "      <td>9839.64</td>\n",
       "      <td>C1231006815</td>\n",
       "      <td>170136.0</td>\n",
       "      <td>160296.36</td>\n",
       "      <td>M1979787155</td>\n",
       "      <td>0.0</td>\n",
       "      <td>0.0</td>\n",
       "      <td>0</td>\n",
       "      <td>0</td>\n",
       "    </tr>\n",
       "    <tr>\n",
       "      <th>1</th>\n",
       "      <td>1</td>\n",
       "      <td>PAYMENT</td>\n",
       "      <td>1864.28</td>\n",
       "      <td>C1666544295</td>\n",
       "      <td>21249.0</td>\n",
       "      <td>19384.72</td>\n",
       "      <td>M2044282225</td>\n",
       "      <td>0.0</td>\n",
       "      <td>0.0</td>\n",
       "      <td>0</td>\n",
       "      <td>0</td>\n",
       "    </tr>\n",
       "    <tr>\n",
       "      <th>2</th>\n",
       "      <td>1</td>\n",
       "      <td>TRANSFER</td>\n",
       "      <td>181.00</td>\n",
       "      <td>C1305486145</td>\n",
       "      <td>181.0</td>\n",
       "      <td>0.00</td>\n",
       "      <td>C553264065</td>\n",
       "      <td>0.0</td>\n",
       "      <td>0.0</td>\n",
       "      <td>1</td>\n",
       "      <td>0</td>\n",
       "    </tr>\n",
       "    <tr>\n",
       "      <th>3</th>\n",
       "      <td>1</td>\n",
       "      <td>CASH_OUT</td>\n",
       "      <td>181.00</td>\n",
       "      <td>C840083671</td>\n",
       "      <td>181.0</td>\n",
       "      <td>0.00</td>\n",
       "      <td>C38997010</td>\n",
       "      <td>21182.0</td>\n",
       "      <td>0.0</td>\n",
       "      <td>1</td>\n",
       "      <td>0</td>\n",
       "    </tr>\n",
       "    <tr>\n",
       "      <th>4</th>\n",
       "      <td>1</td>\n",
       "      <td>PAYMENT</td>\n",
       "      <td>11668.14</td>\n",
       "      <td>C2048537720</td>\n",
       "      <td>41554.0</td>\n",
       "      <td>29885.86</td>\n",
       "      <td>M1230701703</td>\n",
       "      <td>0.0</td>\n",
       "      <td>0.0</td>\n",
       "      <td>0</td>\n",
       "      <td>0</td>\n",
       "    </tr>\n",
       "  </tbody>\n",
       "</table>\n",
       "</div>"
      ],
      "text/plain": [
       "   step      type    amount     nameOrig  oldbalanceOrg  newbalanceOrig  \\\n",
       "0     1   PAYMENT   9839.64  C1231006815       170136.0       160296.36   \n",
       "1     1   PAYMENT   1864.28  C1666544295        21249.0        19384.72   \n",
       "2     1  TRANSFER    181.00  C1305486145          181.0            0.00   \n",
       "3     1  CASH_OUT    181.00   C840083671          181.0            0.00   \n",
       "4     1   PAYMENT  11668.14  C2048537720        41554.0        29885.86   \n",
       "\n",
       "      nameDest  oldbalanceDest  newbalanceDest  isFraud  isFlaggedFraud  \n",
       "0  M1979787155             0.0             0.0        0               0  \n",
       "1  M2044282225             0.0             0.0        0               0  \n",
       "2   C553264065             0.0             0.0        1               0  \n",
       "3    C38997010         21182.0             0.0        1               0  \n",
       "4  M1230701703             0.0             0.0        0               0  "
      ]
     },
     "execution_count": 3,
     "metadata": {},
     "output_type": "execute_result"
    }
   ],
   "source": [
    "df = pd.read_csv('../data/fraud_data.csv') # load data\n",
    "\n",
    "df.head() # show data"
   ]
  },
  {
   "cell_type": "markdown",
   "id": "f9b62eea",
   "metadata": {},
   "source": [
    "# 1.0 DESCRIÇÃO DE DADOS"
   ]
  },
  {
   "cell_type": "markdown",
   "id": "bf15bd67",
   "metadata": {},
   "source": [
    "## 1.1 Dimensão de Dados"
   ]
  },
  {
   "cell_type": "code",
   "execution_count": 4,
   "id": "39f31f36",
   "metadata": {},
   "outputs": [
    {
     "name": "stdout",
     "output_type": "stream",
     "text": [
      "Qty. Rows: 6362620\n",
      "Qty. Columns: 11\n"
     ]
    }
   ],
   "source": [
    "print(f'Qty. Rows: {df.shape[0]}')\n",
    "print(f'Qty. Columns: {df.shape[1]}')"
   ]
  },
  {
   "cell_type": "markdown",
   "id": "23b2d57d",
   "metadata": {},
   "source": [
    "## 1.2 Renomeação de Colunas"
   ]
  },
  {
   "cell_type": "code",
   "execution_count": 5,
   "id": "45644bfb",
   "metadata": {},
   "outputs": [
    {
     "data": {
      "text/plain": [
       "Index(['step', 'type', 'amount', 'name_orig', 'oldbalance_org',\n",
       "       'newbalance_orig', 'name_dest', 'oldbalance_dest', 'newbalance_dest',\n",
       "       'is_fraud', 'is_flagged_fraud'],\n",
       "      dtype='object')"
      ]
     },
     "execution_count": 5,
     "metadata": {},
     "output_type": "execute_result"
    }
   ],
   "source": [
    "# Snakecase\n",
    "snakecase = lambda x: inflection.underscore(x)\n",
    "\n",
    "# Alter name columns\n",
    "df.columns = list(map(snakecase, list(df.columns)))\n",
    "df.columns"
   ]
  },
  {
   "cell_type": "markdown",
   "id": "599e905b",
   "metadata": {},
   "source": [
    "## 1.3 Tipo de Dados"
   ]
  },
  {
   "cell_type": "code",
   "execution_count": 6,
   "id": "298d380b",
   "metadata": {},
   "outputs": [
    {
     "data": {
      "text/plain": [
       "step                  int64\n",
       "type                 object\n",
       "amount              float64\n",
       "name_orig            object\n",
       "oldbalance_org      float64\n",
       "newbalance_orig     float64\n",
       "name_dest            object\n",
       "oldbalance_dest     float64\n",
       "newbalance_dest     float64\n",
       "is_fraud              int64\n",
       "is_flagged_fraud      int64\n",
       "dtype: object"
      ]
     },
     "execution_count": 6,
     "metadata": {},
     "output_type": "execute_result"
    }
   ],
   "source": [
    "df.dtypes"
   ]
  },
  {
   "cell_type": "markdown",
   "id": "c956edb6",
   "metadata": {},
   "source": [
    "## 1.4 Verificação de Dados Ausentes"
   ]
  },
  {
   "cell_type": "code",
   "execution_count": 7,
   "id": "bbed8890",
   "metadata": {},
   "outputs": [
    {
     "data": {
      "text/plain": [
       "step                0\n",
       "type                0\n",
       "amount              0\n",
       "name_orig           0\n",
       "oldbalance_org      0\n",
       "newbalance_orig     0\n",
       "name_dest           0\n",
       "oldbalance_dest     0\n",
       "newbalance_dest     0\n",
       "is_fraud            0\n",
       "is_flagged_fraud    0\n",
       "dtype: int64"
      ]
     },
     "execution_count": 7,
     "metadata": {},
     "output_type": "execute_result"
    }
   ],
   "source": [
    "df.isna().sum()"
   ]
  },
  {
   "cell_type": "markdown",
   "id": "6e6143b9",
   "metadata": {},
   "source": [
    "## 1.5 Mudança do Tipo de Dados"
   ]
  },
  {
   "cell_type": "markdown",
   "id": "87cc218e",
   "metadata": {},
   "source": [
    "## 1.6 Estatística Descritiva"
   ]
  },
  {
   "cell_type": "markdown",
   "id": "95496ea8",
   "metadata": {},
   "source": [
    "### 1.6.1 Atributos Numéricos"
   ]
  },
  {
   "cell_type": "code",
   "execution_count": 8,
   "id": "34a7298f",
   "metadata": {},
   "outputs": [
    {
     "data": {
      "text/html": [
       "<div>\n",
       "<style scoped>\n",
       "    .dataframe tbody tr th:only-of-type {\n",
       "        vertical-align: middle;\n",
       "    }\n",
       "\n",
       "    .dataframe tbody tr th {\n",
       "        vertical-align: top;\n",
       "    }\n",
       "\n",
       "    .dataframe thead th {\n",
       "        text-align: right;\n",
       "    }\n",
       "</style>\n",
       "<table border=\"1\" class=\"dataframe\">\n",
       "  <thead>\n",
       "    <tr style=\"text-align: right;\">\n",
       "      <th></th>\n",
       "      <th>count</th>\n",
       "      <th>mean</th>\n",
       "      <th>std</th>\n",
       "      <th>min</th>\n",
       "      <th>25%</th>\n",
       "      <th>50%</th>\n",
       "      <th>75%</th>\n",
       "      <th>max</th>\n",
       "      <th>kurtosis</th>\n",
       "      <th>skew</th>\n",
       "    </tr>\n",
       "  </thead>\n",
       "  <tbody>\n",
       "    <tr>\n",
       "      <th>step</th>\n",
       "      <td>6362620.0</td>\n",
       "      <td>2.433972e+02</td>\n",
       "      <td>1.423320e+02</td>\n",
       "      <td>1.0</td>\n",
       "      <td>156.00</td>\n",
       "      <td>239.000</td>\n",
       "      <td>3.350000e+02</td>\n",
       "      <td>7.430000e+02</td>\n",
       "      <td>0.329071</td>\n",
       "      <td>0.375177</td>\n",
       "    </tr>\n",
       "    <tr>\n",
       "      <th>amount</th>\n",
       "      <td>6362620.0</td>\n",
       "      <td>1.798619e+05</td>\n",
       "      <td>6.038582e+05</td>\n",
       "      <td>0.0</td>\n",
       "      <td>13389.57</td>\n",
       "      <td>74871.940</td>\n",
       "      <td>2.087215e+05</td>\n",
       "      <td>9.244552e+07</td>\n",
       "      <td>1797.956705</td>\n",
       "      <td>30.993949</td>\n",
       "    </tr>\n",
       "    <tr>\n",
       "      <th>oldbalance_org</th>\n",
       "      <td>6362620.0</td>\n",
       "      <td>8.338831e+05</td>\n",
       "      <td>2.888243e+06</td>\n",
       "      <td>0.0</td>\n",
       "      <td>0.00</td>\n",
       "      <td>14208.000</td>\n",
       "      <td>1.073152e+05</td>\n",
       "      <td>5.958504e+07</td>\n",
       "      <td>32.964879</td>\n",
       "      <td>5.249136</td>\n",
       "    </tr>\n",
       "    <tr>\n",
       "      <th>newbalance_orig</th>\n",
       "      <td>6362620.0</td>\n",
       "      <td>8.551137e+05</td>\n",
       "      <td>2.924049e+06</td>\n",
       "      <td>0.0</td>\n",
       "      <td>0.00</td>\n",
       "      <td>0.000</td>\n",
       "      <td>1.442584e+05</td>\n",
       "      <td>4.958504e+07</td>\n",
       "      <td>32.066985</td>\n",
       "      <td>5.176884</td>\n",
       "    </tr>\n",
       "    <tr>\n",
       "      <th>oldbalance_dest</th>\n",
       "      <td>6362620.0</td>\n",
       "      <td>1.100702e+06</td>\n",
       "      <td>3.399180e+06</td>\n",
       "      <td>0.0</td>\n",
       "      <td>0.00</td>\n",
       "      <td>132705.665</td>\n",
       "      <td>9.430367e+05</td>\n",
       "      <td>3.560159e+08</td>\n",
       "      <td>948.674125</td>\n",
       "      <td>19.921758</td>\n",
       "    </tr>\n",
       "    <tr>\n",
       "      <th>newbalance_dest</th>\n",
       "      <td>6362620.0</td>\n",
       "      <td>1.224996e+06</td>\n",
       "      <td>3.674129e+06</td>\n",
       "      <td>0.0</td>\n",
       "      <td>0.00</td>\n",
       "      <td>214661.440</td>\n",
       "      <td>1.111909e+06</td>\n",
       "      <td>3.561793e+08</td>\n",
       "      <td>862.156508</td>\n",
       "      <td>19.352302</td>\n",
       "    </tr>\n",
       "    <tr>\n",
       "      <th>is_fraud</th>\n",
       "      <td>6362620.0</td>\n",
       "      <td>1.290820e-03</td>\n",
       "      <td>3.590480e-02</td>\n",
       "      <td>0.0</td>\n",
       "      <td>0.00</td>\n",
       "      <td>0.000</td>\n",
       "      <td>0.000000e+00</td>\n",
       "      <td>1.000000e+00</td>\n",
       "      <td>769.702982</td>\n",
       "      <td>27.779538</td>\n",
       "    </tr>\n",
       "    <tr>\n",
       "      <th>is_flagged_fraud</th>\n",
       "      <td>6362620.0</td>\n",
       "      <td>2.514687e-06</td>\n",
       "      <td>1.585775e-03</td>\n",
       "      <td>0.0</td>\n",
       "      <td>0.00</td>\n",
       "      <td>0.000</td>\n",
       "      <td>0.000000e+00</td>\n",
       "      <td>1.000000e+00</td>\n",
       "      <td>397659.062500</td>\n",
       "      <td>630.603629</td>\n",
       "    </tr>\n",
       "  </tbody>\n",
       "</table>\n",
       "</div>"
      ],
      "text/plain": [
       "                      count          mean           std  min       25%  \\\n",
       "step              6362620.0  2.433972e+02  1.423320e+02  1.0    156.00   \n",
       "amount            6362620.0  1.798619e+05  6.038582e+05  0.0  13389.57   \n",
       "oldbalance_org    6362620.0  8.338831e+05  2.888243e+06  0.0      0.00   \n",
       "newbalance_orig   6362620.0  8.551137e+05  2.924049e+06  0.0      0.00   \n",
       "oldbalance_dest   6362620.0  1.100702e+06  3.399180e+06  0.0      0.00   \n",
       "newbalance_dest   6362620.0  1.224996e+06  3.674129e+06  0.0      0.00   \n",
       "is_fraud          6362620.0  1.290820e-03  3.590480e-02  0.0      0.00   \n",
       "is_flagged_fraud  6362620.0  2.514687e-06  1.585775e-03  0.0      0.00   \n",
       "\n",
       "                         50%           75%           max       kurtosis  \\\n",
       "step                 239.000  3.350000e+02  7.430000e+02       0.329071   \n",
       "amount             74871.940  2.087215e+05  9.244552e+07    1797.956705   \n",
       "oldbalance_org     14208.000  1.073152e+05  5.958504e+07      32.964879   \n",
       "newbalance_orig        0.000  1.442584e+05  4.958504e+07      32.066985   \n",
       "oldbalance_dest   132705.665  9.430367e+05  3.560159e+08     948.674125   \n",
       "newbalance_dest   214661.440  1.111909e+06  3.561793e+08     862.156508   \n",
       "is_fraud               0.000  0.000000e+00  1.000000e+00     769.702982   \n",
       "is_flagged_fraud       0.000  0.000000e+00  1.000000e+00  397659.062500   \n",
       "\n",
       "                        skew  \n",
       "step                0.375177  \n",
       "amount             30.993949  \n",
       "oldbalance_org      5.249136  \n",
       "newbalance_orig     5.176884  \n",
       "oldbalance_dest    19.921758  \n",
       "newbalance_dest    19.352302  \n",
       "is_fraud           27.779538  \n",
       "is_flagged_fraud  630.603629  "
      ]
     },
     "execution_count": 8,
     "metadata": {},
     "output_type": "execute_result"
    }
   ],
   "source": [
    "numerical = df.select_dtypes(include=['int64', 'float64'])  # Select numerical data\n",
    "describe = numerical.describe().T  # describe data\n",
    "\n",
    "describe['kurtosis'] = numerical.apply(lambda x: x.kurtosis())  # add kurtosis in describe\n",
    "describe['skew'] = numerical.apply(lambda x: x.skew())  # add skew in describe\n",
    "\n",
    "describe"
   ]
  },
  {
   "cell_type": "markdown",
   "id": "cb5935d1",
   "metadata": {},
   "source": [
    "**Insight:**\n",
    "\n",
    "<ins>Distribuição</ins>: Há pessoas que fizeram transação com valor de 0 no total, e pessoas que fizeram transação sem dinheiro na conta. O valor máximo de uma transação foi de 92 milhões, um range de transações muito grande.No geral todas as variaveis numéricas estão com um range grande com valores muito altos e nenhuma está seguindo uma distribuição normal.\n",
    "\n",
    "<ins>Negócio</ins>: A média do valor das transações é de 100 mil, valores extremos aumentaram o valor da transação média. 50% das transações são feitas em cerca de 74 mil e 50% das contas de quem fez a transação restou 14 mil de saldo final. Em relação a fraude, mias de 75% dos casos são de transações legais e dentro do padrão. "
   ]
  },
  {
   "cell_type": "markdown",
   "id": "cf564c30",
   "metadata": {},
   "source": [
    "### 1.6.2 Atributos Categóricos"
   ]
  },
  {
   "cell_type": "code",
   "execution_count": 9,
   "id": "6571dbc8",
   "metadata": {},
   "outputs": [
    {
     "data": {
      "image/png": "[encoded data removed]",
      "text/plain": [
       "<Figure size 1080x360 with 1 Axes>"
      ]
     },
     "metadata": {
      "needs_background": "light"
     },
     "output_type": "display_data"
    }
   ],
   "source": [
    "# Select categorical data\n",
    "categorical = df.select_dtypes(include=['object'])\n",
    "\n",
    "# Count unique values \n",
    "values_cat = categorical.apply(lambda x: len(x.unique())).sort_values(ascending=False)\n",
    "\n",
    "# Figure\n",
    "plt.figure(figsize=(15, 5))\n",
    "sns.barplot(x=values_cat.index, y=values_cat.values);"
   ]
  },
  {
   "cell_type": "markdown",
   "id": "da6f95ef",
   "metadata": {},
   "source": [
    "**Insight:**\n",
    "\n",
    "Os atributos categóricos possuem um grande range de possíveis valores, com exceção do tipo da transação."
   ]
  },
  {
   "cell_type": "markdown",
   "id": "063f8f10",
   "metadata": {},
   "source": [
    "# 2.0 FEATURE ENGINEERING"
   ]
  },
  {
   "cell_type": "markdown",
   "id": "c1567cb3",
   "metadata": {},
   "source": [
    "## 2.1 Mapa Mental de Hipóteses"
   ]
  },
  {
   "cell_type": "markdown",
   "id": "602f701a",
   "metadata": {},
   "source": [
    "<p align=\"center\">\n",
    "  <img src=\"../img/mind_map.png\" width=\"1000\" title=\"mind-map\">\n",
    "</p>"
   ]
  },
  {
   "cell_type": "markdown",
   "id": "349e2c1d",
   "metadata": {},
   "source": [
    "## 2.2 Hipóteses"
   ]
  },
  {
   "cell_type": "markdown",
   "id": "ffd948dd",
   "metadata": {},
   "source": [
    "### 2.2.1 Hipóteses Período"
   ]
  },
  {
   "cell_type": "markdown",
   "id": "d4c5916d",
   "metadata": {},
   "source": [
    "**1.** Fraudes acontecem mais no final de semana.\n",
    "\n",
    "**2.** Fraudes acontecem mais em época de Black Friday.\n",
    "\n",
    "**3.** Fraudes acontecem mais em feriados."
   ]
  },
  {
   "cell_type": "markdown",
   "id": "1fe3a66e",
   "metadata": {},
   "source": [
    "### 2.2.2 Hipóteses Transação"
   ]
  },
  {
   "cell_type": "markdown",
   "id": "fe02d19f",
   "metadata": {},
   "source": [
    "**1.** Fraudes acontecem mais em pagamentos de crédito.\n",
    "\n",
    "**2.** Transações maiores que 50% do saldo bancario são fraudes.\n",
    "\n",
    "**3.** A maior parte de transações feitas superior que 80mil, são fraudes.\n",
    "\n",
    "**4.** Contas de origem que ficaram zeradas após as transações, são fraudes."
   ]
  },
  {
   "cell_type": "markdown",
   "id": "c615fdfa",
   "metadata": {},
   "source": [
    "### 2.2.3 Hipóteses Cliente"
   ]
  },
  {
   "cell_type": "markdown",
   "id": "46c2e4ad",
   "metadata": {},
   "source": [
    "**1.** Há maior quantidade de fraudes em contas de pessoas físicas.\n",
    "\n",
    "**2.** Há maior quantidade de fraudes em contas de pessoas com alto poder aquisitivo.\n",
    "\n",
    "**3.** Há maior quantidade de fraudes em transações de pessoa física para juridica."
   ]
  },
  {
   "cell_type": "markdown",
   "id": "8913b727",
   "metadata": {},
   "source": [
    "## 2.3 Lista Final de Hipóteses"
   ]
  },
  {
   "cell_type": "markdown",
   "id": "8f19792c",
   "metadata": {},
   "source": [
    "**1.** Fraudes acontecem mais em pagamentos de crédito.\n",
    "\n",
    "**2.** Transações maiores que 50% do saldo bancario são fraudes.\n",
    "\n",
    "**3.** A maior parte de transações feitas superior que 80mil, são fraudes.\n",
    "\n",
    "**4.** Contas de origem que ficaram zeradas após as transações, são fraudes.\n",
    "\n",
    "**5.** Há maior quantidade de fraudes em contas de pessoas físicas.\n",
    "\n",
    "**6.** Há maior quantidade de fraudes em contas de pessoas com alto poder aquisitivo.\n",
    "\n",
    "**7.** Há maior quantidade de fraudes em transações de pessoa física para juridica."
   ]
  },
  {
   "cell_type": "markdown",
   "id": "a5702e10",
   "metadata": {},
   "source": [
    "## 2.3 Feature Engineering"
   ]
  },
  {
   "cell_type": "code",
   "execution_count": 9,
   "id": "ecee6353",
   "metadata": {},
   "outputs": [],
   "source": [
    "# Copy dataframe\n",
    "df2 = df.copy()\n",
    "\n",
    "# greater_50 - describe if the transaction is greater than 50% of the balance (yes or no)\n",
    "df2['greater_50%'] = df2[['amount', 'oldbalance_org']].apply(\n",
    "    lambda x: 'yes' if x['amount'] / 2 > x['oldbalance_org'] else 'no', axis=1\n",
    "    )\n",
    "\n",
    "# purchasing_power_org - describe the purchasing power of the origin transaction\n",
    "average_salary = 3400\n",
    "median_salary = df2['oldbalance_org'].median()\n",
    "\n",
    "df2['purchasing_power_org'] = df2['oldbalance_org'].apply(\n",
    "    lambda x: 'low' if x <= average_salary else 'average' \n",
    "                    if x > average_salary and x <= median_salary else 'high'\n",
    "                )\n",
    "\n",
    "# type_transaction - describe the type of transaction C = Customer and M = Merchants\n",
    "df2['type_transaction'] = df2[['name_orig', 'name_dest']].apply(\n",
    "    lambda x: 'C to C' if x['name_orig'][0] == 'C' and x['name_dest'][0] == 'C' else 'M to M' \n",
    "                       if x['name_orig'][0] == 'M' and x['name_dest'][0] == 'M' else 'C to M' \n",
    "                       if x['name_orig'][0] == 'C' and x['name_dest'][0] == 'M' else 'M to C' \n",
    "                       if x['name_orig'][0] == 'M' and x['name_dest'][0] == 'C' else None, axis=1\n",
    "                    )\n",
    "\n",
    "# type_amount - Describe is amount is greater than 80K (greater or less)\n",
    "df2['type_amount'] = df2['amount'].apply(lambda x: 'greater' if x > 80000 else 'less')"
   ]
  },
  {
   "cell_type": "markdown",
   "id": "d86107a1",
   "metadata": {},
   "source": [
    "# 3.0 FILTRAGEM DE DADOS"
   ]
  },
  {
   "cell_type": "markdown",
   "id": "45735526",
   "metadata": {},
   "source": [
    "## 3.1 Filtragem de Linhas"
   ]
  },
  {
   "cell_type": "markdown",
   "id": "e7546e91",
   "metadata": {},
   "source": [
    "## 3.2 Filtragem de Colunas"
   ]
  },
  {
   "cell_type": "markdown",
   "id": "aa989abf",
   "metadata": {},
   "source": [
    "# 4.0 EDA"
   ]
  },
  {
   "cell_type": "markdown",
   "id": "a6d68385",
   "metadata": {},
   "source": [
    "## 4.1 Análise Univariada"
   ]
  },
  {
   "cell_type": "markdown",
   "id": "37e26a22",
   "metadata": {},
   "source": [
    "### 4.1.1 Variável Resposta"
   ]
  },
  {
   "cell_type": "code",
   "execution_count": 10,
   "id": "4e66c7e0",
   "metadata": {},
   "outputs": [
    {
     "data": {
      "image/png": "[encoded data removed]",
      "text/plain": [
       "<Figure size 1080x360 with 1 Axes>"
      ]
     },
     "metadata": {
      "needs_background": "light"
     },
     "output_type": "display_data"
    }
   ],
   "source": [
    "# Copy dataframe\n",
    "df4 = df2.copy()\n",
    "\n",
    "# Figure \n",
    "plt.figure(figsize=(15, 5))\n",
    "sns.countplot(x='is_fraud', data=df4);"
   ]
  },
  {
   "cell_type": "markdown",
   "id": "ad19cacc",
   "metadata": {},
   "source": [
    "**Insight:**\n",
    "\n",
    "Apenas 1º das transações são de fraude e 99% normais. Há um alto desbalanceamento de dados, visto que há um numero muito pequeno de fraudes."
   ]
  },
  {
   "cell_type": "markdown",
   "id": "9f2f351b",
   "metadata": {},
   "source": [
    "### 4.1.2 Variável Numérica"
   ]
  },
  {
   "cell_type": "markdown",
   "id": "b4675073",
   "metadata": {},
   "source": [
    "#### 4.1.2.1 Distribuição"
   ]
  },
  {
   "cell_type": "code",
   "execution_count": 12,
   "id": "adba14de",
   "metadata": {},
   "outputs": [
    {
     "data": {
      "image/png": "[encoded data removed]",
      "text/plain": [
       "<Figure size 1080x1080 with 9 Axes>"
      ]
     },
     "metadata": {
      "needs_background": "light"
     },
     "output_type": "display_data"
    }
   ],
   "source": [
    "# Filter numerical atributes\n",
    "num = df4.select_dtypes(include=['int64', 'float64']).drop(columns=['is_fraud'])\n",
    "\n",
    "# Figure\n",
    "num.hist(grid=False, bins=20, ec='k', figsize=(15, 15));"
   ]
  },
  {
   "cell_type": "markdown",
   "id": "a7df64de",
   "metadata": {},
   "source": [
    "**Insight:**\n",
    "\n",
    "No geral, as variavies numéricas não possuem tanto comportamento, estão com as distribuições mais concentradas em torno do zero, devido a possuir alta quantidade de informações com zero, deslocando as distribuições para a esquerda com um alto pico. A exceção é o atributo <ins>step</ins> que há maior comportamento e posui uma distribuição maior em valores entre 0 a 400. Os atributos estão longe de uma distribuição normal."
   ]
  },
  {
   "cell_type": "markdown",
   "id": "96936d13",
   "metadata": {},
   "source": [
    "#### 4.1.2.2 Outliers"
   ]
  },
  {
   "cell_type": "code",
   "execution_count": 13,
   "id": "b08d9800",
   "metadata": {},
   "outputs": [
    {
     "data": {
      "image/png": "[encoded data removed]",
      "text/plain": [
       "<Figure size 1080x360 with 3 Axes>"
      ]
     },
     "metadata": {
      "needs_background": "light"
     },
     "output_type": "display_data"
    },
    {
     "data": {
      "image/png": "[encoded data removed]",
      "text/plain": [
       "<Figure size 1080x360 with 3 Axes>"
      ]
     },
     "metadata": {
      "needs_background": "light"
     },
     "output_type": "display_data"
    }
   ],
   "source": [
    "# Drop column\n",
    "num = num.drop(columns='is_flagged_fraud')\n",
    "\n",
    "# Filter values \n",
    "amount = num[num['amount'] > 1]['amount']\n",
    "oldbalance_org = num[num['oldbalance_org'] > 1]['oldbalance_org']\n",
    "newbalance_orig = num[num['newbalance_orig'] > 1]['newbalance_orig']\n",
    "oldbalance_dest = num[num['oldbalance_dest'] > 1]['oldbalance_dest']\n",
    "newbalance_dest = num[num['newbalance_dest'] > 1]['newbalance_dest']\n",
    "\n",
    "# Create figures\n",
    "plot_boxplot(x1=num['step'], x2=amount, x3=oldbalance_org, data=num)\n",
    "plot_boxplot(x1=newbalance_orig, x2=oldbalance_dest, x3=newbalance_dest, data=num)"
   ]
  },
  {
   "cell_type": "markdown",
   "id": "36e1dc20",
   "metadata": {},
   "source": [
    "**Insight:**"
   ]
  },
  {
   "cell_type": "markdown",
   "id": "b36f74cc",
   "metadata": {},
   "source": [
    "### 4.1.3 Variável Categórica"
   ]
  },
  {
   "cell_type": "code",
   "execution_count": 14,
   "id": "aa5cb798",
   "metadata": {},
   "outputs": [
    {
     "data": {
      "image/png": "[encoded data removed]",
      "text/plain": [
       "<Figure size 1080x720 with 4 Axes>"
      ]
     },
     "metadata": {
      "needs_background": "light"
     },
     "output_type": "display_data"
    }
   ],
   "source": [
    "# Filter categorical atributes\n",
    "cat = df4.select_dtypes(include=['object'])\n",
    "\n",
    "# Figure 1\n",
    "plt.figure(figsize=(15, 10))\n",
    "plt.subplot(2, 2, 1)\n",
    "sns.countplot(x='type', data=cat, order=list(cat['type'].value_counts().sort_values(ascending=False).index))\n",
    "\n",
    "# Figure 2\n",
    "plt.subplot(2, 2, 2)\n",
    "sns.countplot(x='greater_50%', data=cat, order=['yes', 'no'])\n",
    "\n",
    "# Figure 3\n",
    "plt.subplot(2, 2, 3)\n",
    "sns.countplot(x='purchasing_power_org', data=cat)\n",
    "\n",
    "# Figure 4\n",
    "plt.subplot(2, 2, 4)\n",
    "sns.countplot(x='type_transaction', data=cat, order=['C to C', 'C to M']);"
   ]
  },
  {
   "cell_type": "markdown",
   "id": "32d73fd4",
   "metadata": {},
   "source": [
    "**Insight:**\n",
    "\n",
    "A maior parte das transações são feitas de saques e de pagamentos, e a minoria é feita de débito. A maior parte das pessoas realizam transações maiores que 50% de seu saldo na conta. Também, a maior quantidade das pessoas/comercios que fazem transações possuem um alto poder aquisitivo e  grande parte das transações são de clientes para clientes."
   ]
  },
  {
   "cell_type": "markdown",
   "id": "a80bf8d5",
   "metadata": {},
   "source": [
    "## 4.2 Análise Bivariada"
   ]
  },
  {
   "cell_type": "markdown",
   "id": "34aa1991",
   "metadata": {},
   "source": [
    "### H1.  Fraudes acontecem mais em transações de débito.\n",
    "\n",
    "**FALSA** Fraudes acontecem mais em transações de <ins>Transferencia</ins> e <ins>Cash Out</ins>."
   ]
  },
  {
   "cell_type": "code",
   "execution_count": 15,
   "id": "f3f696a5",
   "metadata": {},
   "outputs": [
    {
     "data": {
      "image/png": "[encoded data removed]",
      "text/plain": [
       "<Figure size 1080x360 with 2 Axes>"
      ]
     },
     "metadata": {
      "needs_background": "light"
     },
     "output_type": "display_data"
    }
   ],
   "source": [
    "plt.figure(figsize=(15, 5))\n",
    "plt.subplot(1, 2, 1)\n",
    "sns.countplot(x='type', data=df4, hue='is_fraud')\n",
    "plt.ylabel('Qauntity')\n",
    "plt.title('Transaction type by Fraud')\n",
    "\n",
    "plt.subplot(1, 2, 2)\n",
    "filter_fraud = df4[df4['is_fraud'] == 1]\n",
    "sns.countplot(x='type', data=filter_fraud)\n",
    "plt.ylabel('Qauntity')\n",
    "plt.title('Transaction type by Fraud = True');"
   ]
  },
  {
   "cell_type": "markdown",
   "id": "f2fa275c",
   "metadata": {},
   "source": [
    "### H2. Transações maiores que 50% do saldo bancario são fraudes.\n",
    "\n",
    "**FALSA** A maior parte das transações que são maiores que 50% do saldo bancario, <ins>não</ins> são fraudes."
   ]
  },
  {
   "cell_type": "code",
   "execution_count": 16,
   "id": "423df24a",
   "metadata": {},
   "outputs": [
    {
     "data": {
      "image/png": "[encoded data removed]",
      "text/plain": [
       "<Figure size 1080x360 with 1 Axes>"
      ]
     },
     "metadata": {
      "needs_background": "light"
     },
     "output_type": "display_data"
    }
   ],
   "source": [
    "plt.figure(figsize=(15, 5))\n",
    "sns.countplot(x='greater_50%', data=df4, hue='is_fraud')\n",
    "plt.ylabel('Qauntity')\n",
    "plt.title('Transaction above 50% by Fraud');"
   ]
  },
  {
   "cell_type": "markdown",
   "id": "c878b2e5",
   "metadata": {},
   "source": [
    "### H3. A maior parte de transações feitas superior que 80mil, são fraudes.\n",
    "\n",
    "**VERDADEIRA** A maior parte das transações feitas sendo maiores que 80 mil, são fraudes."
   ]
  },
  {
   "cell_type": "code",
   "execution_count": 17,
   "id": "77c5bc30",
   "metadata": {},
   "outputs": [
    {
     "data": {
      "image/png": "[encoded data removed]",
      "text/plain": [
       "<Figure size 1080x360 with 2 Axes>"
      ]
     },
     "metadata": {
      "needs_background": "light"
     },
     "output_type": "display_data"
    }
   ],
   "source": [
    "# Group median amount by fraud\n",
    "median_group = df4['amount'].groupby(df['is_fraud']).median().reset_index()\n",
    "\n",
    "# Figure 1\n",
    "plt.figure(figsize=(15, 5))\n",
    "plt.subplot(1, 2, 1)\n",
    "sns.barplot(x='is_fraud', y='amount', data=median_group)\n",
    "plt.title('Median Transaction Amount by Fraud')\n",
    "\n",
    "# Figure 2\n",
    "plt.subplot(1, 2, 2)\n",
    "sns.countplot(x='type_amount', data=df4, hue='is_fraud')\n",
    "plt.ylabel('Qauntity')\n",
    "plt.title('');"
   ]
  },
  {
   "cell_type": "markdown",
   "id": "6f8d4fa9",
   "metadata": {},
   "source": [
    "### H4.  Contas de origem que ficaram zeradas após as transações, são fraudes.\n",
    "\n",
    "**FALSA** A maior parte das transações em que o saldo final da conta de origem ficou zerada, não foi fraude."
   ]
  },
  {
   "cell_type": "code",
   "execution_count": 18,
   "id": "0738040e",
   "metadata": {},
   "outputs": [
    {
     "data": {
      "image/png": "[encoded data removed]",
      "text/plain": [
       "<Figure size 1080x360 with 1 Axes>"
      ]
     },
     "metadata": {
      "needs_background": "light"
     },
     "output_type": "display_data"
    }
   ],
   "source": [
    "newbalance_orig_zero = df4[df4['newbalance_orig'] == 0]\n",
    "\n",
    "plt.figure(figsize=(15, 5))\n",
    "sns.countplot(x='newbalance_orig', data=newbalance_orig_zero, hue='is_fraud')\n",
    "plt.ylabel('Quanity')\n",
    "plt.title('New zeroed origin balance by Fraud');"
   ]
  },
  {
   "cell_type": "markdown",
   "id": "c4e5953b",
   "metadata": {},
   "source": [
    "### H5. <ins>Há maior quantidade de fraudes em contas de pessoas físicas.</ins> (VERIFICAR)"
   ]
  },
  {
   "cell_type": "markdown",
   "id": "cd18aebf",
   "metadata": {},
   "source": [
    "### H6. Há maior quantidade de fraudes em contas de pessoas com alto poder aquisitivo.\n",
    "\n",
    "**VERDADEIRA** Há maior quantidade de fraudes em contas de pessoas com <ins>alto</ins> poder aquisitivo."
   ]
  },
  {
   "cell_type": "code",
   "execution_count": 19,
   "id": "f1ead24d",
   "metadata": {},
   "outputs": [
    {
     "data": {
      "image/png": "[encoded data removed]",
      "text/plain": [
       "<Figure size 1080x432 with 1 Axes>"
      ]
     },
     "metadata": {
      "needs_background": "light"
     },
     "output_type": "display_data"
    }
   ],
   "source": [
    "plt.figure(figsize=(15, 6))\n",
    "sns.countplot(x='purchasing_power_org', data=df4, hue='is_fraud', order=['high', 'average', 'low']);"
   ]
  },
  {
   "cell_type": "markdown",
   "id": "9cec4010",
   "metadata": {},
   "source": [
    "### H7. Há maior quantidade de fraudes em transações de pessoa física para juridica.\n",
    "\n",
    "**FALSA** Há maior quantidade de fraudes em transações de <ins>clientes para clientes</ins>."
   ]
  },
  {
   "cell_type": "code",
   "execution_count": 20,
   "id": "ce4666ea",
   "metadata": {},
   "outputs": [
    {
     "data": {
      "image/png": "[encoded data removed]",
      "text/plain": [
       "<Figure size 1080x432 with 1 Axes>"
      ]
     },
     "metadata": {
      "needs_background": "light"
     },
     "output_type": "display_data"
    }
   ],
   "source": [
    "plt.figure(figsize=(15, 6))\n",
    "sns.countplot(x='type_transaction', data=df4, hue='is_fraud');"
   ]
  },
  {
   "cell_type": "markdown",
   "id": "c10a5851",
   "metadata": {},
   "source": [
    "## 4.3 Análise Multivariada"
   ]
  },
  {
   "cell_type": "markdown",
   "id": "5f57ea13",
   "metadata": {},
   "source": [
    "### 4.3.1 Variável Numérica"
   ]
  },
  {
   "cell_type": "code",
   "execution_count": 21,
   "id": "b4629d06",
   "metadata": {},
   "outputs": [
    {
     "data": {
      "image/png": "[encoded data removed]",
      "text/plain": [
       "<Figure size 1080x432 with 2 Axes>"
      ]
     },
     "metadata": {
      "needs_background": "light"
     },
     "output_type": "display_data"
    }
   ],
   "source": [
    "# filter numerical data\n",
    "numerical = df4.select_dtypes(include=['int64', 'float64'])\n",
    "\n",
    "plt.figure(figsize=(15, 6))\n",
    "sns.heatmap(numerical.corr(method='pearson'), annot=True)\n",
    "plt.title('Correlação de variaveis numéricas');"
   ]
  },
  {
   "cell_type": "markdown",
   "id": "ba706414",
   "metadata": {},
   "source": [
    "**Insight:**\n",
    "\n",
    "Como já esperado, há correlações entre saldo do novo balanço e o antigo junto com valor da transaçãoom."
   ]
  },
  {
   "cell_type": "markdown",
   "id": "3d3aef01",
   "metadata": {},
   "source": [
    "### 4.3.2 Variável Categórica"
   ]
  },
  {
   "cell_type": "code",
   "execution_count": 22,
   "id": "d06a7aa9",
   "metadata": {},
   "outputs": [
    {
     "ename": "KeyboardInterrupt",
     "evalue": "",
     "output_type": "error",
     "traceback": [
      "\u001b[1;31m---------------------------------------------------------------------------\u001b[0m",
      "\u001b[1;31mKeyboardInterrupt\u001b[0m                         Traceback (most recent call last)",
      "\u001b[1;32mC:\\Users\\JHONAT~1\\AppData\\Local\\Temp/ipykernel_11100/3462499718.py\u001b[0m in \u001b[0;36m<module>\u001b[1;34m\u001b[0m\n\u001b[0;32m      1\u001b[0m \u001b[1;31m# Categorical data\u001b[0m\u001b[1;33m\u001b[0m\u001b[1;33m\u001b[0m\u001b[1;33m\u001b[0m\u001b[0m\n\u001b[1;32m----> 2\u001b[1;33m \u001b[0mcategorical\u001b[0m \u001b[1;33m=\u001b[0m \u001b[0mdf4\u001b[0m\u001b[1;33m.\u001b[0m\u001b[0mselect_dtypes\u001b[0m\u001b[1;33m(\u001b[0m\u001b[0minclude\u001b[0m\u001b[1;33m=\u001b[0m\u001b[1;33m[\u001b[0m\u001b[1;34m'object'\u001b[0m\u001b[1;33m]\u001b[0m\u001b[1;33m)\u001b[0m\u001b[1;33m\u001b[0m\u001b[1;33m\u001b[0m\u001b[0m\n\u001b[0m\u001b[0;32m      3\u001b[0m \u001b[1;33m\u001b[0m\u001b[0m\n\u001b[0;32m      4\u001b[0m \u001b[1;31m# Apply correlation categories\u001b[0m\u001b[1;33m\u001b[0m\u001b[1;33m\u001b[0m\u001b[1;33m\u001b[0m\u001b[0m\n\u001b[0;32m      5\u001b[0m \u001b[0mmatrix\u001b[0m \u001b[1;33m=\u001b[0m \u001b[0mshow_matrix\u001b[0m\u001b[1;33m(\u001b[0m\u001b[0mdata\u001b[0m\u001b[1;33m=\u001b[0m\u001b[0mcategorical\u001b[0m\u001b[1;33m,\u001b[0m \u001b[0mcol\u001b[0m\u001b[1;33m=\u001b[0m\u001b[1;34m'type'\u001b[0m\u001b[1;33m,\u001b[0m \u001b[0moutput\u001b[0m\u001b[1;33m=\u001b[0m\u001b[1;34m'dict'\u001b[0m\u001b[1;33m)\u001b[0m\u001b[1;33m\u001b[0m\u001b[1;33m\u001b[0m\u001b[0m\n",
      "\u001b[1;32mc:\\users\\jhonatans\\appdata\\local\\programs\\python\\python39\\lib\\site-packages\\pandas\\core\\frame.py\u001b[0m in \u001b[0;36mselect_dtypes\u001b[1;34m(self, include, exclude)\u001b[0m\n\u001b[0;32m   4352\u001b[0m \u001b[1;33m\u001b[0m\u001b[0m\n\u001b[0;32m   4353\u001b[0m         \u001b[1;31m# error: \"ndarray\" has no attribute \"values\"\u001b[0m\u001b[1;33m\u001b[0m\u001b[1;33m\u001b[0m\u001b[1;33m\u001b[0m\u001b[0m\n\u001b[1;32m-> 4354\u001b[1;33m         \u001b[1;32mreturn\u001b[0m \u001b[0mself\u001b[0m\u001b[1;33m.\u001b[0m\u001b[0miloc\u001b[0m\u001b[1;33m[\u001b[0m\u001b[1;33m:\u001b[0m\u001b[1;33m,\u001b[0m \u001b[0mkeep_these\u001b[0m\u001b[1;33m.\u001b[0m\u001b[0mvalues\u001b[0m\u001b[1;33m]\u001b[0m  \u001b[1;31m# type: ignore[attr-defined]\u001b[0m\u001b[1;33m\u001b[0m\u001b[1;33m\u001b[0m\u001b[0m\n\u001b[0m\u001b[0;32m   4355\u001b[0m \u001b[1;33m\u001b[0m\u001b[0m\n\u001b[0;32m   4356\u001b[0m     \u001b[1;32mdef\u001b[0m \u001b[0minsert\u001b[0m\u001b[1;33m(\u001b[0m\u001b[0mself\u001b[0m\u001b[1;33m,\u001b[0m \u001b[0mloc\u001b[0m\u001b[1;33m,\u001b[0m \u001b[0mcolumn\u001b[0m\u001b[1;33m,\u001b[0m \u001b[0mvalue\u001b[0m\u001b[1;33m,\u001b[0m \u001b[0mallow_duplicates\u001b[0m\u001b[1;33m:\u001b[0m \u001b[0mbool\u001b[0m \u001b[1;33m=\u001b[0m \u001b[1;32mFalse\u001b[0m\u001b[1;33m)\u001b[0m \u001b[1;33m->\u001b[0m \u001b[1;32mNone\u001b[0m\u001b[1;33m:\u001b[0m\u001b[1;33m\u001b[0m\u001b[1;33m\u001b[0m\u001b[0m\n",
      "\u001b[1;32mc:\\users\\jhonatans\\appdata\\local\\programs\\python\\python39\\lib\\site-packages\\pandas\\core\\indexing.py\u001b[0m in \u001b[0;36m__getitem__\u001b[1;34m(self, key)\u001b[0m\n\u001b[0;32m    923\u001b[0m                 \u001b[1;32mwith\u001b[0m \u001b[0msuppress\u001b[0m\u001b[1;33m(\u001b[0m\u001b[0mKeyError\u001b[0m\u001b[1;33m,\u001b[0m \u001b[0mIndexError\u001b[0m\u001b[1;33m)\u001b[0m\u001b[1;33m:\u001b[0m\u001b[1;33m\u001b[0m\u001b[1;33m\u001b[0m\u001b[0m\n\u001b[0;32m    924\u001b[0m                     \u001b[1;32mreturn\u001b[0m \u001b[0mself\u001b[0m\u001b[1;33m.\u001b[0m\u001b[0mobj\u001b[0m\u001b[1;33m.\u001b[0m\u001b[0m_get_value\u001b[0m\u001b[1;33m(\u001b[0m\u001b[1;33m*\u001b[0m\u001b[0mkey\u001b[0m\u001b[1;33m,\u001b[0m \u001b[0mtakeable\u001b[0m\u001b[1;33m=\u001b[0m\u001b[0mself\u001b[0m\u001b[1;33m.\u001b[0m\u001b[0m_takeable\u001b[0m\u001b[1;33m)\u001b[0m\u001b[1;33m\u001b[0m\u001b[1;33m\u001b[0m\u001b[0m\n\u001b[1;32m--> 925\u001b[1;33m             \u001b[1;32mreturn\u001b[0m \u001b[0mself\u001b[0m\u001b[1;33m.\u001b[0m\u001b[0m_getitem_tuple\u001b[0m\u001b[1;33m(\u001b[0m\u001b[0mkey\u001b[0m\u001b[1;33m)\u001b[0m\u001b[1;33m\u001b[0m\u001b[1;33m\u001b[0m\u001b[0m\n\u001b[0m\u001b[0;32m    926\u001b[0m         \u001b[1;32melse\u001b[0m\u001b[1;33m:\u001b[0m\u001b[1;33m\u001b[0m\u001b[1;33m\u001b[0m\u001b[0m\n\u001b[0;32m    927\u001b[0m             \u001b[1;31m# we by definition only have the 0th axis\u001b[0m\u001b[1;33m\u001b[0m\u001b[1;33m\u001b[0m\u001b[1;33m\u001b[0m\u001b[0m\n",
      "\u001b[1;32mc:\\users\\jhonatans\\appdata\\local\\programs\\python\\python39\\lib\\site-packages\\pandas\\core\\indexing.py\u001b[0m in \u001b[0;36m_getitem_tuple\u001b[1;34m(self, tup)\u001b[0m\n\u001b[0;32m   1508\u001b[0m             \u001b[1;32mreturn\u001b[0m \u001b[0mself\u001b[0m\u001b[1;33m.\u001b[0m\u001b[0m_getitem_lowerdim\u001b[0m\u001b[1;33m(\u001b[0m\u001b[0mtup\u001b[0m\u001b[1;33m)\u001b[0m\u001b[1;33m\u001b[0m\u001b[1;33m\u001b[0m\u001b[0m\n\u001b[0;32m   1509\u001b[0m \u001b[1;33m\u001b[0m\u001b[0m\n\u001b[1;32m-> 1510\u001b[1;33m         \u001b[1;32mreturn\u001b[0m \u001b[0mself\u001b[0m\u001b[1;33m.\u001b[0m\u001b[0m_getitem_tuple_same_dim\u001b[0m\u001b[1;33m(\u001b[0m\u001b[0mtup\u001b[0m\u001b[1;33m)\u001b[0m\u001b[1;33m\u001b[0m\u001b[1;33m\u001b[0m\u001b[0m\n\u001b[0m\u001b[0;32m   1511\u001b[0m \u001b[1;33m\u001b[0m\u001b[0m\n\u001b[0;32m   1512\u001b[0m     \u001b[1;32mdef\u001b[0m \u001b[0m_get_list_axis\u001b[0m\u001b[1;33m(\u001b[0m\u001b[0mself\u001b[0m\u001b[1;33m,\u001b[0m \u001b[0mkey\u001b[0m\u001b[1;33m,\u001b[0m \u001b[0maxis\u001b[0m\u001b[1;33m:\u001b[0m \u001b[0mint\u001b[0m\u001b[1;33m)\u001b[0m\u001b[1;33m:\u001b[0m\u001b[1;33m\u001b[0m\u001b[1;33m\u001b[0m\u001b[0m\n",
      "\u001b[1;32mc:\\users\\jhonatans\\appdata\\local\\programs\\python\\python39\\lib\\site-packages\\pandas\\core\\indexing.py\u001b[0m in \u001b[0;36m_getitem_tuple_same_dim\u001b[1;34m(self, tup)\u001b[0m\n\u001b[0;32m    804\u001b[0m                 \u001b[1;32mcontinue\u001b[0m\u001b[1;33m\u001b[0m\u001b[1;33m\u001b[0m\u001b[0m\n\u001b[0;32m    805\u001b[0m \u001b[1;33m\u001b[0m\u001b[0m\n\u001b[1;32m--> 806\u001b[1;33m             \u001b[0mretval\u001b[0m \u001b[1;33m=\u001b[0m \u001b[0mgetattr\u001b[0m\u001b[1;33m(\u001b[0m\u001b[0mretval\u001b[0m\u001b[1;33m,\u001b[0m \u001b[0mself\u001b[0m\u001b[1;33m.\u001b[0m\u001b[0mname\u001b[0m\u001b[1;33m)\u001b[0m\u001b[1;33m.\u001b[0m\u001b[0m_getitem_axis\u001b[0m\u001b[1;33m(\u001b[0m\u001b[0mkey\u001b[0m\u001b[1;33m,\u001b[0m \u001b[0maxis\u001b[0m\u001b[1;33m=\u001b[0m\u001b[0mi\u001b[0m\u001b[1;33m)\u001b[0m\u001b[1;33m\u001b[0m\u001b[1;33m\u001b[0m\u001b[0m\n\u001b[0m\u001b[0;32m    807\u001b[0m             \u001b[1;31m# We should never have retval.ndim < self.ndim, as that should\u001b[0m\u001b[1;33m\u001b[0m\u001b[1;33m\u001b[0m\u001b[1;33m\u001b[0m\u001b[0m\n\u001b[0;32m    808\u001b[0m             \u001b[1;31m#  be handled by the _getitem_lowerdim call above.\u001b[0m\u001b[1;33m\u001b[0m\u001b[1;33m\u001b[0m\u001b[1;33m\u001b[0m\u001b[0m\n",
      "\u001b[1;32mc:\\users\\jhonatans\\appdata\\local\\programs\\python\\python39\\lib\\site-packages\\pandas\\core\\indexing.py\u001b[0m in \u001b[0;36m_getitem_axis\u001b[1;34m(self, key, axis)\u001b[0m\n\u001b[0;32m   1551\u001b[0m         \u001b[1;32mif\u001b[0m \u001b[0mcom\u001b[0m\u001b[1;33m.\u001b[0m\u001b[0mis_bool_indexer\u001b[0m\u001b[1;33m(\u001b[0m\u001b[0mkey\u001b[0m\u001b[1;33m)\u001b[0m\u001b[1;33m:\u001b[0m\u001b[1;33m\u001b[0m\u001b[1;33m\u001b[0m\u001b[0m\n\u001b[0;32m   1552\u001b[0m             \u001b[0mself\u001b[0m\u001b[1;33m.\u001b[0m\u001b[0m_validate_key\u001b[0m\u001b[1;33m(\u001b[0m\u001b[0mkey\u001b[0m\u001b[1;33m,\u001b[0m \u001b[0maxis\u001b[0m\u001b[1;33m)\u001b[0m\u001b[1;33m\u001b[0m\u001b[1;33m\u001b[0m\u001b[0m\n\u001b[1;32m-> 1553\u001b[1;33m             \u001b[1;32mreturn\u001b[0m \u001b[0mself\u001b[0m\u001b[1;33m.\u001b[0m\u001b[0m_getbool_axis\u001b[0m\u001b[1;33m(\u001b[0m\u001b[0mkey\u001b[0m\u001b[1;33m,\u001b[0m \u001b[0maxis\u001b[0m\u001b[1;33m=\u001b[0m\u001b[0maxis\u001b[0m\u001b[1;33m)\u001b[0m\u001b[1;33m\u001b[0m\u001b[1;33m\u001b[0m\u001b[0m\n\u001b[0m\u001b[0;32m   1554\u001b[0m \u001b[1;33m\u001b[0m\u001b[0m\n\u001b[0;32m   1555\u001b[0m         \u001b[1;31m# a list of integers\u001b[0m\u001b[1;33m\u001b[0m\u001b[1;33m\u001b[0m\u001b[1;33m\u001b[0m\u001b[0m\n",
      "\u001b[1;32mc:\\users\\jhonatans\\appdata\\local\\programs\\python\\python39\\lib\\site-packages\\pandas\\core\\indexing.py\u001b[0m in \u001b[0;36m_getbool_axis\u001b[1;34m(self, key, axis)\u001b[0m\n\u001b[0;32m    948\u001b[0m         \u001b[0mkey\u001b[0m \u001b[1;33m=\u001b[0m \u001b[0mcheck_bool_indexer\u001b[0m\u001b[1;33m(\u001b[0m\u001b[0mlabels\u001b[0m\u001b[1;33m,\u001b[0m \u001b[0mkey\u001b[0m\u001b[1;33m)\u001b[0m\u001b[1;33m\u001b[0m\u001b[1;33m\u001b[0m\u001b[0m\n\u001b[0;32m    949\u001b[0m         \u001b[0minds\u001b[0m \u001b[1;33m=\u001b[0m \u001b[0mkey\u001b[0m\u001b[1;33m.\u001b[0m\u001b[0mnonzero\u001b[0m\u001b[1;33m(\u001b[0m\u001b[1;33m)\u001b[0m\u001b[1;33m[\u001b[0m\u001b[1;36m0\u001b[0m\u001b[1;33m]\u001b[0m\u001b[1;33m\u001b[0m\u001b[1;33m\u001b[0m\u001b[0m\n\u001b[1;32m--> 950\u001b[1;33m         \u001b[1;32mreturn\u001b[0m \u001b[0mself\u001b[0m\u001b[1;33m.\u001b[0m\u001b[0mobj\u001b[0m\u001b[1;33m.\u001b[0m\u001b[0m_take_with_is_copy\u001b[0m\u001b[1;33m(\u001b[0m\u001b[0minds\u001b[0m\u001b[1;33m,\u001b[0m \u001b[0maxis\u001b[0m\u001b[1;33m=\u001b[0m\u001b[0maxis\u001b[0m\u001b[1;33m)\u001b[0m\u001b[1;33m\u001b[0m\u001b[1;33m\u001b[0m\u001b[0m\n\u001b[0m\u001b[0;32m    951\u001b[0m \u001b[1;33m\u001b[0m\u001b[0m\n\u001b[0;32m    952\u001b[0m \u001b[1;33m\u001b[0m\u001b[0m\n",
      "\u001b[1;32mc:\\users\\jhonatans\\appdata\\local\\programs\\python\\python39\\lib\\site-packages\\pandas\\core\\generic.py\u001b[0m in \u001b[0;36m_take_with_is_copy\u001b[1;34m(self, indices, axis)\u001b[0m\n\u001b[0;32m   3623\u001b[0m         \u001b[0mSee\u001b[0m \u001b[0mthe\u001b[0m \u001b[0mdocstring\u001b[0m \u001b[0mof\u001b[0m\u001b[0;31m \u001b[0m\u001b[0;31m`\u001b[0m\u001b[0mtake\u001b[0m\u001b[0;31m`\u001b[0m \u001b[1;32mfor\u001b[0m \u001b[0mfull\u001b[0m \u001b[0mexplanation\u001b[0m \u001b[0mof\u001b[0m \u001b[0mthe\u001b[0m \u001b[0mparameters\u001b[0m\u001b[1;33m.\u001b[0m\u001b[1;33m\u001b[0m\u001b[1;33m\u001b[0m\u001b[0m\n\u001b[0;32m   3624\u001b[0m         \"\"\"\n\u001b[1;32m-> 3625\u001b[1;33m         \u001b[0mresult\u001b[0m \u001b[1;33m=\u001b[0m \u001b[0mself\u001b[0m\u001b[1;33m.\u001b[0m\u001b[0mtake\u001b[0m\u001b[1;33m(\u001b[0m\u001b[0mindices\u001b[0m\u001b[1;33m=\u001b[0m\u001b[0mindices\u001b[0m\u001b[1;33m,\u001b[0m \u001b[0maxis\u001b[0m\u001b[1;33m=\u001b[0m\u001b[0maxis\u001b[0m\u001b[1;33m)\u001b[0m\u001b[1;33m\u001b[0m\u001b[1;33m\u001b[0m\u001b[0m\n\u001b[0m\u001b[0;32m   3626\u001b[0m         \u001b[1;31m# Maybe set copy if we didn't actually change the index.\u001b[0m\u001b[1;33m\u001b[0m\u001b[1;33m\u001b[0m\u001b[1;33m\u001b[0m\u001b[0m\n\u001b[0;32m   3627\u001b[0m         \u001b[1;32mif\u001b[0m \u001b[1;32mnot\u001b[0m \u001b[0mresult\u001b[0m\u001b[1;33m.\u001b[0m\u001b[0m_get_axis\u001b[0m\u001b[1;33m(\u001b[0m\u001b[0maxis\u001b[0m\u001b[1;33m)\u001b[0m\u001b[1;33m.\u001b[0m\u001b[0mequals\u001b[0m\u001b[1;33m(\u001b[0m\u001b[0mself\u001b[0m\u001b[1;33m.\u001b[0m\u001b[0m_get_axis\u001b[0m\u001b[1;33m(\u001b[0m\u001b[0maxis\u001b[0m\u001b[1;33m)\u001b[0m\u001b[1;33m)\u001b[0m\u001b[1;33m:\u001b[0m\u001b[1;33m\u001b[0m\u001b[1;33m\u001b[0m\u001b[0m\n",
      "\u001b[1;32mc:\\users\\jhonatans\\appdata\\local\\programs\\python\\python39\\lib\\site-packages\\pandas\\core\\generic.py\u001b[0m in \u001b[0;36mtake\u001b[1;34m(self, indices, axis, is_copy, **kwargs)\u001b[0m\n\u001b[0;32m   3610\u001b[0m         \u001b[0mself\u001b[0m\u001b[1;33m.\u001b[0m\u001b[0m_consolidate_inplace\u001b[0m\u001b[1;33m(\u001b[0m\u001b[1;33m)\u001b[0m\u001b[1;33m\u001b[0m\u001b[1;33m\u001b[0m\u001b[0m\n\u001b[0;32m   3611\u001b[0m \u001b[1;33m\u001b[0m\u001b[0m\n\u001b[1;32m-> 3612\u001b[1;33m         new_data = self._mgr.take(\n\u001b[0m\u001b[0;32m   3613\u001b[0m             \u001b[0mindices\u001b[0m\u001b[1;33m,\u001b[0m \u001b[0maxis\u001b[0m\u001b[1;33m=\u001b[0m\u001b[0mself\u001b[0m\u001b[1;33m.\u001b[0m\u001b[0m_get_block_manager_axis\u001b[0m\u001b[1;33m(\u001b[0m\u001b[0maxis\u001b[0m\u001b[1;33m)\u001b[0m\u001b[1;33m,\u001b[0m \u001b[0mverify\u001b[0m\u001b[1;33m=\u001b[0m\u001b[1;32mTrue\u001b[0m\u001b[1;33m\u001b[0m\u001b[1;33m\u001b[0m\u001b[0m\n\u001b[0;32m   3614\u001b[0m         )\n",
      "\u001b[1;32mc:\\users\\jhonatans\\appdata\\local\\programs\\python\\python39\\lib\\site-packages\\pandas\\core\\internals\\managers.py\u001b[0m in \u001b[0;36mtake\u001b[1;34m(self, indexer, axis, verify)\u001b[0m\n\u001b[0;32m    859\u001b[0m \u001b[1;33m\u001b[0m\u001b[0m\n\u001b[0;32m    860\u001b[0m         \u001b[0mnew_labels\u001b[0m \u001b[1;33m=\u001b[0m \u001b[0mself\u001b[0m\u001b[1;33m.\u001b[0m\u001b[0maxes\u001b[0m\u001b[1;33m[\u001b[0m\u001b[0maxis\u001b[0m\u001b[1;33m]\u001b[0m\u001b[1;33m.\u001b[0m\u001b[0mtake\u001b[0m\u001b[1;33m(\u001b[0m\u001b[0mindexer\u001b[0m\u001b[1;33m)\u001b[0m\u001b[1;33m\u001b[0m\u001b[1;33m\u001b[0m\u001b[0m\n\u001b[1;32m--> 861\u001b[1;33m         return self.reindex_indexer(\n\u001b[0m\u001b[0;32m    862\u001b[0m             \u001b[0mnew_axis\u001b[0m\u001b[1;33m=\u001b[0m\u001b[0mnew_labels\u001b[0m\u001b[1;33m,\u001b[0m\u001b[1;33m\u001b[0m\u001b[1;33m\u001b[0m\u001b[0m\n\u001b[0;32m    863\u001b[0m             \u001b[0mindexer\u001b[0m\u001b[1;33m=\u001b[0m\u001b[0mindexer\u001b[0m\u001b[1;33m,\u001b[0m\u001b[1;33m\u001b[0m\u001b[1;33m\u001b[0m\u001b[0m\n",
      "\u001b[1;32mc:\\users\\jhonatans\\appdata\\local\\programs\\python\\python39\\lib\\site-packages\\pandas\\core\\internals\\managers.py\u001b[0m in \u001b[0;36mreindex_indexer\u001b[1;34m(self, new_axis, indexer, axis, fill_value, allow_dups, copy, consolidate, only_slice)\u001b[0m\n\u001b[0;32m    670\u001b[0m \u001b[1;33m\u001b[0m\u001b[0m\n\u001b[0;32m    671\u001b[0m         \u001b[1;32mif\u001b[0m \u001b[0maxis\u001b[0m \u001b[1;33m==\u001b[0m \u001b[1;36m0\u001b[0m\u001b[1;33m:\u001b[0m\u001b[1;33m\u001b[0m\u001b[1;33m\u001b[0m\u001b[0m\n\u001b[1;32m--> 672\u001b[1;33m             new_blocks = self._slice_take_blocks_ax0(\n\u001b[0m\u001b[0;32m    673\u001b[0m                 \u001b[0mindexer\u001b[0m\u001b[1;33m,\u001b[0m \u001b[0mfill_value\u001b[0m\u001b[1;33m=\u001b[0m\u001b[0mfill_value\u001b[0m\u001b[1;33m,\u001b[0m \u001b[0monly_slice\u001b[0m\u001b[1;33m=\u001b[0m\u001b[0monly_slice\u001b[0m\u001b[1;33m\u001b[0m\u001b[1;33m\u001b[0m\u001b[0m\n\u001b[0;32m    674\u001b[0m             )\n",
      "\u001b[1;32mc:\\users\\jhonatans\\appdata\\local\\programs\\python\\python39\\lib\\site-packages\\pandas\\core\\internals\\managers.py\u001b[0m in \u001b[0;36m_slice_take_blocks_ax0\u001b[1;34m(self, slice_or_indexer, fill_value, only_slice)\u001b[0m\n\u001b[0;32m    813\u001b[0m                             \u001b[0mblocks\u001b[0m\u001b[1;33m.\u001b[0m\u001b[0mappend\u001b[0m\u001b[1;33m(\u001b[0m\u001b[0mnb\u001b[0m\u001b[1;33m)\u001b[0m\u001b[1;33m\u001b[0m\u001b[1;33m\u001b[0m\u001b[0m\n\u001b[0;32m    814\u001b[0m                     \u001b[1;32melse\u001b[0m\u001b[1;33m:\u001b[0m\u001b[1;33m\u001b[0m\u001b[1;33m\u001b[0m\u001b[0m\n\u001b[1;32m--> 815\u001b[1;33m                         \u001b[0mnb\u001b[0m \u001b[1;33m=\u001b[0m \u001b[0mblk\u001b[0m\u001b[1;33m.\u001b[0m\u001b[0mtake_nd\u001b[0m\u001b[1;33m(\u001b[0m\u001b[0mtaker\u001b[0m\u001b[1;33m,\u001b[0m \u001b[0maxis\u001b[0m\u001b[1;33m=\u001b[0m\u001b[1;36m0\u001b[0m\u001b[1;33m,\u001b[0m \u001b[0mnew_mgr_locs\u001b[0m\u001b[1;33m=\u001b[0m\u001b[0mmgr_locs\u001b[0m\u001b[1;33m)\u001b[0m\u001b[1;33m\u001b[0m\u001b[1;33m\u001b[0m\u001b[0m\n\u001b[0m\u001b[0;32m    816\u001b[0m                         \u001b[0mblocks\u001b[0m\u001b[1;33m.\u001b[0m\u001b[0mappend\u001b[0m\u001b[1;33m(\u001b[0m\u001b[0mnb\u001b[0m\u001b[1;33m)\u001b[0m\u001b[1;33m\u001b[0m\u001b[1;33m\u001b[0m\u001b[0m\n\u001b[0;32m    817\u001b[0m \u001b[1;33m\u001b[0m\u001b[0m\n",
      "\u001b[1;32mc:\\users\\jhonatans\\appdata\\local\\programs\\python\\python39\\lib\\site-packages\\pandas\\core\\internals\\blocks.py\u001b[0m in \u001b[0;36mtake_nd\u001b[1;34m(self, indexer, axis, new_mgr_locs, fill_value)\u001b[0m\n\u001b[0;32m   1143\u001b[0m             \u001b[0mallow_fill\u001b[0m \u001b[1;33m=\u001b[0m \u001b[1;32mTrue\u001b[0m\u001b[1;33m\u001b[0m\u001b[1;33m\u001b[0m\u001b[0m\n\u001b[0;32m   1144\u001b[0m \u001b[1;33m\u001b[0m\u001b[0m\n\u001b[1;32m-> 1145\u001b[1;33m         new_values = algos.take_nd(\n\u001b[0m\u001b[0;32m   1146\u001b[0m             \u001b[0mvalues\u001b[0m\u001b[1;33m,\u001b[0m \u001b[0mindexer\u001b[0m\u001b[1;33m,\u001b[0m \u001b[0maxis\u001b[0m\u001b[1;33m=\u001b[0m\u001b[0maxis\u001b[0m\u001b[1;33m,\u001b[0m \u001b[0mallow_fill\u001b[0m\u001b[1;33m=\u001b[0m\u001b[0mallow_fill\u001b[0m\u001b[1;33m,\u001b[0m \u001b[0mfill_value\u001b[0m\u001b[1;33m=\u001b[0m\u001b[0mfill_value\u001b[0m\u001b[1;33m\u001b[0m\u001b[1;33m\u001b[0m\u001b[0m\n\u001b[0;32m   1147\u001b[0m         )\n",
      "\u001b[1;32mc:\\users\\jhonatans\\appdata\\local\\programs\\python\\python39\\lib\\site-packages\\pandas\\core\\array_algos\\take.py\u001b[0m in \u001b[0;36mtake_nd\u001b[1;34m(arr, indexer, axis, fill_value, allow_fill)\u001b[0m\n\u001b[0;32m    106\u001b[0m \u001b[1;33m\u001b[0m\u001b[0m\n\u001b[0;32m    107\u001b[0m     \u001b[0marr\u001b[0m \u001b[1;33m=\u001b[0m \u001b[0mnp\u001b[0m\u001b[1;33m.\u001b[0m\u001b[0masarray\u001b[0m\u001b[1;33m(\u001b[0m\u001b[0marr\u001b[0m\u001b[1;33m)\u001b[0m\u001b[1;33m\u001b[0m\u001b[1;33m\u001b[0m\u001b[0m\n\u001b[1;32m--> 108\u001b[1;33m     \u001b[1;32mreturn\u001b[0m \u001b[0m_take_nd_ndarray\u001b[0m\u001b[1;33m(\u001b[0m\u001b[0marr\u001b[0m\u001b[1;33m,\u001b[0m \u001b[0mindexer\u001b[0m\u001b[1;33m,\u001b[0m \u001b[0maxis\u001b[0m\u001b[1;33m,\u001b[0m \u001b[0mfill_value\u001b[0m\u001b[1;33m,\u001b[0m \u001b[0mallow_fill\u001b[0m\u001b[1;33m)\u001b[0m\u001b[1;33m\u001b[0m\u001b[1;33m\u001b[0m\u001b[0m\n\u001b[0m\u001b[0;32m    109\u001b[0m \u001b[1;33m\u001b[0m\u001b[0m\n\u001b[0;32m    110\u001b[0m \u001b[1;33m\u001b[0m\u001b[0m\n",
      "\u001b[1;31mKeyboardInterrupt\u001b[0m: "
     ]
    }
   ],
   "source": [
    "# Categorical data\n",
    "categorical = df4.select_dtypes(include=['object'])\n",
    "\n",
    "# Apply correlation categories\n",
    "matrix = show_matrix(data=categorical, col='type', output='dict')\n",
    "data_columns = categorical.iloc[:, 1:]\n",
    "\n",
    "for c in data_columns.columns:\n",
    "    matrix[c] = show_matrix(data=categorical, col=c, output='list')\n",
    "\n",
    "# Figure\n",
    "plt.figure(figsize=(15, 7))\n",
    "sns.heatmap(matrix, annot=True)\n",
    "plt.title('Correlação de Variaveis Categóricas\\n', fontsize=13);"
   ]
  },
  {
   "cell_type": "markdown",
   "id": "0571514e",
   "metadata": {},
   "source": [
    "**Insight:**"
   ]
  },
  {
   "cell_type": "markdown",
   "id": "4abcbb41",
   "metadata": {},
   "source": [
    "# 5.0 PREPRAÇÃO DE DADOS"
   ]
  },
  {
   "cell_type": "markdown",
   "id": "05f23502",
   "metadata": {},
   "source": [
    "## 5.1 Reescalonamento"
   ]
  },
  {
   "cell_type": "markdown",
   "id": "4b79348e",
   "metadata": {},
   "source": [
    "### 5.1.1 Min Max Scaler"
   ]
  },
  {
   "cell_type": "markdown",
   "id": "16b032e4",
   "metadata": {},
   "source": [
    "A abordagem de Min Max Scaler transforma os dados para um intervalo entre 0 e 1. "
   ]
  },
  {
   "cell_type": "code",
   "execution_count": 11,
   "id": "4732839c",
   "metadata": {},
   "outputs": [],
   "source": [
    "# Copy dataframe\n",
    "df5 = df4.copy()\n",
    "\n",
    "# Define method\n",
    "mms = MinMaxScaler()\n",
    "\n",
    "# step\n",
    "df5['step'] = mms.fit_transform(df5[['step']].values)"
   ]
  },
  {
   "cell_type": "markdown",
   "id": "6590596a",
   "metadata": {},
   "source": [
    "### 5.1.2 Robust Scaler"
   ]
  },
  {
   "cell_type": "markdown",
   "id": "6c8b4d45",
   "metadata": {},
   "source": [
    "A abordagem de Roboust Scaler transforma os dados para um intervalo entre o 1º quartil e o 3º."
   ]
  },
  {
   "cell_type": "code",
   "execution_count": 12,
   "id": "891228ea",
   "metadata": {},
   "outputs": [],
   "source": [
    "# Define method\n",
    "rs_amount = RobustScaler()\n",
    "rs_oldbalance_org  = RobustScaler()\n",
    "rs_newbalance_orig = RobustScaler()\n",
    "rs_oldbalance_dest = RobustScaler()\n",
    "rs_newbalance_dest = RobustScaler()\n",
    "\n",
    "# amount\n",
    "df5['amount'] = rs_amount.fit_transform(df5[['amount']].values)\n",
    "\n",
    "# oldbalance_org\n",
    "df5['oldbalance_org'] = rs_oldbalance_org.fit_transform(df5[['oldbalance_org']].values)\n",
    "\n",
    "# newbalance_orig\n",
    "df5['newbalance_orig'] = rs_newbalance_orig.fit_transform(df5[['newbalance_orig']].values)\n",
    "\n",
    "# oldbalance_dest\n",
    "df5['oldbalance_dest'] = rs_oldbalance_dest.fit_transform(df5[['oldbalance_dest']].values)\n",
    "\n",
    "# newbalance_dest\n",
    "df5['newbalance_dest'] = rs_newbalance_dest.fit_transform(df5[['newbalance_dest']].values)"
   ]
  },
  {
   "cell_type": "markdown",
   "id": "4855fd9e",
   "metadata": {},
   "source": [
    "## 5.2 Encoding"
   ]
  },
  {
   "cell_type": "markdown",
   "id": "655c65fe",
   "metadata": {},
   "source": [
    "### 5.2.1 Label Encoding"
   ]
  },
  {
   "cell_type": "code",
   "execution_count": 13,
   "id": "d85639dd",
   "metadata": {},
   "outputs": [],
   "source": [
    "# purchasing_power_org\n",
    "df5['purchasing_power_org'] = df5['purchasing_power_org'].map({'high': 3, 'average': 2, 'low': 1})\n",
    "\n",
    "# greater_50\n",
    "df5['greater_50%'] = df5['greater_50%'].map({'no': 0, 'yes': 1})\n",
    "\n",
    "# type_amount\n",
    "df5['type_amount'] = df5['type_amount'].map({'less': 0, 'greater': 1})"
   ]
  },
  {
   "cell_type": "markdown",
   "id": "dcd96f56",
   "metadata": {},
   "source": [
    "### 5.2.2 One Hot Encoding"
   ]
  },
  {
   "cell_type": "code",
   "execution_count": 14,
   "id": "146c031c",
   "metadata": {},
   "outputs": [],
   "source": [
    "# type\n",
    "df5 = pd.get_dummies(df5, prefix='type', columns=['type'])\n",
    "\n",
    "# type_transaction\n",
    "df5 = pd.get_dummies(df5, prefix='type_transaction', columns=['type_transaction'])"
   ]
  },
  {
   "cell_type": "markdown",
   "id": "2f90fead",
   "metadata": {},
   "source": [
    "## 5.3 Divisão de Dados"
   ]
  },
  {
   "cell_type": "markdown",
   "id": "96aaca2b",
   "metadata": {},
   "source": [
    "### 5.3.1 Dados de Treinamento e Validação"
   ]
  },
  {
   "cell_type": "code",
   "execution_count": 15,
   "id": "bd0d407e",
   "metadata": {},
   "outputs": [],
   "source": [
    "y = df5['is_fraud'].copy() # target\n",
    "x = df5.drop(columns='is_fraud').copy() # features\n",
    "\n",
    "# Split data between train and validation\n",
    "x_train, x_val, y_train, y_val = train_test_split(x, y, test_size=0.20)\n",
    "\n",
    "# full training\n",
    "training_full = pd.concat([x_train, y_train], axis=1)"
   ]
  },
  {
   "cell_type": "markdown",
   "id": "b89983d9",
   "metadata": {},
   "source": [
    "### 5.3.2 Dados de Teste"
   ]
  },
  {
   "cell_type": "code",
   "execution_count": 16,
   "id": "6592f4ca",
   "metadata": {},
   "outputs": [],
   "source": [
    "test_size = 0.10\n",
    "sample_size = round(training_full.shape[0] * test_size) \n",
    "test_full = training_full.sample(sample_size) # get sample\n",
    "\n",
    "# training\n",
    "training = training_full.drop(list(test_full.index))\n",
    "x_train = training.drop(columns='is_fraud')\n",
    "y_train = training['is_fraud']\n",
    "\n",
    "# test\n",
    "x_test = test_full.drop(columns='is_fraud')\n",
    "y_test = test_full['is_fraud']"
   ]
  },
  {
   "cell_type": "markdown",
   "id": "6555f701",
   "metadata": {},
   "source": [
    "# 6.0 SELEÇÃO DE FEATURE"
   ]
  },
  {
   "cell_type": "markdown",
   "id": "460a7d99",
   "metadata": {},
   "source": [
    "## 6.1 Low Variance"
   ]
  },
  {
   "cell_type": "code",
   "execution_count": 17,
   "id": "538fbbec",
   "metadata": {},
   "outputs": [
    {
     "data": {
      "image/png": "[encoded data removed]",
      "text/plain": [
       "<Figure size 936x360 with 1 Axes>"
      ]
     },
     "metadata": {
      "needs_background": "light"
     },
     "output_type": "display_data"
    }
   ],
   "source": [
    "df6 = df5.copy()\n",
    "\n",
    "numerical = df6.select_dtypes(include='float64')\n",
    "plt.figure(figsize=(13, 5))\n",
    "low_variance(numerical, 0.10)"
   ]
  },
  {
   "cell_type": "markdown",
   "id": "5d875422",
   "metadata": {},
   "source": [
    "## 6.2 Feature Importance"
   ]
  },
  {
   "cell_type": "code",
   "execution_count": 32,
   "id": "36465d5c",
   "metadata": {},
   "outputs": [
    {
     "data": {
      "image/png": "[encoded data removed]",
      "text/plain": [
       "<Figure size 864x504 with 1 Axes>"
      ]
     },
     "metadata": {
      "needs_background": "light"
     },
     "output_type": "display_data"
    }
   ],
   "source": [
    "object_int = x.select_dtypes(include=['int64', 'uint8', 'object']).drop(columns=['name_orig', 'name_dest'])\n",
    "#object_int = object_int.drop(columns=['name_orig', 'name_dest']).copy()\n",
    "\n",
    "trees = ExtraTreesClassifier()\n",
    "tree_training = trees.fit(object_int, y)\n",
    "\n",
    "# Feature importance\n",
    "importances = tree_training.feature_importances_\n",
    "indices = np.argsort(importances)[::-1]\n",
    "\n",
    "# Create dataframe with feature and importance\n",
    "df = pd.DataFrame()\n",
    "for i, j in zip(object_int, tree_training.feature_importances_):\n",
    "    aux = pd.DataFrame({'feature': i, 'importance': j}, index=[0])\n",
    "    df  = pd.concat([df, aux], axis=0)\n",
    "\n",
    "# Create figure to show feature importance    \n",
    "df = df.sort_values(by='importance', ascending=False)\n",
    "\n",
    "plt.figure(figsize=(12, 7))\n",
    "sns.barplot(y='feature', x='importance', data=df, order=df['feature'], color='r', ec='k')\n",
    "sns.despine(right=True)\n",
    "plt.title('Feature Importances');"
   ]
  },
  {
   "cell_type": "markdown",
   "id": "2df7c8fb",
   "metadata": {},
   "source": [
    "## 6.3 Filtragem de Feature"
   ]
  },
  {
   "cell_type": "code",
   "execution_count": null,
   "id": "a9d9ae57",
   "metadata": {},
   "outputs": [],
   "source": [
    "cols_selected = ['oldbalance_org', 'newbalance_orig', 'greater_50%', 'type_TRANSFER',\n",
    "                 'type_amount', 'type_CASH_OUT', 'type_CASH_IN', 'purchasing_power_org',\n",
    "                 'is_flagged_fraud']\n",
    "\n",
    "cols_selected_id = ['oldbalance_org', 'newbalance_orig', 'greater_50%', 'type_TRANSFER',\n",
    "                    'type_amount', 'type_CASH_OUT', 'type_CASH_IN', 'purchasing_power_org',\n",
    "                    'is_flagged_fraud', 'name_orig','name_dest']\n",
    "\n",
    "# Filter columns selected\n",
    "x_train = x_train[cols_selected_id]\n",
    "x_val = x_val[cols_selected_id]\n",
    "x_test = x_test[cols_selected_id]\n",
    "\n",
    "# show feature importance columns selected\n",
    "print('Columns Selected:', cols_selected)"
   ]
  },
  {
   "cell_type": "markdown",
   "id": "03174a51",
   "metadata": {},
   "source": [
    "# 7.0 MACHINE LEARNING"
   ]
  },
  {
   "cell_type": "markdown",
   "id": "1ffdc0b2",
   "metadata": {},
   "source": [
    "# 8.0 AJUSTE DE HIPERPARAMETROS"
   ]
  },
  {
   "cell_type": "markdown",
   "id": "e33ccfe2",
   "metadata": {},
   "source": [
    "# 9.0 TRADUÇÃO E INTERPRETAÇÃO"
   ]
  },
  {
   "cell_type": "markdown",
   "id": "5e7da034",
   "metadata": {},
   "source": [
    "# 10.0 DEPLOY MODELO"
   ]
  },
  {
   "cell_type": "markdown",
   "id": "59d3d18b",
   "metadata": {},
   "source": [
    "### + Dicionario de Dados\n",
    "\n",
    "\n",
    "**step**: mapeia uma unidade de tempo no mundo real. Neste caso, 1 passo é 1 hora de tempo. Total de etapas 744 (simulação de 30 dias).\n",
    "\n",
    "**type:** Tipo da transação.\n",
    "\n",
    "**amount:** valor da transação em moeda local.\n",
    "\n",
    "**nameOrig:** cliente que iniciou a transação.\n",
    "\n",
    "**oldbalanceOrg:** saldo inicial antes da transação.\n",
    "\n",
    "**newbalanceOrig:** Saldo depois da transação.\n",
    "\n",
    "**nameDest:** cliente que é o destinatário da transação.\n",
    "\n",
    "**oldbalanceDest:** destinatário do saldo inicial antes da transação. Observe que não há informações para clientes que começam com M (Comerciantes).\n",
    "\n",
    "**newbalanceDest:** novo destinatário do saldo após a transação. Observe que não há informações para clientes que começam com M (Comerciantes).\n",
    "\n",
    "**isFraud:** Target.\n",
    "\n",
    "**isFlaggedFraud:** O modelo de negócios visa controlar transferências massivas de uma conta para outra e sinaliza tentativas ilegais. Uma tentativa ilegal neste conjunto de dados é uma tentativa de transferir mais de 200.000 em uma única transação.\n"
   ]
  }
 ],
 "metadata": {
  "kernelspec": {
   "display_name": "Python 3 (ipykernel)",
   "language": "python",
   "name": "python3"
  },
  "language_info": {
   "codemirror_mode": {
    "name": "ipython",
    "version": 3
   },
   "file_extension": ".py",
   "mimetype": "text/x-python",
   "name": "python",
   "nbconvert_exporter": "python",
   "pygments_lexer": "ipython3",
   "version": "3.9.6"
  }
 },
 "nbformat": 4,
 "nbformat_minor": 5
}
