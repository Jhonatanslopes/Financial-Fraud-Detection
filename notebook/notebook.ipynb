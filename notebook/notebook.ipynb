{
 "cells": [
  {
   "cell_type": "markdown",
   "id": "0d927fba",
   "metadata": {},
   "source": [
    "# CONTEXTO DO PROBLEMA"
   ]
  },
  {
   "cell_type": "markdown",
   "id": "1626be3a",
   "metadata": {},
   "source": [
    "A Blocker Fraude Company é uma empresa especializada na detecção de fraudes em transações financeiras feitas através de dispositivos móveis. A empresa tem um serviço chamado “Blocker Fraud” no qual garante o bloqueio de transações fraudulentas.\n",
    "\n",
    "E o modelo de negócio da empresa é do tipo Serviço com a monetização feita por performance do serviço prestado, ou seja, o usuário paga uma taxa fixa sobre o sucesso na detecção de fraude das transações do cliente.\n",
    "\n",
    "Porém, a Blocker Fraud Company está em fase de expansão no Brasil e para adquirir clientes mais rapidamente, ela adotou uma estratégia muito agressiva. A estratégia funciona da seguinte forma:\n",
    "\n",
    "1. A empresa vai receber 25% do valor de cada transação detectada verdadeiramente como fraude.\n",
    "2. A empresa vai receber 5% do valor de cada transação detectada como fraude, porém a transação é verdadeiramente legítima.\n",
    "3. A empresa vai devolver 100% do valor para o cliente, a cada transação detectada como legítima, porém a transação é verdadeiramente uma fraude.\n",
    "\n",
    "\n",
    "Com essa estratégia agressiva a empresa assume os riscos em falhar na detecção de fraude e é remunerada na detecção assertiva das fraudes.\n",
    "\n",
    "Para o cliente, é um excelente negócio contratar a Blocker Fraud Company. Apesar da taxa cobrada ser muito alta sobre o sucesso, 25%, a empresa reduz seus custos com transações fraudulentas detectadas corretamente e ainda o prejuízo causado por um erro do serviço de anti-fraude será coberto pela própria Blocker Fraud Company.\n",
    "\n",
    "Para a empresa, além de conseguir muitos clientes com essa estratégia arriscada em garantir o reembolso no caso de uma falha na detecção de fraude do cliente, ela depende somente da precisão e da acurácia dos modelos construídos pelos seus Cientistas de Dados, ou seja, quanto mais preciso for o modelo “Blocker Fraud”, maior o faturamento da empresa. Porém, se o modelo tiver baixa precisão, a empresa poderá ter um prejuízo enorme."
   ]
  },
  {
   "cell_type": "markdown",
   "id": "f5c4ef93",
   "metadata": {},
   "source": [
    "# O PROBLEMA"
   ]
  },
  {
   "cell_type": "markdown",
   "id": "ed223ec7",
   "metadata": {},
   "source": [
    "Você foi contratado como um Consultor de Ciência de Dados para criar um modelo de alta precisão e acurácia na detecção de fraudes de transações feitas através de dispositivos móveis.\n",
    "\n",
    "Ao final da sua consultoria, você precisa entregar ao CEO da Blocker Fraud Company um modelo em produção no qual seu acesso será feito via API, ou seja, os clientes enviarão suas transações via API para que o seu modelo as classifique como fraudulentas ou legítimas.\n",
    "\n",
    "Além disso, você precisará entregar um relatório reportando a performance e os resultados do seu modelo em relação ao lucro e prejuízo que a empresa terá ao usar o modelo que você produziu. No seu relatório deve conter as respostas para as seguintes perguntas:\n",
    "\n",
    "1. Qual a Precisão e Acurácia do modelo?\n",
    "2. Qual a Confiabilidade do modelo em classificar as transações como legítimas ou fraudulentas?\n",
    "3. Qual o Faturamento Esperado pela Empresa se classificarmos 100% das transações com o modelo?\n",
    "4. Qual o Prejuízo Esperado pela Empresa em caso de falha do modelo?\n",
    "5. Qual o Lucro Esperado pela Blocker Fraud Company ao utilizar o modelo?"
   ]
  },
  {
   "cell_type": "markdown",
   "id": "d51b078e",
   "metadata": {},
   "source": [
    "# ENTENDIMENTO DO PROBLEMA"
   ]
  },
  {
   "cell_type": "markdown",
   "id": "d5971761",
   "metadata": {},
   "source": [
    "**Motivação:** Alta estratégia de crescimento para expansão sobre os resultados de detecção das fraudes.\n",
    "\n",
    "**Causa Raiz do Problema:** Criar um modelo capaz de detectar fraudes com alta acuracia.\n",
    "\n",
    "**Tipo de Problema:** Detecção de Fraude.\n",
    "\n",
    "**Potênciais Métodos:** Classificação.\n",
    "\n",
    "**Granularidade:** Classificação de Fraude por Transação.\n",
    "\n",
    "**Entraga da Solução:** WebApp contendo a predição e o Relatório.\n",
    "\n",
    "**Dados para Resolver o Problema:** [Kaggle](https://www.kaggle.com/ealaxi/paysim1)."
   ]
  },
  {
   "cell_type": "markdown",
   "id": "eb0ca4e8",
   "metadata": {},
   "source": [
    "# 0.0 IMPORTS"
   ]
  },
  {
   "cell_type": "code",
   "execution_count": 1,
   "id": "0516426e",
   "metadata": {},
   "outputs": [],
   "source": [
    "# Manipulation\n",
    "import pandas as pd\n",
    "import inflection\n",
    "\n",
    "# Visualization\n",
    "import matplotlib.pyplot as plt\n",
    "import seaborn as sns\n",
    "\n",
    "# Math and statistic\n",
    "import numpy as np\n",
    "from scipy import stats\n",
    "\n",
    "# Preparation ML\n",
    "from sklearn.preprocessing import RobustScaler, MinMaxScaler\n",
    "from sklearn.ensemble import ExtraTreesClassifier\n",
    "from imblearn.over_sampling import SMOTE\n",
    "\n",
    "# Models ML\n",
    "from sklearn.naive_bayes import GaussianNB\n",
    "from sklearn.linear_model import LogisticRegression\n",
    "from sklearn.ensemble import RandomForestClassifier\n",
    "from lightgbm import LGBMClassifier\n",
    "from sklearn.dummy import DummyClassifier\n",
    "\n",
    "# split data\n",
    "from sklearn.model_selection import StratifiedKFold\n",
    "from sklearn.model_selection import train_test_split\n",
    "\n",
    "# Metrics ML\n",
    "from sklearn.metrics import precision_score\n",
    "from sklearn.metrics import recall_score\n",
    "from sklearn.metrics import confusion_matrix\n",
    "from sklearn.metrics import balanced_accuracy_score\n",
    "\n",
    "# Test deploy\n",
    "import json\n",
    "import requests\n",
    "\n",
    "# others\n",
    "import warnings\n",
    "import random\n",
    "import pickle"
   ]
  },
  {
   "cell_type": "markdown",
   "id": "977d5737",
   "metadata": {},
   "source": [
    "## 0.1 Funções Auxiliares"
   ]
  },
  {
   "cell_type": "code",
   "execution_count": 2,
   "id": "0d37094b",
   "metadata": {},
   "outputs": [],
   "source": [
    "# configurations\n",
    "warnings.filterwarnings('ignore') # ignore warnings\n",
    "palette = ['#67b79e', '#fda664', '#e0d124', '#84b295', '#f6eee0']   # color to data visualization\n",
    "\n",
    "\n",
    "# correlation categories\n",
    "def cramer_v(x, y):\n",
    "    \n",
    "    cm = pd.crosstab(x, y).values\n",
    "    n = cm.sum()\n",
    "    r, k = cm.shape\n",
    "    \n",
    "    chi2 = stats.chi2_contingency(cm)[0]\n",
    "    chi2_corr = max(0, chi2 - (k-1) * (r-1) / (n-1))\n",
    "    \n",
    "    kcorr = k - (k-1) **2 / (n-1)\n",
    "    rcorr = r - (r-1) **2 / (n-1)\n",
    "    \n",
    "    return np.sqrt((chi2_corr / n) / (min(kcorr-1, rcorr-1)))\n",
    "\n",
    "\n",
    "# Show matrix correlation\n",
    "def show_matrix(col, data, output='list'):\n",
    "\n",
    "    rows = []\n",
    "    index = []\n",
    "    columns = []\n",
    "\n",
    "    for c in data.columns:\n",
    "\n",
    "        result = cramer_v(x=data[str(col)], y=data[str(c)])\n",
    "\n",
    "        rows.append(result)\n",
    "        index.append(str(c))\n",
    "        columns.append(str(col))\n",
    "        \n",
    "    if output == 'list':\n",
    "        return rows\n",
    "    \n",
    "    elif output == 'dict':\n",
    "        return pd.DataFrame(rows, index=index, columns=[str(col)])\n",
    "    \n",
    "    \n",
    "def plot_boxplot(x1, x2, x3, data):\n",
    "    \n",
    "    \"\"\"\n",
    "    A função recebe 3 series.\n",
    "    Retorna 3 plot de boxplot nas mesma linha.\n",
    "    \"\"\"\n",
    "    \n",
    "    plt.figure(figsize=(15, 5))\n",
    "    plt.subplot(1, 3, 1)\n",
    "    sns.boxplot(x=x1, color=palette[0])\n",
    "    \n",
    "    plt.subplot(1, 3, 2)\n",
    "    sns.boxplot(x=x2, color=palette[0])\n",
    "    \n",
    "    plt.subplot(1, 3, 3)\n",
    "    sns.boxplot(x=x3, color=palette[0])\n",
    "        \n",
    "    \n",
    "def compute_metrics(yhat, y_validation, model_name):\n",
    "    \n",
    "    metric = pd.DataFrame(\n",
    "        {'Model_name': model_name,\n",
    "         'Balanced_accuracy': balanced_accuracy_score(y_validation, yhat),\n",
    "         'Precision': precision_score(y_validation, yhat),\n",
    "         'Recall': recall_score(y_validation, yhat)\n",
    "        }, index=[0])\n",
    "    \n",
    "    return metric\n",
    "\n",
    "\n",
    "def cross_validation(model_name, x, y, model, cv, verbose=True):\n",
    "    \n",
    "    '''\n",
    "    A função recebe o nome do modelo, modelo, dados,\n",
    "    numero de folds e o numero de pessoas da base ordenada e retorna um\n",
    "    dataframe com as métricas precision recall e acuracia.\n",
    "    \n",
    "    model_name=nome do modelo, x=features, y=target, model=modelo instanciado,\n",
    "    cv=folds\n",
    "    '''\n",
    "    \n",
    "    kfold = StratifiedKFold(n_splits=cv, shuffle=True, random_state=42)\n",
    "    metric_precision = []\n",
    "    metric_recall = []\n",
    "    metric_accuracy = []\n",
    "    metric_balanced_accuracy = []\n",
    "    k = 0\n",
    "    \n",
    "    for train, val in kfold.split(x, y):\n",
    "    \n",
    "        k += 1\n",
    "        if verbose:\n",
    "            print(f'Number KFold: {k}/{cv}')\n",
    "\n",
    "        # Split training\n",
    "        x_train = x.iloc[train]  # features to training\n",
    "        y_train = y.iloc[train]  # target to training\n",
    "        \n",
    "        # Split validation\n",
    "        x_val = x.iloc[val]  # features to validation\n",
    "        y_val = y.iloc[val]  # target to validation\n",
    "    \n",
    "\n",
    "        # Model training\n",
    "        model_trained = model.fit(x_train, y_train)\n",
    "        yhat_model = model_trained.predict(x_val)\n",
    "\n",
    "        # Performance\n",
    "        metric_recall.append(recall_score(y_val, yhat_model))       # compute recall \n",
    "        metric_precision.append(precision_score(y_val, yhat_model)) # compute precision\n",
    "        metric_balanced_accuracy.append(balanced_accuracy_score(y_val, yhat_model)) # compute balanced accuracy\n",
    "        \n",
    "    df_metric = pd.DataFrame(\n",
    "        {'Model_name': model_name,\n",
    "         'Balanced_accuracy': np.round(np.mean(metric_balanced_accuracy), 2).astype(str) + ' +/- ' + np.round(np.std(metric_balanced_accuracy), 5).astype(str),\n",
    "         'Precision': np.round(np.mean(metric_precision), 2).astype(str) + ' +/- ' + np.round(np.std(metric_precision), 5).astype(str), \n",
    "         'Recall': np.round(np.mean(metric_recall), 2).astype(str) + ' +/- ' + np.round(np.std(metric_recall), 5).astype(str)}, index=[0]\n",
    "    )\n",
    "    \n",
    "    return df_metric\n",
    "\n",
    "\n",
    "def plot_metric(y_true, yhat, model_name):\n",
    "    \n",
    "    matrix = confusion_matrix(y_true, yhat)\n",
    "\n",
    "    # show metric\n",
    "    plt.figure(figsize=(15, 5))\n",
    "    plt.subplot(1, 3, 1)\n",
    "    sns.heatmap(matrix, annot=True, cmap='Greens')\n",
    "    plt.title(f'Confusion Matrix - {model_name}')\n",
    "\n",
    "    # figure with real data\n",
    "    plt.subplot(1, 3, 2)\n",
    "    sns.barplot(x=y_true.value_counts().index, y=y_true.value_counts().values, palette=palette)\n",
    "    plt.title('Fraud - Real')\n",
    "    plt.xlabel('Fraud')\n",
    "    sns.despine(right=True)\n",
    "\n",
    "    # figure with prediction\n",
    "    plt.subplot(1, 3, 3)\n",
    "    pred = pd.Series(yhat).value_counts()\n",
    "    sns.barplot(x=pred.index, y=pred.values, palette=palette)\n",
    "    plt.title('Fraud - Prediction')\n",
    "    plt.xlabel('Prediction')\n",
    "    sns.despine(right=True);"
   ]
  },
  {
   "cell_type": "markdown",
   "id": "e5248ef9",
   "metadata": {},
   "source": [
    "## 0.2 Carregamento de Dados"
   ]
  },
  {
   "cell_type": "code",
   "execution_count": 3,
   "id": "f3283124",
   "metadata": {},
   "outputs": [
    {
     "data": {
      "text/html": [
       "<div>\n",
       "<style scoped>\n",
       "    .dataframe tbody tr th:only-of-type {\n",
       "        vertical-align: middle;\n",
       "    }\n",
       "\n",
       "    .dataframe tbody tr th {\n",
       "        vertical-align: top;\n",
       "    }\n",
       "\n",
       "    .dataframe thead th {\n",
       "        text-align: right;\n",
       "    }\n",
       "</style>\n",
       "<table border=\"1\" class=\"dataframe\">\n",
       "  <thead>\n",
       "    <tr style=\"text-align: right;\">\n",
       "      <th></th>\n",
       "      <th>step</th>\n",
       "      <th>type</th>\n",
       "      <th>amount</th>\n",
       "      <th>nameOrig</th>\n",
       "      <th>oldbalanceOrg</th>\n",
       "      <th>newbalanceOrig</th>\n",
       "      <th>nameDest</th>\n",
       "      <th>oldbalanceDest</th>\n",
       "      <th>newbalanceDest</th>\n",
       "      <th>isFraud</th>\n",
       "      <th>isFlaggedFraud</th>\n",
       "    </tr>\n",
       "  </thead>\n",
       "  <tbody>\n",
       "    <tr>\n",
       "      <th>0</th>\n",
       "      <td>1</td>\n",
       "      <td>PAYMENT</td>\n",
       "      <td>9839.64</td>\n",
       "      <td>C1231006815</td>\n",
       "      <td>170136.0</td>\n",
       "      <td>160296.36</td>\n",
       "      <td>M1979787155</td>\n",
       "      <td>0.0</td>\n",
       "      <td>0.0</td>\n",
       "      <td>0</td>\n",
       "      <td>0</td>\n",
       "    </tr>\n",
       "    <tr>\n",
       "      <th>1</th>\n",
       "      <td>1</td>\n",
       "      <td>PAYMENT</td>\n",
       "      <td>1864.28</td>\n",
       "      <td>C1666544295</td>\n",
       "      <td>21249.0</td>\n",
       "      <td>19384.72</td>\n",
       "      <td>M2044282225</td>\n",
       "      <td>0.0</td>\n",
       "      <td>0.0</td>\n",
       "      <td>0</td>\n",
       "      <td>0</td>\n",
       "    </tr>\n",
       "    <tr>\n",
       "      <th>2</th>\n",
       "      <td>1</td>\n",
       "      <td>TRANSFER</td>\n",
       "      <td>181.00</td>\n",
       "      <td>C1305486145</td>\n",
       "      <td>181.0</td>\n",
       "      <td>0.00</td>\n",
       "      <td>C553264065</td>\n",
       "      <td>0.0</td>\n",
       "      <td>0.0</td>\n",
       "      <td>1</td>\n",
       "      <td>0</td>\n",
       "    </tr>\n",
       "    <tr>\n",
       "      <th>3</th>\n",
       "      <td>1</td>\n",
       "      <td>CASH_OUT</td>\n",
       "      <td>181.00</td>\n",
       "      <td>C840083671</td>\n",
       "      <td>181.0</td>\n",
       "      <td>0.00</td>\n",
       "      <td>C38997010</td>\n",
       "      <td>21182.0</td>\n",
       "      <td>0.0</td>\n",
       "      <td>1</td>\n",
       "      <td>0</td>\n",
       "    </tr>\n",
       "    <tr>\n",
       "      <th>4</th>\n",
       "      <td>1</td>\n",
       "      <td>PAYMENT</td>\n",
       "      <td>11668.14</td>\n",
       "      <td>C2048537720</td>\n",
       "      <td>41554.0</td>\n",
       "      <td>29885.86</td>\n",
       "      <td>M1230701703</td>\n",
       "      <td>0.0</td>\n",
       "      <td>0.0</td>\n",
       "      <td>0</td>\n",
       "      <td>0</td>\n",
       "    </tr>\n",
       "  </tbody>\n",
       "</table>\n",
       "</div>"
      ],
      "text/plain": [
       "   step      type    amount     nameOrig  oldbalanceOrg  newbalanceOrig  \\\n",
       "0     1   PAYMENT   9839.64  C1231006815       170136.0       160296.36   \n",
       "1     1   PAYMENT   1864.28  C1666544295        21249.0        19384.72   \n",
       "2     1  TRANSFER    181.00  C1305486145          181.0            0.00   \n",
       "3     1  CASH_OUT    181.00   C840083671          181.0            0.00   \n",
       "4     1   PAYMENT  11668.14  C2048537720        41554.0        29885.86   \n",
       "\n",
       "      nameDest  oldbalanceDest  newbalanceDest  isFraud  isFlaggedFraud  \n",
       "0  M1979787155             0.0             0.0        0               0  \n",
       "1  M2044282225             0.0             0.0        0               0  \n",
       "2   C553264065             0.0             0.0        1               0  \n",
       "3    C38997010         21182.0             0.0        1               0  \n",
       "4  M1230701703             0.0             0.0        0               0  "
      ]
     },
     "execution_count": 3,
     "metadata": {},
     "output_type": "execute_result"
    }
   ],
   "source": [
    "df = pd.read_csv('../data/fraud_data.csv') # load data\n",
    "\n",
    "df.head() # show data"
   ]
  },
  {
   "cell_type": "markdown",
   "id": "f9b62eea",
   "metadata": {},
   "source": [
    "# 1.0 DESCRIÇÃO DE DADOS"
   ]
  },
  {
   "cell_type": "markdown",
   "id": "bf15bd67",
   "metadata": {},
   "source": [
    "## 1.1 Dimensão de Dados"
   ]
  },
  {
   "cell_type": "code",
   "execution_count": 4,
   "id": "39f31f36",
   "metadata": {},
   "outputs": [
    {
     "name": "stdout",
     "output_type": "stream",
     "text": [
      "Qty. Rows: 6362620\n",
      "Qty. Columns: 11\n"
     ]
    }
   ],
   "source": [
    "print(f'Qty. Rows: {df.shape[0]}')\n",
    "print(f'Qty. Columns: {df.shape[1]}')"
   ]
  },
  {
   "cell_type": "markdown",
   "id": "23b2d57d",
   "metadata": {},
   "source": [
    "## 1.2 Renomeação de Colunas"
   ]
  },
  {
   "cell_type": "code",
   "execution_count": 4,
   "id": "45644bfb",
   "metadata": {},
   "outputs": [
    {
     "data": {
      "text/plain": [
       "Index(['step', 'type', 'amount', 'name_orig', 'oldbalance_org',\n",
       "       'newbalance_orig', 'name_dest', 'oldbalance_dest', 'newbalance_dest',\n",
       "       'is_fraud', 'is_flagged_fraud'],\n",
       "      dtype='object')"
      ]
     },
     "execution_count": 4,
     "metadata": {},
     "output_type": "execute_result"
    }
   ],
   "source": [
    "# Snakecase\n",
    "snakecase = lambda x: inflection.underscore(x)\n",
    "\n",
    "# Alter name columns\n",
    "df.columns = list(map(snakecase, list(df.columns)))\n",
    "df.columns"
   ]
  },
  {
   "cell_type": "markdown",
   "id": "599e905b",
   "metadata": {},
   "source": [
    "## 1.3 Tipo de Dados"
   ]
  },
  {
   "cell_type": "code",
   "execution_count": 47,
   "id": "298d380b",
   "metadata": {},
   "outputs": [
    {
     "data": {
      "text/plain": [
       "step                  int64\n",
       "type                 object\n",
       "amount              float64\n",
       "name_orig            object\n",
       "oldbalance_org      float64\n",
       "newbalance_orig     float64\n",
       "name_dest            object\n",
       "oldbalance_dest     float64\n",
       "newbalance_dest     float64\n",
       "is_fraud              int64\n",
       "is_flagged_fraud      int64\n",
       "dtype: object"
      ]
     },
     "execution_count": 47,
     "metadata": {},
     "output_type": "execute_result"
    }
   ],
   "source": [
    "df.dtypes"
   ]
  },
  {
   "cell_type": "markdown",
   "id": "c956edb6",
   "metadata": {},
   "source": [
    "## 1.4 Verificação de Dados Ausentes"
   ]
  },
  {
   "cell_type": "code",
   "execution_count": 48,
   "id": "bbed8890",
   "metadata": {},
   "outputs": [
    {
     "data": {
      "text/plain": [
       "step                0\n",
       "type                0\n",
       "amount              0\n",
       "name_orig           0\n",
       "oldbalance_org      0\n",
       "newbalance_orig     0\n",
       "name_dest           0\n",
       "oldbalance_dest     0\n",
       "newbalance_dest     0\n",
       "is_fraud            0\n",
       "is_flagged_fraud    0\n",
       "dtype: int64"
      ]
     },
     "execution_count": 48,
     "metadata": {},
     "output_type": "execute_result"
    }
   ],
   "source": [
    "df.isna().sum()"
   ]
  },
  {
   "cell_type": "markdown",
   "id": "87cc218e",
   "metadata": {},
   "source": [
    "## 1.5 Estatística Descritiva"
   ]
  },
  {
   "cell_type": "markdown",
   "id": "95496ea8",
   "metadata": {},
   "source": [
    "### 1.5.1 Atributos Numéricos"
   ]
  },
  {
   "cell_type": "code",
   "execution_count": 8,
   "id": "34a7298f",
   "metadata": {
    "scrolled": true
   },
   "outputs": [
    {
     "data": {
      "text/html": [
       "<div>\n",
       "<style scoped>\n",
       "    .dataframe tbody tr th:only-of-type {\n",
       "        vertical-align: middle;\n",
       "    }\n",
       "\n",
       "    .dataframe tbody tr th {\n",
       "        vertical-align: top;\n",
       "    }\n",
       "\n",
       "    .dataframe thead th {\n",
       "        text-align: right;\n",
       "    }\n",
       "</style>\n",
       "<table border=\"1\" class=\"dataframe\">\n",
       "  <thead>\n",
       "    <tr style=\"text-align: right;\">\n",
       "      <th></th>\n",
       "      <th>count</th>\n",
       "      <th>mean</th>\n",
       "      <th>std</th>\n",
       "      <th>min</th>\n",
       "      <th>25%</th>\n",
       "      <th>50%</th>\n",
       "      <th>75%</th>\n",
       "      <th>max</th>\n",
       "      <th>kurtosis</th>\n",
       "      <th>skew</th>\n",
       "    </tr>\n",
       "  </thead>\n",
       "  <tbody>\n",
       "    <tr>\n",
       "      <th>step</th>\n",
       "      <td>6362620.0</td>\n",
       "      <td>2.433972e+02</td>\n",
       "      <td>1.423320e+02</td>\n",
       "      <td>1.0</td>\n",
       "      <td>156.00</td>\n",
       "      <td>239.000</td>\n",
       "      <td>3.350000e+02</td>\n",
       "      <td>7.430000e+02</td>\n",
       "      <td>0.329071</td>\n",
       "      <td>0.375177</td>\n",
       "    </tr>\n",
       "    <tr>\n",
       "      <th>amount</th>\n",
       "      <td>6362620.0</td>\n",
       "      <td>1.798619e+05</td>\n",
       "      <td>6.038582e+05</td>\n",
       "      <td>0.0</td>\n",
       "      <td>13389.57</td>\n",
       "      <td>74871.940</td>\n",
       "      <td>2.087215e+05</td>\n",
       "      <td>9.244552e+07</td>\n",
       "      <td>1797.956705</td>\n",
       "      <td>30.993949</td>\n",
       "    </tr>\n",
       "    <tr>\n",
       "      <th>oldbalance_org</th>\n",
       "      <td>6362620.0</td>\n",
       "      <td>8.338831e+05</td>\n",
       "      <td>2.888243e+06</td>\n",
       "      <td>0.0</td>\n",
       "      <td>0.00</td>\n",
       "      <td>14208.000</td>\n",
       "      <td>1.073152e+05</td>\n",
       "      <td>5.958504e+07</td>\n",
       "      <td>32.964879</td>\n",
       "      <td>5.249136</td>\n",
       "    </tr>\n",
       "    <tr>\n",
       "      <th>newbalance_orig</th>\n",
       "      <td>6362620.0</td>\n",
       "      <td>8.551137e+05</td>\n",
       "      <td>2.924049e+06</td>\n",
       "      <td>0.0</td>\n",
       "      <td>0.00</td>\n",
       "      <td>0.000</td>\n",
       "      <td>1.442584e+05</td>\n",
       "      <td>4.958504e+07</td>\n",
       "      <td>32.066985</td>\n",
       "      <td>5.176884</td>\n",
       "    </tr>\n",
       "    <tr>\n",
       "      <th>oldbalance_dest</th>\n",
       "      <td>6362620.0</td>\n",
       "      <td>1.100702e+06</td>\n",
       "      <td>3.399180e+06</td>\n",
       "      <td>0.0</td>\n",
       "      <td>0.00</td>\n",
       "      <td>132705.665</td>\n",
       "      <td>9.430367e+05</td>\n",
       "      <td>3.560159e+08</td>\n",
       "      <td>948.674125</td>\n",
       "      <td>19.921758</td>\n",
       "    </tr>\n",
       "    <tr>\n",
       "      <th>newbalance_dest</th>\n",
       "      <td>6362620.0</td>\n",
       "      <td>1.224996e+06</td>\n",
       "      <td>3.674129e+06</td>\n",
       "      <td>0.0</td>\n",
       "      <td>0.00</td>\n",
       "      <td>214661.440</td>\n",
       "      <td>1.111909e+06</td>\n",
       "      <td>3.561793e+08</td>\n",
       "      <td>862.156508</td>\n",
       "      <td>19.352302</td>\n",
       "    </tr>\n",
       "    <tr>\n",
       "      <th>is_fraud</th>\n",
       "      <td>6362620.0</td>\n",
       "      <td>1.290820e-03</td>\n",
       "      <td>3.590480e-02</td>\n",
       "      <td>0.0</td>\n",
       "      <td>0.00</td>\n",
       "      <td>0.000</td>\n",
       "      <td>0.000000e+00</td>\n",
       "      <td>1.000000e+00</td>\n",
       "      <td>769.702982</td>\n",
       "      <td>27.779538</td>\n",
       "    </tr>\n",
       "    <tr>\n",
       "      <th>is_flagged_fraud</th>\n",
       "      <td>6362620.0</td>\n",
       "      <td>2.514687e-06</td>\n",
       "      <td>1.585775e-03</td>\n",
       "      <td>0.0</td>\n",
       "      <td>0.00</td>\n",
       "      <td>0.000</td>\n",
       "      <td>0.000000e+00</td>\n",
       "      <td>1.000000e+00</td>\n",
       "      <td>397659.062500</td>\n",
       "      <td>630.603629</td>\n",
       "    </tr>\n",
       "  </tbody>\n",
       "</table>\n",
       "</div>"
      ],
      "text/plain": [
       "                      count          mean           std  min       25%  \\\n",
       "step              6362620.0  2.433972e+02  1.423320e+02  1.0    156.00   \n",
       "amount            6362620.0  1.798619e+05  6.038582e+05  0.0  13389.57   \n",
       "oldbalance_org    6362620.0  8.338831e+05  2.888243e+06  0.0      0.00   \n",
       "newbalance_orig   6362620.0  8.551137e+05  2.924049e+06  0.0      0.00   \n",
       "oldbalance_dest   6362620.0  1.100702e+06  3.399180e+06  0.0      0.00   \n",
       "newbalance_dest   6362620.0  1.224996e+06  3.674129e+06  0.0      0.00   \n",
       "is_fraud          6362620.0  1.290820e-03  3.590480e-02  0.0      0.00   \n",
       "is_flagged_fraud  6362620.0  2.514687e-06  1.585775e-03  0.0      0.00   \n",
       "\n",
       "                         50%           75%           max       kurtosis  \\\n",
       "step                 239.000  3.350000e+02  7.430000e+02       0.329071   \n",
       "amount             74871.940  2.087215e+05  9.244552e+07    1797.956705   \n",
       "oldbalance_org     14208.000  1.073152e+05  5.958504e+07      32.964879   \n",
       "newbalance_orig        0.000  1.442584e+05  4.958504e+07      32.066985   \n",
       "oldbalance_dest   132705.665  9.430367e+05  3.560159e+08     948.674125   \n",
       "newbalance_dest   214661.440  1.111909e+06  3.561793e+08     862.156508   \n",
       "is_fraud               0.000  0.000000e+00  1.000000e+00     769.702982   \n",
       "is_flagged_fraud       0.000  0.000000e+00  1.000000e+00  397659.062500   \n",
       "\n",
       "                        skew  \n",
       "step                0.375177  \n",
       "amount             30.993949  \n",
       "oldbalance_org      5.249136  \n",
       "newbalance_orig     5.176884  \n",
       "oldbalance_dest    19.921758  \n",
       "newbalance_dest    19.352302  \n",
       "is_fraud           27.779538  \n",
       "is_flagged_fraud  630.603629  "
      ]
     },
     "execution_count": 8,
     "metadata": {},
     "output_type": "execute_result"
    }
   ],
   "source": [
    "numerical = df.select_dtypes(include=['int64', 'float64'])  # Select numerical data\n",
    "describe = numerical.describe().T  # describe data\n",
    "\n",
    "describe['kurtosis'] = numerical.apply(lambda x: x.kurtosis())  # add kurtosis in describe\n",
    "describe['skew'] = numerical.apply(lambda x: x.skew())  # add skew in describe\n",
    "\n",
    "describe"
   ]
  },
  {
   "cell_type": "markdown",
   "id": "cb5935d1",
   "metadata": {},
   "source": [
    "**Insight:**\n",
    "\n",
    "<ins>Distribuição</ins>: Há pessoas que fizeram transação com valor de 0 no total, e pessoas que fizeram transação sem dinheiro na conta. O valor máximo de uma transação foi de 92 milhões, um range de transações muito grande.No geral todas as variaveis numéricas estão com um range grande com valores muito altos e nenhuma está seguindo uma distribuição normal.\n",
    "\n",
    "<ins>Negócio</ins>: A média do valor das transações é de 100 mil, valores extremos aumentaram o valor da transação média. 50% das transações são feitas em cerca de 74 mil e 50% das contas de quem fez a transação restou 14 mil de saldo final. Em relação a fraude, mias de 75% dos casos são de transações legais e dentro do padrão. "
   ]
  },
  {
   "cell_type": "markdown",
   "id": "cf564c30",
   "metadata": {},
   "source": [
    "### 1.5.2 Atributos Categóricos"
   ]
  },
  {
   "cell_type": "code",
   "execution_count": 9,
   "id": "6571dbc8",
   "metadata": {},
   "outputs": [
    {
     "data": {
      "image/png": "[encoded data removed]",
      "text/plain": [
       "<Figure size 1080x360 with 1 Axes>"
      ]
     },
     "metadata": {
      "needs_background": "light"
     },
     "output_type": "display_data"
    }
   ],
   "source": [
    "# Select categorical data\n",
    "categorical = df.select_dtypes(include=['object'])\n",
    "\n",
    "# Count unique values \n",
    "values_cat = categorical.apply(lambda x: len(x.unique())).sort_values(ascending=False)\n",
    "\n",
    "# Figure\n",
    "plt.figure(figsize=(15, 5))\n",
    "sns.barplot(x=values_cat.index, y=values_cat.values, palette=palette)\n",
    "sns.despine(right=True)\n",
    "plt.ylabel('values')\n",
    "plt.title('Quantidade de Possíveis Valores Categóricos');"
   ]
  },
  {
   "cell_type": "markdown",
   "id": "da6f95ef",
   "metadata": {},
   "source": [
    "**Insight:**\n",
    "\n",
    "Os atributos categóricos possuem um grande range de possíveis valores, com exceção do tipo da transação. Há posucos tipos de transações e há mais nomes de pessoas que fazem a transação do que pessoas que recebem a transação."
   ]
  },
  {
   "cell_type": "markdown",
   "id": "063f8f10",
   "metadata": {},
   "source": [
    "# 2.0 FEATURE ENGINEERING"
   ]
  },
  {
   "cell_type": "markdown",
   "id": "c1567cb3",
   "metadata": {},
   "source": [
    "## 2.1 Mapa Mental de Hipóteses"
   ]
  },
  {
   "cell_type": "markdown",
   "id": "602f701a",
   "metadata": {},
   "source": [
    "<p align=\"center\">\n",
    "  <img src=\"../img/mind_map.png\" width=\"1000\" title=\"mind-map\">\n",
    "</p>"
   ]
  },
  {
   "cell_type": "markdown",
   "id": "349e2c1d",
   "metadata": {},
   "source": [
    "## 2.2 Hipóteses"
   ]
  },
  {
   "cell_type": "markdown",
   "id": "ffd948dd",
   "metadata": {},
   "source": [
    "### 2.2.1 Hipóteses Período"
   ]
  },
  {
   "cell_type": "markdown",
   "id": "d4c5916d",
   "metadata": {},
   "source": [
    "**1.** Fraudes acontecem mais no final de semana.\n",
    "\n",
    "**2.** Fraudes acontecem mais em época de Black Friday.\n",
    "\n",
    "**3.** Fraudes acontecem mais em feriados."
   ]
  },
  {
   "cell_type": "markdown",
   "id": "1fe3a66e",
   "metadata": {},
   "source": [
    "### 2.2.2 Hipóteses Transação"
   ]
  },
  {
   "cell_type": "markdown",
   "id": "fe02d19f",
   "metadata": {},
   "source": [
    "**1.** Fraudes acontecem mais em pagamentos de crédito.\n",
    "\n",
    "**2.** Transações maiores que 50% do saldo bancario são fraudes.\n",
    "\n",
    "**3.** A maior parte de transações feitas superior que 80mil, são fraudes.\n",
    "\n",
    "**4.** Contas de origem que ficaram zeradas após as transações, são fraudes."
   ]
  },
  {
   "cell_type": "markdown",
   "id": "c615fdfa",
   "metadata": {},
   "source": [
    "### 2.2.3 Hipóteses Cliente"
   ]
  },
  {
   "cell_type": "markdown",
   "id": "46c2e4ad",
   "metadata": {},
   "source": [
    "**1.** Há maior quantidade de fraudes em contas de pessoas físicas.\n",
    "\n",
    "**2.** Há maior quantidade de fraudes em contas de pessoas com alto poder aquisitivo.\n",
    "\n",
    "**3.** Há maior quantidade de fraudes em transações de pessoa física para juridica."
   ]
  },
  {
   "cell_type": "markdown",
   "id": "8913b727",
   "metadata": {},
   "source": [
    "## 2.3 Lista Final de Hipóteses"
   ]
  },
  {
   "cell_type": "markdown",
   "id": "8f19792c",
   "metadata": {},
   "source": [
    "**1.** Fraudes acontecem mais em pagamentos de crédito.\n",
    "\n",
    "**2.** Transações maiores que 50% do saldo bancario são fraudes.\n",
    "\n",
    "**3.** A maior parte de transações feitas superior que 80mil, são fraudes.\n",
    "\n",
    "**4.** Contas de origem que ficaram zeradas após as transações, são fraudes.\n",
    "\n",
    "**5.** Há maior quantidade de fraudes em contas de pessoas com alto poder aquisitivo.\n",
    "\n",
    "**6.** Há maior quantidade de fraudes em transações de pessoa física para juridica."
   ]
  },
  {
   "cell_type": "markdown",
   "id": "a5702e10",
   "metadata": {},
   "source": [
    "## 2.3 Feature Engineering"
   ]
  },
  {
   "cell_type": "code",
   "execution_count": 5,
   "id": "ecee6353",
   "metadata": {},
   "outputs": [],
   "source": [
    "# Copy dataframe\n",
    "df2 = df.copy()\n",
    "\n",
    "# greater_50 - describe if the transaction is greater than 50% of the balance (yes or no)\n",
    "df2['greater_50%'] = df2[['amount', 'oldbalance_org']].apply(\n",
    "    lambda x: 'yes' if x['amount'] / 2 > x['oldbalance_org'] else 'no', axis=1\n",
    "    )\n",
    "\n",
    "# purchasing_power_org - describe the purchasing power of the origin transaction\n",
    "average_salary = 3400\n",
    "median_salary = df2['oldbalance_org'].median()\n",
    "\n",
    "df2['purchasing_power_org'] = df2['oldbalance_org'].apply(\n",
    "    lambda x: 'low' if x <= average_salary else 'average' \n",
    "                    if x > average_salary and x <= median_salary else 'high'\n",
    "                )\n",
    "\n",
    "# type_transaction - describe the type of transaction C = Customer and M = Merchants\n",
    "df2['type_transaction'] = df2[['name_orig', 'name_dest']].apply(\n",
    "    lambda x: 'C to C' if x['name_orig'][0] == 'C' and x['name_dest'][0] == 'C' else 'M to M' \n",
    "                       if x['name_orig'][0] == 'M' and x['name_dest'][0] == 'M' else 'C to M' \n",
    "                       if x['name_orig'][0] == 'C' and x['name_dest'][0] == 'M' else 'M to C' \n",
    "                       if x['name_orig'][0] == 'M' and x['name_dest'][0] == 'C' else None, axis=1\n",
    "                    )\n",
    "\n",
    "# type_amount - Describe is amount is greater than 80K (greater or less)\n",
    "df2['type_amount'] = df2['amount'].apply(lambda x: 'greater' if x > 80000 else 'less')"
   ]
  },
  {
   "cell_type": "markdown",
   "id": "d86107a1",
   "metadata": {},
   "source": [
    "# 3.0 FILTRAGEM DE DADOS"
   ]
  },
  {
   "cell_type": "markdown",
   "id": "993aa4da",
   "metadata": {},
   "source": [
    "Não foi necessário filtrar dados, pois o escopo do problema não há limitações no momento da predição do modelo."
   ]
  },
  {
   "cell_type": "markdown",
   "id": "aa989abf",
   "metadata": {},
   "source": [
    "# 4.0 EDA"
   ]
  },
  {
   "cell_type": "markdown",
   "id": "a6d68385",
   "metadata": {},
   "source": [
    "## 4.1 Análise Univariada"
   ]
  },
  {
   "cell_type": "markdown",
   "id": "37e26a22",
   "metadata": {},
   "source": [
    "### 4.1.1 Variável Resposta"
   ]
  },
  {
   "cell_type": "code",
   "execution_count": 6,
   "id": "4e66c7e0",
   "metadata": {},
   "outputs": [
    {
     "data": {
      "image/png": "[encoded data removed]",
      "text/plain": [
       "<Figure size 1080x360 with 1 Axes>"
      ]
     },
     "metadata": {
      "needs_background": "light"
     },
     "output_type": "display_data"
    }
   ],
   "source": [
    "# Copy dataframe\n",
    "df4 = df2.copy()\n",
    "\n",
    "# Figure \n",
    "plt.figure(figsize=(15, 5))\n",
    "sns.countplot(x='is_fraud', data=df4, palette=palette)\n",
    "sns.despine(right=True)\n",
    "plt.title('Dsitribuição - Target');"
   ]
  },
  {
   "cell_type": "markdown",
   "id": "ad19cacc",
   "metadata": {},
   "source": [
    "**Insight:**\n",
    "\n",
    "Apenas 1º das transações são de fraude e 99% normais. Há um alto desbalanceamento de dados, visto que há um numero muito pequeno de fraudes."
   ]
  },
  {
   "cell_type": "markdown",
   "id": "9f2f351b",
   "metadata": {},
   "source": [
    "### 4.1.2 Variável Numérica"
   ]
  },
  {
   "cell_type": "markdown",
   "id": "b4675073",
   "metadata": {},
   "source": [
    "#### 4.1.2.1 Distribuição"
   ]
  },
  {
   "cell_type": "code",
   "execution_count": 12,
   "id": "adba14de",
   "metadata": {},
   "outputs": [
    {
     "data": {
      "image/png": "[encoded data removed]",
      "text/plain": [
       "<Figure size 1080x1080 with 9 Axes>"
      ]
     },
     "metadata": {
      "needs_background": "light"
     },
     "output_type": "display_data"
    }
   ],
   "source": [
    "# Filter numerical atributes\n",
    "num = df4.select_dtypes(include=['int64', 'float64']).drop(columns=['is_fraud'])\n",
    "\n",
    "# Figure\n",
    "num.hist(grid=False, bins=20, ec='k', figsize=(15, 15), color=palette[0])\n",
    "sns.despine(right=True)\n",
    "plt.title('Dsitribuição Variaveis Numéricas');"
   ]
  },
  {
   "cell_type": "markdown",
   "id": "a7df64de",
   "metadata": {},
   "source": [
    "**Insight:**\n",
    "\n",
    "No geral, as variavies numéricas não possuem tanto comportamento, estão com as distribuições mais concentradas em torno do zero, devido a possuir alta quantidade de informações com zero, deslocando as distribuições para a esquerda com um alto pico. A exceção é o atributo <ins>step</ins> que há maior comportamento e posui uma distribuição maior em valores entre 0 a 400. Os atributos estão longe de uma distribuição normal."
   ]
  },
  {
   "cell_type": "markdown",
   "id": "96936d13",
   "metadata": {},
   "source": [
    "#### 4.1.2.2 Outliers"
   ]
  },
  {
   "cell_type": "code",
   "execution_count": 13,
   "id": "b08d9800",
   "metadata": {},
   "outputs": [
    {
     "data": {
      "image/png": "[encoded data removed]",
      "text/plain": [
       "<Figure size 1080x360 with 3 Axes>"
      ]
     },
     "metadata": {
      "needs_background": "light"
     },
     "output_type": "display_data"
    },
    {
     "data": {
      "image/png": "[encoded data removed]",
      "text/plain": [
       "<Figure size 1080x360 with 3 Axes>"
      ]
     },
     "metadata": {
      "needs_background": "light"
     },
     "output_type": "display_data"
    }
   ],
   "source": [
    "# Drop column\n",
    "num = num.drop(columns='is_flagged_fraud')\n",
    "\n",
    "# Filter values \n",
    "amount = num[num['amount'] > 1]['amount']\n",
    "oldbalance_org = num[num['oldbalance_org'] > 1]['oldbalance_org']\n",
    "newbalance_orig = num[num['newbalance_orig'] > 1]['newbalance_orig']\n",
    "oldbalance_dest = num[num['oldbalance_dest'] > 1]['oldbalance_dest']\n",
    "newbalance_dest = num[num['newbalance_dest'] > 1]['newbalance_dest']\n",
    "\n",
    "# Create figures\n",
    "plot_boxplot(x1=num['step'], x2=amount, x3=oldbalance_org, data=num)\n",
    "plt.suptitle('Outliers Variaveis Numéricas')\n",
    "sns.despine(right=True)\n",
    "\n",
    "plot_boxplot(x1=newbalance_orig, x2=oldbalance_dest, x3=newbalance_dest, data=num)\n",
    "sns.despine(right=True)"
   ]
  },
  {
   "cell_type": "markdown",
   "id": "36e1dc20",
   "metadata": {},
   "source": [
    "**Insight:**\n",
    "\n",
    "Em todas as variaveis, contém média e mediana bem próximas do zero e há valores muito extremos disso. A variavel <ins>step</ins> é a que tem menos outliers e com a media e mediana distante do zero."
   ]
  },
  {
   "cell_type": "markdown",
   "id": "b36f74cc",
   "metadata": {},
   "source": [
    "### 4.1.3 Variável Categórica"
   ]
  },
  {
   "cell_type": "code",
   "execution_count": 14,
   "id": "aa5cb798",
   "metadata": {},
   "outputs": [
    {
     "data": {
      "image/png": "[encoded data removed]",
      "text/plain": [
       "<Figure size 1080x720 with 4 Axes>"
      ]
     },
     "metadata": {
      "needs_background": "light"
     },
     "output_type": "display_data"
    }
   ],
   "source": [
    "# Filter categorical atributes\n",
    "cat = df4.select_dtypes(include=['object'])\n",
    "\n",
    "# Figure 1\n",
    "plt.figure(figsize=(15, 10))\n",
    "plt.subplot(2, 2, 1)\n",
    "sns.countplot(x='type', data=cat, order=list(cat['type'].value_counts().sort_values(ascending=False).index), palette=palette)\n",
    "plt.suptitle('Distribuição de variaveis categóricas')\n",
    "sns.despine(right=True)\n",
    "\n",
    "# Figure 2\n",
    "plt.subplot(2, 2, 2)\n",
    "sns.countplot(x='greater_50%', data=cat, order=['yes', 'no'], palette=palette)\n",
    "sns.despine(right=True)\n",
    "\n",
    "# Figure 3\n",
    "plt.subplot(2, 2, 3)\n",
    "sns.countplot(x='purchasing_power_org', data=cat, palette=palette)\n",
    "sns.despine(right=True)\n",
    "\n",
    "# Figure 4\n",
    "plt.subplot(2, 2, 4)\n",
    "sns.countplot(x='type_transaction', data=cat, order=['C to C', 'C to M'], palette=palette)\n",
    "sns.despine(right=True);"
   ]
  },
  {
   "cell_type": "markdown",
   "id": "32d73fd4",
   "metadata": {},
   "source": [
    "**Insight:**\n",
    "\n",
    "A maior parte das transações são feitas de saques e de pagamentos, e a minoria é feita de débito. A maior parte das pessoas realizam transações maiores que 50% de seu saldo na conta. Também, a maior quantidade das pessoas/comercios que fazem transações possuem um alto poder aquisitivo e  grande parte das transações são de clientes para clientes."
   ]
  },
  {
   "cell_type": "markdown",
   "id": "a80bf8d5",
   "metadata": {},
   "source": [
    "## 4.2 Análise Bivariada"
   ]
  },
  {
   "cell_type": "markdown",
   "id": "34aa1991",
   "metadata": {},
   "source": [
    "### H1.  Fraudes acontecem mais em transações de débito.\n",
    "\n",
    "**FALSA** Fraudes acontecem mais em transações de <ins>Transferencia</ins> e <ins>Cash Out</ins>."
   ]
  },
  {
   "cell_type": "code",
   "execution_count": 15,
   "id": "f3f696a5",
   "metadata": {},
   "outputs": [
    {
     "data": {
      "image/png": "[encoded data removed]",
      "text/plain": [
       "<Figure size 1080x360 with 2 Axes>"
      ]
     },
     "metadata": {
      "needs_background": "light"
     },
     "output_type": "display_data"
    }
   ],
   "source": [
    "# figure 1\n",
    "plt.figure(figsize=(15, 5))\n",
    "plt.subplot(1, 2, 1)\n",
    "sns.countplot(x='type', data=df4, hue='is_fraud', palette=palette)\n",
    "plt.ylabel('Qauntity')\n",
    "plt.title('Transaction type by Fraud')\n",
    "sns.despine(right=True)\n",
    "\n",
    "# figure 2\n",
    "plt.subplot(1, 2, 2)\n",
    "filter_fraud = df4[df4['is_fraud'] == 1]\n",
    "sns.countplot(x='type', data=filter_fraud, palette=palette)\n",
    "plt.ylabel('Qauntity')\n",
    "plt.title('Transaction type by Fraud = True')\n",
    "sns.despine(right=True);"
   ]
  },
  {
   "cell_type": "markdown",
   "id": "f2fa275c",
   "metadata": {},
   "source": [
    "### H2. Transações maiores que 50% do saldo bancario são fraudes.\n",
    "\n",
    "**FALSA** A maior parte das transações que são maiores que 50% do saldo bancario, <ins>não</ins> são fraudes."
   ]
  },
  {
   "cell_type": "code",
   "execution_count": 16,
   "id": "423df24a",
   "metadata": {},
   "outputs": [
    {
     "data": {
      "image/png": "[encoded data removed]",
      "text/plain": [
       "<Figure size 1080x360 with 1 Axes>"
      ]
     },
     "metadata": {
      "needs_background": "light"
     },
     "output_type": "display_data"
    }
   ],
   "source": [
    "# create figure\n",
    "plt.figure(figsize=(15, 5))\n",
    "sns.countplot(x='greater_50%', data=df4, hue='is_fraud', palette=palette)\n",
    "plt.ylabel('Qauntity')\n",
    "plt.title('Transaction above 50% by Fraud')\n",
    "sns.despine(right=True);"
   ]
  },
  {
   "cell_type": "markdown",
   "id": "c878b2e5",
   "metadata": {},
   "source": [
    "### H3. A maior parte de transações feitas superior que 80mil, são fraudes.\n",
    "\n",
    "**VERDADEIRA** A maior parte das transações feitas sendo maiores que 80 mil, são fraudes."
   ]
  },
  {
   "cell_type": "code",
   "execution_count": 17,
   "id": "77c5bc30",
   "metadata": {},
   "outputs": [
    {
     "data": {
      "image/png": "[encoded data removed]",
      "text/plain": [
       "<Figure size 1080x360 with 2 Axes>"
      ]
     },
     "metadata": {
      "needs_background": "light"
     },
     "output_type": "display_data"
    }
   ],
   "source": [
    "# Group median amount by fraud\n",
    "median_group = df4['amount'].groupby(df['is_fraud']).median().reset_index()\n",
    "\n",
    "# Figure 1\n",
    "plt.figure(figsize=(15, 5))\n",
    "plt.subplot(1, 2, 1)\n",
    "sns.barplot(x='is_fraud', y='amount', data=median_group, palette=palette)\n",
    "plt.title('Valor Mediano de Transação por Fraude')\n",
    "sns.despine(right=True)\n",
    "\n",
    "# Figure 2\n",
    "plt.subplot(1, 2, 2)\n",
    "sns.countplot(x='type_amount', data=df4, hue='is_fraud', palette=palette)\n",
    "plt.ylabel('Qauntity')\n",
    "plt.title('Valor categórico de Transação por Fraude')\n",
    "sns.despine(right=True);"
   ]
  },
  {
   "cell_type": "markdown",
   "id": "6f8d4fa9",
   "metadata": {},
   "source": [
    "### H4.  Contas de origem que ficaram zeradas após as transações, são fraudes.\n",
    "\n",
    "**FALSA** A maior parte das transações em que o saldo final da conta de origem ficou zerada, não foi fraude."
   ]
  },
  {
   "cell_type": "code",
   "execution_count": 18,
   "id": "0738040e",
   "metadata": {},
   "outputs": [
    {
     "data": {
      "image/png": "[encoded data removed]",
      "text/plain": [
       "<Figure size 1080x360 with 1 Axes>"
      ]
     },
     "metadata": {
      "needs_background": "light"
     },
     "output_type": "display_data"
    }
   ],
   "source": [
    "newbalance_orig_zero = df4[df4['newbalance_orig'] == 0]\n",
    "\n",
    "plt.figure(figsize=(15, 5))\n",
    "sns.countplot(x='newbalance_orig', data=newbalance_orig_zero, hue='is_fraud', palette=palette)\n",
    "plt.ylabel('Quanity')\n",
    "plt.title('Novo saldo zerado por Fraude')\n",
    "sns.despine(right=True);"
   ]
  },
  {
   "cell_type": "markdown",
   "id": "cd18aebf",
   "metadata": {},
   "source": [
    "### H5. Há maior quantidade de fraudes em contas de pessoas com alto poder aquisitivo.\n",
    "\n",
    "**VERDADEIRA** Há maior quantidade de fraudes em contas de pessoas com <ins>alto</ins> poder aquisitivo."
   ]
  },
  {
   "cell_type": "code",
   "execution_count": 19,
   "id": "f1ead24d",
   "metadata": {},
   "outputs": [
    {
     "data": {
      "image/png": "[encoded data removed]",
      "text/plain": [
       "<Figure size 1080x432 with 1 Axes>"
      ]
     },
     "metadata": {
      "needs_background": "light"
     },
     "output_type": "display_data"
    }
   ],
   "source": [
    "plt.figure(figsize=(15, 6))\n",
    "sns.countplot(x='purchasing_power_org', data=df4, hue='is_fraud', order=['high', 'average', 'low'], palette=palette)\n",
    "plt.title('Poder aquisitivo por Fraude')\n",
    "plt.ylabel('Qauntity')\n",
    "sns.despine(right=True);"
   ]
  },
  {
   "cell_type": "markdown",
   "id": "9cec4010",
   "metadata": {},
   "source": [
    "### H6. Há maior quantidade de fraudes em transações de pessoa física para juridica.\n",
    "\n",
    "**FALSA** Há maior quantidade de fraudes em transações de <ins>clientes para clientes</ins>."
   ]
  },
  {
   "cell_type": "code",
   "execution_count": 20,
   "id": "ce4666ea",
   "metadata": {},
   "outputs": [
    {
     "data": {
      "image/png": "[encoded data removed]",
      "text/plain": [
       "<Figure size 1080x432 with 1 Axes>"
      ]
     },
     "metadata": {
      "needs_background": "light"
     },
     "output_type": "display_data"
    }
   ],
   "source": [
    "plt.figure(figsize=(15, 6))\n",
    "sns.countplot(x='type_transaction', data=df4, hue='is_fraud', palette=palette)\n",
    "plt.title('Tipo de Cliente por Fraude')\n",
    "plt.ylabel('Qauntity')\n",
    "sns.despine(right=True);"
   ]
  },
  {
   "cell_type": "markdown",
   "id": "c10a5851",
   "metadata": {},
   "source": [
    "## 4.3 Análise Multivariada"
   ]
  },
  {
   "cell_type": "markdown",
   "id": "5f57ea13",
   "metadata": {},
   "source": [
    "### 4.3.1 Variável Numérica"
   ]
  },
  {
   "cell_type": "code",
   "execution_count": 51,
   "id": "b4629d06",
   "metadata": {},
   "outputs": [
    {
     "data": {
      "image/png": "[encoded data removed]",
      "text/plain": [
       "<Figure size 1080x432 with 2 Axes>"
      ]
     },
     "metadata": {
      "needs_background": "light"
     },
     "output_type": "display_data"
    }
   ],
   "source": [
    "# filter numerical data\n",
    "numerical = df4.select_dtypes(include=['int64', 'float64'])\n",
    "\n",
    "plt.figure(figsize=(15, 6))\n",
    "sns.heatmap(numerical.corr(method='pearson'), annot=True, cmap='Greens')\n",
    "plt.title('Correlação de variaveis numéricas');"
   ]
  },
  {
   "cell_type": "markdown",
   "id": "ba706414",
   "metadata": {},
   "source": [
    "**Insight:**\n",
    "\n",
    "Como já esperado, há correlações entre saldo do novo balanço e o antigo junto com valor da transação."
   ]
  },
  {
   "cell_type": "markdown",
   "id": "3d3aef01",
   "metadata": {},
   "source": [
    "### 4.3.2 Variável Categórica"
   ]
  },
  {
   "cell_type": "code",
   "execution_count": null,
   "id": "d06a7aa9",
   "metadata": {},
   "outputs": [],
   "source": [
    "# Categorical data\n",
    "categorical = df4.select_dtypes(include=['object'])\n",
    "\n",
    "# Apply correlation categories\n",
    "matrix = show_matrix(data=categorical, col='type', output='dict')\n",
    "data_columns = categorical.iloc[:, 1:]\n",
    "\n",
    "for c in data_columns.columns:\n",
    "    matrix[c] = show_matrix(data=categorical, col=c, output='list')\n",
    "\n",
    "# Figure\n",
    "plt.figure(figsize=(15, 7))\n",
    "sns.heatmap(matrix, annot=True, cmap='Blues')\n",
    "plt.title('Correlação de Variaveis Categóricas\\n', fontsize=13);"
   ]
  },
  {
   "cell_type": "markdown",
   "id": "0571514e",
   "metadata": {},
   "source": [
    "**Insight:**"
   ]
  },
  {
   "cell_type": "markdown",
   "id": "4abcbb41",
   "metadata": {},
   "source": [
    "# 5.0 PREPRAÇÃO DE DADOS"
   ]
  },
  {
   "cell_type": "markdown",
   "id": "4855fd9e",
   "metadata": {},
   "source": [
    "## 5.1 Encoding"
   ]
  },
  {
   "cell_type": "markdown",
   "id": "655c65fe",
   "metadata": {},
   "source": [
    "### 5.1.1 Label Encoding"
   ]
  },
  {
   "cell_type": "markdown",
   "id": "5cc2306f",
   "metadata": {},
   "source": [
    "A técnica Label Encoding transforma a variavel em um range de números inteiros (sequência numérica)."
   ]
  },
  {
   "cell_type": "code",
   "execution_count": 7,
   "id": "d85639dd",
   "metadata": {},
   "outputs": [],
   "source": [
    "# Copy dataframe\n",
    "df5 = df4.copy()\n",
    "\n",
    "# purchasing_power_org\n",
    "df5['purchasing_power_org'] = df5['purchasing_power_org'].map({'high': 3, 'average': 2, 'low': 1})\n",
    "\n",
    "# greater_50\n",
    "df5['greater_50%'] = df5['greater_50%'].map({'no': 0, 'yes': 1})\n",
    "\n",
    "# type_amount\n",
    "df5['type_amount'] = df5['type_amount'].map({'less': 0, 'greater': 1})"
   ]
  },
  {
   "cell_type": "markdown",
   "id": "dcd96f56",
   "metadata": {},
   "source": [
    "### 5.1.2 One Hot Encoding"
   ]
  },
  {
   "cell_type": "markdown",
   "id": "462458d1",
   "metadata": {},
   "source": [
    "A técnica One Hot Encoding mapeia a variavel categórica com novas variaveis binárias contendo 0: representando a Não existência do valor ou 1: representando a existência do valor."
   ]
  },
  {
   "cell_type": "code",
   "execution_count": 8,
   "id": "146c031c",
   "metadata": {},
   "outputs": [],
   "source": [
    "# type\n",
    "df5 = pd.get_dummies(df5, prefix='type', columns=['type'])\n",
    "\n",
    "# type_transaction\n",
    "df5 = pd.get_dummies(df5, prefix='type_transaction', columns=['type_transaction'])"
   ]
  },
  {
   "cell_type": "markdown",
   "id": "05f23502",
   "metadata": {},
   "source": [
    "## 5.3 Reescalonamento"
   ]
  },
  {
   "cell_type": "markdown",
   "id": "4b79348e",
   "metadata": {},
   "source": [
    "### 5.3.1 Min Max Scaler"
   ]
  },
  {
   "cell_type": "markdown",
   "id": "16b032e4",
   "metadata": {},
   "source": [
    "A abordagem de Min Max Scaler transforma os dados para um intervalo entre 0 e 1. "
   ]
  },
  {
   "cell_type": "code",
   "execution_count": 9,
   "id": "4732839c",
   "metadata": {},
   "outputs": [],
   "source": [
    "# Define method\n",
    "mms = MinMaxScaler()\n",
    "\n",
    "# step\n",
    "df5['step'] = mms.fit_transform(df5[['step']].values)"
   ]
  },
  {
   "cell_type": "markdown",
   "id": "6590596a",
   "metadata": {},
   "source": [
    "### 5.3.2 Robust Scaler"
   ]
  },
  {
   "cell_type": "markdown",
   "id": "6c8b4d45",
   "metadata": {},
   "source": [
    "A abordagem de Roboust Scaler transforma os dados para um intervalo entre o 1º quartil e o 3º."
   ]
  },
  {
   "cell_type": "code",
   "execution_count": 10,
   "id": "891228ea",
   "metadata": {},
   "outputs": [],
   "source": [
    "# Define method\n",
    "rs_amount = RobustScaler()\n",
    "rs_oldbalance_org  = RobustScaler()\n",
    "rs_newbalance_orig = RobustScaler()\n",
    "rs_oldbalance_dest = RobustScaler()\n",
    "rs_newbalance_dest = RobustScaler()\n",
    "\n",
    "# amount\n",
    "df5['amount'] = rs_amount.fit_transform(df5[['amount']].values)\n",
    "\n",
    "# oldbalance_org\n",
    "df5['oldbalance_org'] = rs_oldbalance_org.fit_transform(df5[['oldbalance_org']].values)\n",
    "\n",
    "# newbalance_orig\n",
    "df5['newbalance_orig'] = rs_newbalance_orig.fit_transform(df5[['newbalance_orig']].values)\n",
    "\n",
    "# oldbalance_dest\n",
    "df5['oldbalance_dest'] = rs_oldbalance_dest.fit_transform(df5[['oldbalance_dest']].values)\n",
    "\n",
    "# newbalance_dest\n",
    "df5['newbalance_dest'] = rs_newbalance_dest.fit_transform(df5[['newbalance_dest']].values)"
   ]
  },
  {
   "cell_type": "markdown",
   "id": "2f90fead",
   "metadata": {},
   "source": [
    "## 5.4 Divisão de Dados"
   ]
  },
  {
   "cell_type": "markdown",
   "id": "96aaca2b",
   "metadata": {},
   "source": [
    "### 5.4.1 Dados de Treinamento e Validação"
   ]
  },
  {
   "cell_type": "code",
   "execution_count": 11,
   "id": "bd0d407e",
   "metadata": {},
   "outputs": [],
   "source": [
    "y = df5['is_fraud'].copy() # target\n",
    "x = df5.drop(columns='is_fraud').copy() # features\n",
    "\n",
    "# Split data between train and validation\n",
    "x_train, x_val, y_train, y_val = train_test_split(x, y, test_size=0.20)\n",
    "\n",
    "# full training\n",
    "training_full = pd.concat([x_train, y_train], axis=1)"
   ]
  },
  {
   "cell_type": "markdown",
   "id": "b89983d9",
   "metadata": {},
   "source": [
    "### 5.4.2 Dados de Teste"
   ]
  },
  {
   "cell_type": "code",
   "execution_count": 12,
   "id": "6592f4ca",
   "metadata": {},
   "outputs": [],
   "source": [
    "test_size = 0.20 # test in 20%\n",
    "sample_size = round(training_full.shape[0] * test_size) \n",
    "test_full = training_full.sample(sample_size) # get sample\n",
    "\n",
    "# training\n",
    "training = training_full.drop(list(test_full.index))\n",
    "x_train = training.drop(columns='is_fraud')\n",
    "y_train = training['is_fraud']\n",
    "\n",
    "# test\n",
    "x_test = test_full.drop(columns='is_fraud')\n",
    "y_test = test_full['is_fraud']\n",
    "\n",
    "# save data to report final\n",
    "report_x_test = x_test.copy()"
   ]
  },
  {
   "cell_type": "markdown",
   "id": "cfa631cf",
   "metadata": {},
   "source": [
    "### 5.4.3 Resumo Divisão de Dados"
   ]
  },
  {
   "cell_type": "code",
   "execution_count": 14,
   "id": "de83c6a0",
   "metadata": {},
   "outputs": [
    {
     "data": {
      "image/png": "[encoded data removed]",
      "text/plain": [
       "<Figure size 1080x360 with 1 Axes>"
      ]
     },
     "metadata": {
      "needs_background": "light"
     },
     "output_type": "display_data"
    }
   ],
   "source": [
    "df_split = pd.DataFrame({\n",
    "                        'Sample': [0.60, 0.20, 0.20],\n",
    "                        'Data': ['Training', 'Validation', 'Test']\n",
    "                        })\n",
    "\n",
    "plt.figure(figsize=(15, 5))\n",
    "sns.barplot(y='Sample', x='Data', data=df_split, palette=palette)\n",
    "plt.title('Divisão de Dados')\n",
    "plt.ylabel('Sample')\n",
    "sns.despine(right=True);"
   ]
  },
  {
   "cell_type": "markdown",
   "id": "7c869d19",
   "metadata": {},
   "source": [
    "**Insight:**"
   ]
  },
  {
   "cell_type": "markdown",
   "id": "cd0db4c6",
   "metadata": {},
   "source": [
    "Os dados foram divididos entre treino com 60% da amostra, validação com 20% e teste com 20%. O treino será usado para o aprendizado do modelo, a validação será usada para avaliar a performance do modelo e o teste para simular os dados de produçao do mundo real."
   ]
  },
  {
   "cell_type": "markdown",
   "id": "6555f701",
   "metadata": {},
   "source": [
    "# 6.0 SELEÇÃO DE FEATURE"
   ]
  },
  {
   "cell_type": "markdown",
   "id": "830be698",
   "metadata": {},
   "source": [
    "## 6.1 Variavel Numérica"
   ]
  },
  {
   "cell_type": "markdown",
   "id": "460a7d99",
   "metadata": {},
   "source": [
    "### 6.1.1 Low Variance"
   ]
  },
  {
   "cell_type": "code",
   "execution_count": 15,
   "id": "538fbbec",
   "metadata": {},
   "outputs": [
    {
     "data": {
      "image/png": "[encoded data removed]",
      "text/plain": [
       "<Figure size 864x360 with 1 Axes>"
      ]
     },
     "metadata": {
      "needs_background": "light"
     },
     "output_type": "display_data"
    }
   ],
   "source": [
    "df6 = df5.copy() # copy dataframe\n",
    "numerical = x_train.select_dtypes(include='float64') # select type float\n",
    "\n",
    "variance_list = [] # save variace to columns\n",
    "columns_list = []  # save columns name\n",
    "color = [] # save colors to bar\n",
    "    \n",
    "for p in range(numerical.shape[1]): \n",
    "    variance = numerical.iloc[:, p].var() # calculate variance\n",
    "    \n",
    "    variance_list.append(variance) # variance\n",
    "    columns_list.append(numerical.columns[p]) # columns\n",
    "\n",
    "# parse variance and columns name to dataframe\n",
    "df = pd.DataFrame({'columns': columns_list, 'variance': variance_list})\n",
    "df = df.sort_values(by='variance', ascending=False) # order by variance\n",
    "\n",
    "# adjust color to columns selected\n",
    "for c in range(len(df)):\n",
    "    \n",
    "    if c in [0, 1]: color.append(palette[0])\n",
    "    else: color.append(palette[1])\n",
    "        \n",
    "# create figure\n",
    "plt.figure(figsize=(12, 5))\n",
    "sns.barplot(x='variance', y='columns', data=df, palette=color)\n",
    "plt.title('Variancia para Seleção de Atributos')\n",
    "plt.ylabel('')\n",
    "sns.despine(right=True);"
   ]
  },
  {
   "cell_type": "markdown",
   "id": "97dfa98e",
   "metadata": {},
   "source": [
    "**Insight:**\n",
    "\n",
    "Nas variaveis numéricas, em termos de variação, há mais importância para o modelo as variaveis sobre quem fez a transação. No caso, o saldo que a pessoa tinha antes da transação e o saldo depois."
   ]
  },
  {
   "cell_type": "markdown",
   "id": "56636aa3",
   "metadata": {},
   "source": [
    "## 6.2 Variavel Categórica"
   ]
  },
  {
   "cell_type": "markdown",
   "id": "5d875422",
   "metadata": {},
   "source": [
    "### 6.2.1 Feature Importance"
   ]
  },
  {
   "cell_type": "code",
   "execution_count": 16,
   "id": "36465d5c",
   "metadata": {},
   "outputs": [
    {
     "data": {
      "image/png": "[encoded data removed]",
      "text/plain": [
       "<Figure size 864x504 with 1 Axes>"
      ]
     },
     "metadata": {
      "needs_background": "light"
     },
     "output_type": "display_data"
    }
   ],
   "source": [
    "# select categorial and remove id\n",
    "object_int = x_train.select_dtypes(include=['int64', 'uint8', 'object']).drop(columns=['name_orig', 'name_dest']).copy()\n",
    "\n",
    "trees = ExtraTreesClassifier() # define extra trees\n",
    "tree_training = trees.fit(object_int, y_train) # training extra trees\n",
    "\n",
    "# Feature importance\n",
    "importances = tree_training.feature_importances_\n",
    "indices = np.argsort(importances)[::-1]\n",
    "\n",
    "# Create dataframe with feature and importance\n",
    "df = pd.DataFrame()\n",
    "for i, j in zip(object_int, tree_training.feature_importances_):\n",
    "    aux = pd.DataFrame({'feature': i, 'importance': j}, index=[0])\n",
    "    df  = pd.concat([df, aux], axis=0)\n",
    "\n",
    "# order by imporante\n",
    "df = df.sort_values(by='importance', ascending=False)\n",
    "\n",
    "# adjust color to columns selected\n",
    "color2 = []\n",
    "for i in range(len(df)):\n",
    "    if i in [0, 1, 2, 3, 4, 5, 6]: # position to columns selected\n",
    "        color2.append(palette[0])\n",
    "    else:\n",
    "        color2.append(palette[1])\n",
    "\n",
    "# Create figure to show feature importance  \n",
    "plt.figure(figsize=(12, 7))\n",
    "sns.barplot(y='feature', x='importance', data=df, order=df['feature'], palette=color2)\n",
    "sns.despine(right=True)\n",
    "plt.title('Feature Importances')\n",
    "plt.xlabel('');"
   ]
  },
  {
   "cell_type": "markdown",
   "id": "963633f5",
   "metadata": {},
   "source": [
    "**Insight:**\n",
    "\n",
    "Nas variaveis categóricas, em termos do nível de importancia, 7 das 11 variaveis tem maior importancia para o aprendizado do modelo."
   ]
  },
  {
   "cell_type": "markdown",
   "id": "2df7c8fb",
   "metadata": {},
   "source": [
    "## 6.3 Filtragem de Feature"
   ]
  },
  {
   "cell_type": "code",
   "execution_count": 13,
   "id": "715e7aa9",
   "metadata": {},
   "outputs": [
    {
     "name": "stdout",
     "output_type": "stream",
     "text": [
      "Columns Selected:\n",
      "\n",
      "oldbalance_org\n",
      "newbalance_orig\n",
      "greater_50%\n",
      "type_TRANSFER\n",
      "type_amount\n",
      "type_CASH_OUT\n",
      "type_CASH_IN\n",
      "purchasing_power_org\n",
      "is_flagged_fraud\n"
     ]
    }
   ],
   "source": [
    "cols_selected = ['oldbalance_org', 'newbalance_orig', 'greater_50%', 'type_TRANSFER',\n",
    "                 'type_amount', 'type_CASH_OUT', 'type_CASH_IN', 'purchasing_power_org',\n",
    "                 'is_flagged_fraud']\n",
    "\n",
    "# Filter columns selected\n",
    "x_train = x_train[cols_selected]\n",
    "x_val = x_val[cols_selected]\n",
    "x_test = x_test[cols_selected]\n",
    "\n",
    "# show feature importance columns selected\n",
    "print('Columns Selected:\\n')\n",
    "for c in cols_selected:\n",
    "    print(c)"
   ]
  },
  {
   "cell_type": "markdown",
   "id": "427d648c",
   "metadata": {},
   "source": [
    "## 5.2 Desbalanceamento"
   ]
  },
  {
   "cell_type": "markdown",
   "id": "14587762",
   "metadata": {},
   "source": [
    "### 5.2.1 Smote"
   ]
  },
  {
   "cell_type": "markdown",
   "id": "bb77f2c6",
   "metadata": {},
   "source": [
    "A técnica Smote cria dados sintéticos da classe minoritaria (não fraude) fazendo com que as classes Fraude e Não Fraude tenham a mesma proporção. Para manter a mesma proporção, ele usa a similaridade calculando a distância dos pontos para encontrar os vizinhos mais próximos."
   ]
  },
  {
   "cell_type": "code",
   "execution_count": 14,
   "id": "1e364115",
   "metadata": {},
   "outputs": [
    {
     "data": {
      "image/png": "[encoded data removed]",
      "text/plain": [
       "<Figure size 1080x360 with 2 Axes>"
      ]
     },
     "metadata": {
      "needs_background": "light"
     },
     "output_type": "display_data"
    }
   ],
   "source": [
    "# define method Smote\n",
    "smote = SMOTE()\n",
    "\n",
    "x_oversample, y_oversample = smote.fit_resample(x_train, y_train) # apply smote \n",
    "training_full_smote = pd.concat([x_oversample, y_oversample], axis=1) # Merge new data\n",
    "\n",
    "# Figure 1\n",
    "plt.figure(figsize=(15, 5))\n",
    "plt.subplot(1, 2, 1)\n",
    "sns.countplot(x=y_train, palette=palette)\n",
    "sns.despine(right=True)\n",
    "plt.ylabel('Quantity')\n",
    "plt.title('Target - Original')\n",
    "\n",
    "# Figure 2\n",
    "plt.subplot(1, 2, 2)\n",
    "sns.countplot(x=y_oversample, palette=palette)\n",
    "sns.despine(right=True)\n",
    "plt.ylabel('Quantity')\n",
    "plt.title('Target - SMOTE');"
   ]
  },
  {
   "cell_type": "markdown",
   "id": "7e7b91eb",
   "metadata": {},
   "source": [
    "**Insight:**\n",
    "\n",
    "Após o tratamento de desbalanceamento dos dados, a classe Não Fraude possui a mesma quantidade de exemplos da classe Fraude. Com a mesma proporção reduzimos o viés do modelo em aprender muito de uma classe apenas."
   ]
  },
  {
   "cell_type": "markdown",
   "id": "03174a51",
   "metadata": {},
   "source": [
    "# 7.0 MACHINE LEARNING"
   ]
  },
  {
   "cell_type": "markdown",
   "id": "6c0aa4a3",
   "metadata": {},
   "source": [
    "## 7.1 Modelo Baseline"
   ]
  },
  {
   "cell_type": "code",
   "execution_count": 15,
   "id": "aefee908",
   "metadata": {},
   "outputs": [
    {
     "data": {
      "text/html": [
       "<div>\n",
       "<style scoped>\n",
       "    .dataframe tbody tr th:only-of-type {\n",
       "        vertical-align: middle;\n",
       "    }\n",
       "\n",
       "    .dataframe tbody tr th {\n",
       "        vertical-align: top;\n",
       "    }\n",
       "\n",
       "    .dataframe thead th {\n",
       "        text-align: right;\n",
       "    }\n",
       "</style>\n",
       "<table border=\"1\" class=\"dataframe\">\n",
       "  <thead>\n",
       "    <tr style=\"text-align: right;\">\n",
       "      <th></th>\n",
       "      <th>Model_name</th>\n",
       "      <th>Balanced_accuracy</th>\n",
       "      <th>Precision</th>\n",
       "      <th>Recall</th>\n",
       "    </tr>\n",
       "  </thead>\n",
       "  <tbody>\n",
       "    <tr>\n",
       "      <th>0</th>\n",
       "      <td>Baseline</td>\n",
       "      <td>0.5</td>\n",
       "      <td>0.0</td>\n",
       "      <td>0.0</td>\n",
       "    </tr>\n",
       "  </tbody>\n",
       "</table>\n",
       "</div>"
      ],
      "text/plain": [
       "  Model_name  Balanced_accuracy  Precision  Recall\n",
       "0   Baseline                0.5        0.0     0.0"
      ]
     },
     "execution_count": 15,
     "metadata": {},
     "output_type": "execute_result"
    },
    {
     "data": {
      "image/png": "[encoded data removed]",
      "text/plain": [
       "<Figure size 1080x360 with 4 Axes>"
      ]
     },
     "metadata": {
      "needs_background": "light"
     },
     "output_type": "display_data"
    }
   ],
   "source": [
    "# define baseline model\n",
    "baseline = DummyClassifier()\n",
    "\n",
    "# model training\n",
    "baseline_trained = baseline.fit(x_oversample, y_oversample)\n",
    "\n",
    "# predict with validation\n",
    "yhat_baseline = baseline_trained.predict(x_val)\n",
    "\n",
    "# compute metric\n",
    "metrics_baseline = compute_metrics(model_name='Baseline', y_validation=y_val, yhat=yhat_baseline)\n",
    "\n",
    "# show graph\n",
    "plot_metric(y_val, yhat_baseline, 'Baseline')\n",
    "\n",
    "# show metrics\n",
    "metrics_baseline"
   ]
  },
  {
   "cell_type": "markdown",
   "id": "a4db6449",
   "metadata": {},
   "source": [
    "### 7.1.1 Cross Validation - Modelo Baseline"
   ]
  },
  {
   "cell_type": "code",
   "execution_count": 16,
   "id": "5f40ca87",
   "metadata": {},
   "outputs": [
    {
     "name": "stdout",
     "output_type": "stream",
     "text": [
      "Number KFold: 1/5\n",
      "Number KFold: 2/5\n",
      "Number KFold: 3/5\n",
      "Number KFold: 4/5\n",
      "Number KFold: 5/5\n"
     ]
    },
    {
     "data": {
      "text/html": [
       "<div>\n",
       "<style scoped>\n",
       "    .dataframe tbody tr th:only-of-type {\n",
       "        vertical-align: middle;\n",
       "    }\n",
       "\n",
       "    .dataframe tbody tr th {\n",
       "        vertical-align: top;\n",
       "    }\n",
       "\n",
       "    .dataframe thead th {\n",
       "        text-align: right;\n",
       "    }\n",
       "</style>\n",
       "<table border=\"1\" class=\"dataframe\">\n",
       "  <thead>\n",
       "    <tr style=\"text-align: right;\">\n",
       "      <th></th>\n",
       "      <th>Model_name</th>\n",
       "      <th>Balanced_accuracy</th>\n",
       "      <th>Precision</th>\n",
       "      <th>Recall</th>\n",
       "    </tr>\n",
       "  </thead>\n",
       "  <tbody>\n",
       "    <tr>\n",
       "      <th>0</th>\n",
       "      <td>Baseline</td>\n",
       "      <td>0.5 +/- 0.0</td>\n",
       "      <td>0.0 +/- 0.0</td>\n",
       "      <td>0.0 +/- 0.0</td>\n",
       "    </tr>\n",
       "  </tbody>\n",
       "</table>\n",
       "</div>"
      ],
      "text/plain": [
       "  Model_name Balanced_accuracy    Precision       Recall\n",
       "0   Baseline       0.5 +/- 0.0  0.0 +/- 0.0  0.0 +/- 0.0"
      ]
     },
     "execution_count": 16,
     "metadata": {},
     "output_type": "execute_result"
    }
   ],
   "source": [
    "# Join data to cross validation\n",
    "x_cross_val = pd.concat([x_oversample, x_val], axis=0)\n",
    "y_cross_val = pd.concat([y_oversample, y_val], axis=0)\n",
    "\n",
    "# apply cross validation\n",
    "cross_baseline = cross_validation('Baseline', x_cross_val, y_cross_val, baseline, cv=5)\n",
    "cross_baseline"
   ]
  },
  {
   "cell_type": "markdown",
   "id": "9071a5a0",
   "metadata": {},
   "source": [
    "## 7.2 Naive Bayes"
   ]
  },
  {
   "cell_type": "code",
   "execution_count": 17,
   "id": "804f42dd",
   "metadata": {},
   "outputs": [
    {
     "data": {
      "text/html": [
       "<div>\n",
       "<style scoped>\n",
       "    .dataframe tbody tr th:only-of-type {\n",
       "        vertical-align: middle;\n",
       "    }\n",
       "\n",
       "    .dataframe tbody tr th {\n",
       "        vertical-align: top;\n",
       "    }\n",
       "\n",
       "    .dataframe thead th {\n",
       "        text-align: right;\n",
       "    }\n",
       "</style>\n",
       "<table border=\"1\" class=\"dataframe\">\n",
       "  <thead>\n",
       "    <tr style=\"text-align: right;\">\n",
       "      <th></th>\n",
       "      <th>Model_name</th>\n",
       "      <th>Balanced_accuracy</th>\n",
       "      <th>Precision</th>\n",
       "      <th>Recall</th>\n",
       "    </tr>\n",
       "  </thead>\n",
       "  <tbody>\n",
       "    <tr>\n",
       "      <th>0</th>\n",
       "      <td>Naive Bayes</td>\n",
       "      <td>0.875232</td>\n",
       "      <td>0.005472</td>\n",
       "      <td>0.975851</td>\n",
       "    </tr>\n",
       "  </tbody>\n",
       "</table>\n",
       "</div>"
      ],
      "text/plain": [
       "    Model_name  Balanced_accuracy  Precision    Recall\n",
       "0  Naive Bayes           0.875232   0.005472  0.975851"
      ]
     },
     "execution_count": 17,
     "metadata": {},
     "output_type": "execute_result"
    },
    {
     "data": {
      "image/png": "[encoded data removed]",
      "text/plain": [
       "<Figure size 1080x360 with 4 Axes>"
      ]
     },
     "metadata": {
      "needs_background": "light"
     },
     "output_type": "display_data"
    }
   ],
   "source": [
    "# define naive bayes\n",
    "naive_bayes = GaussianNB()\n",
    "\n",
    "# model training\n",
    "naive_bayes_trained = naive_bayes.fit(x_oversample, y_oversample)\n",
    "\n",
    "# predict with validation\n",
    "yhat_naive_bayes = naive_bayes_trained.predict(x_val)\n",
    "\n",
    "# compute metric\n",
    "metrics_naive_bayes = compute_metrics(model_name='Naive Bayes', y_validation=y_val, yhat=yhat_naive_bayes)\n",
    "\n",
    "# show graph\n",
    "plot_metric(y_val, yhat_naive_bayes, 'Naive Bayes')\n",
    "\n",
    "# show metrics\n",
    "metrics_naive_bayes"
   ]
  },
  {
   "cell_type": "markdown",
   "id": "923d0261",
   "metadata": {},
   "source": [
    "### 7.2.1 Naive Bayes - Cross Validation"
   ]
  },
  {
   "cell_type": "code",
   "execution_count": 18,
   "id": "1ef5f529",
   "metadata": {},
   "outputs": [
    {
     "name": "stdout",
     "output_type": "stream",
     "text": [
      "Number KFold: 1/5\n",
      "Number KFold: 2/5\n",
      "Number KFold: 3/5\n",
      "Number KFold: 4/5\n",
      "Number KFold: 5/5\n"
     ]
    },
    {
     "data": {
      "text/html": [
       "<div>\n",
       "<style scoped>\n",
       "    .dataframe tbody tr th:only-of-type {\n",
       "        vertical-align: middle;\n",
       "    }\n",
       "\n",
       "    .dataframe tbody tr th {\n",
       "        vertical-align: top;\n",
       "    }\n",
       "\n",
       "    .dataframe thead th {\n",
       "        text-align: right;\n",
       "    }\n",
       "</style>\n",
       "<table border=\"1\" class=\"dataframe\">\n",
       "  <thead>\n",
       "    <tr style=\"text-align: right;\">\n",
       "      <th></th>\n",
       "      <th>Model_name</th>\n",
       "      <th>Balanced_accuracy</th>\n",
       "      <th>Precision</th>\n",
       "      <th>Recall</th>\n",
       "    </tr>\n",
       "  </thead>\n",
       "  <tbody>\n",
       "    <tr>\n",
       "      <th>0</th>\n",
       "      <td>Naive Bayes</td>\n",
       "      <td>0.88 +/- 0.00022</td>\n",
       "      <td>0.77 +/- 0.0003</td>\n",
       "      <td>0.98 +/- 0.00012</td>\n",
       "    </tr>\n",
       "  </tbody>\n",
       "</table>\n",
       "</div>"
      ],
      "text/plain": [
       "    Model_name Balanced_accuracy        Precision            Recall\n",
       "0  Naive Bayes  0.88 +/- 0.00022  0.77 +/- 0.0003  0.98 +/- 0.00012"
      ]
     },
     "execution_count": 18,
     "metadata": {},
     "output_type": "execute_result"
    }
   ],
   "source": [
    "# apply cross validation\n",
    "cross_validation_bayes = cross_validation('Naive Bayes', x_cross_val, y_cross_val, naive_bayes, cv=5)\n",
    "cross_validation_bayes"
   ]
  },
  {
   "cell_type": "markdown",
   "id": "0d096e95",
   "metadata": {},
   "source": [
    "## 7.3 Logistic Regression"
   ]
  },
  {
   "cell_type": "code",
   "execution_count": 19,
   "id": "3591d582",
   "metadata": {},
   "outputs": [
    {
     "data": {
      "text/html": [
       "<div>\n",
       "<style scoped>\n",
       "    .dataframe tbody tr th:only-of-type {\n",
       "        vertical-align: middle;\n",
       "    }\n",
       "\n",
       "    .dataframe tbody tr th {\n",
       "        vertical-align: top;\n",
       "    }\n",
       "\n",
       "    .dataframe thead th {\n",
       "        text-align: right;\n",
       "    }\n",
       "</style>\n",
       "<table border=\"1\" class=\"dataframe\">\n",
       "  <thead>\n",
       "    <tr style=\"text-align: right;\">\n",
       "      <th></th>\n",
       "      <th>Model_name</th>\n",
       "      <th>Balanced_accuracy</th>\n",
       "      <th>Precision</th>\n",
       "      <th>Recall</th>\n",
       "    </tr>\n",
       "  </thead>\n",
       "  <tbody>\n",
       "    <tr>\n",
       "      <th>0</th>\n",
       "      <td>Logistic Regression</td>\n",
       "      <td>0.964317</td>\n",
       "      <td>0.019008</td>\n",
       "      <td>0.993808</td>\n",
       "    </tr>\n",
       "  </tbody>\n",
       "</table>\n",
       "</div>"
      ],
      "text/plain": [
       "            Model_name  Balanced_accuracy  Precision    Recall\n",
       "0  Logistic Regression           0.964317   0.019008  0.993808"
      ]
     },
     "execution_count": 19,
     "metadata": {},
     "output_type": "execute_result"
    },
    {
     "data": {
      "image/png": "[encoded data removed]",
      "text/plain": [
       "<Figure size 1080x360 with 4 Axes>"
      ]
     },
     "metadata": {
      "needs_background": "light"
     },
     "output_type": "display_data"
    }
   ],
   "source": [
    "# define Logistic Regression\n",
    "lr = LogisticRegression()\n",
    "\n",
    "# model training\n",
    "lr_trained = lr.fit(x_oversample, y_oversample)\n",
    "\n",
    "# predict with validation\n",
    "yhat_lr = lr_trained.predict(x_val)\n",
    "\n",
    "# compute metric\n",
    "metrics_lr = compute_metrics(model_name='Logistic Regression', y_validation=y_val, yhat=yhat_lr)\n",
    "\n",
    "# show graph\n",
    "plot_metric(y_val, yhat_lr, 'Logistic Reg.')\n",
    "\n",
    "# show metric\n",
    "metrics_lr"
   ]
  },
  {
   "cell_type": "markdown",
   "id": "ad0ab459",
   "metadata": {},
   "source": [
    "### 7.3.1 Logistic Regression - Cross Validation"
   ]
  },
  {
   "cell_type": "code",
   "execution_count": 20,
   "id": "6d01abb1",
   "metadata": {},
   "outputs": [
    {
     "name": "stdout",
     "output_type": "stream",
     "text": [
      "Number KFold: 1/5\n",
      "Number KFold: 2/5\n",
      "Number KFold: 3/5\n",
      "Number KFold: 4/5\n",
      "Number KFold: 5/5\n"
     ]
    },
    {
     "data": {
      "text/html": [
       "<div>\n",
       "<style scoped>\n",
       "    .dataframe tbody tr th:only-of-type {\n",
       "        vertical-align: middle;\n",
       "    }\n",
       "\n",
       "    .dataframe tbody tr th {\n",
       "        vertical-align: top;\n",
       "    }\n",
       "\n",
       "    .dataframe thead th {\n",
       "        text-align: right;\n",
       "    }\n",
       "</style>\n",
       "<table border=\"1\" class=\"dataframe\">\n",
       "  <thead>\n",
       "    <tr style=\"text-align: right;\">\n",
       "      <th></th>\n",
       "      <th>Model_name</th>\n",
       "      <th>Balanced_accuracy</th>\n",
       "      <th>Precision</th>\n",
       "      <th>Recall</th>\n",
       "    </tr>\n",
       "  </thead>\n",
       "  <tbody>\n",
       "    <tr>\n",
       "      <th>0</th>\n",
       "      <td>Logistic Regression</td>\n",
       "      <td>0.97 +/- 0.00035</td>\n",
       "      <td>0.92 +/- 0.00075</td>\n",
       "      <td>1.0 +/- 7e-05</td>\n",
       "    </tr>\n",
       "  </tbody>\n",
       "</table>\n",
       "</div>"
      ],
      "text/plain": [
       "            Model_name Balanced_accuracy         Precision         Recall\n",
       "0  Logistic Regression  0.97 +/- 0.00035  0.92 +/- 0.00075  1.0 +/- 7e-05"
      ]
     },
     "execution_count": 20,
     "metadata": {},
     "output_type": "execute_result"
    }
   ],
   "source": [
    "# apply cross validation\n",
    "cross_validation_lr = cross_validation('Logistic Regression', x_cross_val, y_cross_val, lr, cv=5)\n",
    "cross_validation_lr"
   ]
  },
  {
   "cell_type": "markdown",
   "id": "32ae16f4",
   "metadata": {},
   "source": [
    "## 7.4 Random Forest"
   ]
  },
  {
   "cell_type": "code",
   "execution_count": 21,
   "id": "d51ad8ef",
   "metadata": {},
   "outputs": [
    {
     "data": {
      "text/html": [
       "<div>\n",
       "<style scoped>\n",
       "    .dataframe tbody tr th:only-of-type {\n",
       "        vertical-align: middle;\n",
       "    }\n",
       "\n",
       "    .dataframe tbody tr th {\n",
       "        vertical-align: top;\n",
       "    }\n",
       "\n",
       "    .dataframe thead th {\n",
       "        text-align: right;\n",
       "    }\n",
       "</style>\n",
       "<table border=\"1\" class=\"dataframe\">\n",
       "  <thead>\n",
       "    <tr style=\"text-align: right;\">\n",
       "      <th></th>\n",
       "      <th>Model_name</th>\n",
       "      <th>Balanced_accuracy</th>\n",
       "      <th>Precision</th>\n",
       "      <th>Recall</th>\n",
       "    </tr>\n",
       "  </thead>\n",
       "  <tbody>\n",
       "    <tr>\n",
       "      <th>0</th>\n",
       "      <td>Random Forest</td>\n",
       "      <td>0.984886</td>\n",
       "      <td>0.049919</td>\n",
       "      <td>0.993808</td>\n",
       "    </tr>\n",
       "  </tbody>\n",
       "</table>\n",
       "</div>"
      ],
      "text/plain": [
       "      Model_name  Balanced_accuracy  Precision    Recall\n",
       "0  Random Forest           0.984886   0.049919  0.993808"
      ]
     },
     "execution_count": 21,
     "metadata": {},
     "output_type": "execute_result"
    },
    {
     "data": {
      "image/png": "[encoded data removed]",
      "text/plain": [
       "<Figure size 1080x360 with 4 Axes>"
      ]
     },
     "metadata": {
      "needs_background": "light"
     },
     "output_type": "display_data"
    }
   ],
   "source": [
    "# define Random Forest\n",
    "rf = RandomForestClassifier(max_features='sqrt', n_estimators=10, max_depth=5)\n",
    "\n",
    "# model training\n",
    "rf_trained = rf.fit(x_oversample, y_oversample)\n",
    "\n",
    "# predict with validation\n",
    "yhat_rf = rf_trained.predict(x_val)\n",
    "\n",
    "# compute metric\n",
    "metrics_rf = compute_metrics(model_name='Random Forest', y_validation=y_val, yhat=yhat_rf)\n",
    "\n",
    "# show graph\n",
    "plot_metric(y_val, yhat_rf, 'Random Forest')\n",
    "\n",
    "# show metric\n",
    "metrics_rf"
   ]
  },
  {
   "cell_type": "markdown",
   "id": "db00d318",
   "metadata": {},
   "source": [
    "### 7.4.1 Random Forest - Cross Validation"
   ]
  },
  {
   "cell_type": "code",
   "execution_count": 22,
   "id": "b6c3537c",
   "metadata": {},
   "outputs": [
    {
     "name": "stdout",
     "output_type": "stream",
     "text": [
      "Number KFold: 1/5\n",
      "Number KFold: 2/5\n",
      "Number KFold: 3/5\n",
      "Number KFold: 4/5\n",
      "Number KFold: 5/5\n"
     ]
    },
    {
     "data": {
      "text/html": [
       "<div>\n",
       "<style scoped>\n",
       "    .dataframe tbody tr th:only-of-type {\n",
       "        vertical-align: middle;\n",
       "    }\n",
       "\n",
       "    .dataframe tbody tr th {\n",
       "        vertical-align: top;\n",
       "    }\n",
       "\n",
       "    .dataframe thead th {\n",
       "        text-align: right;\n",
       "    }\n",
       "</style>\n",
       "<table border=\"1\" class=\"dataframe\">\n",
       "  <thead>\n",
       "    <tr style=\"text-align: right;\">\n",
       "      <th></th>\n",
       "      <th>Model_name</th>\n",
       "      <th>Balanced_accuracy</th>\n",
       "      <th>Precision</th>\n",
       "      <th>Recall</th>\n",
       "    </tr>\n",
       "  </thead>\n",
       "  <tbody>\n",
       "    <tr>\n",
       "      <th>0</th>\n",
       "      <td>Random Forest</td>\n",
       "      <td>0.98 +/- 0.0034</td>\n",
       "      <td>0.96 +/- 0.00824</td>\n",
       "      <td>1.0 +/- 0.0001</td>\n",
       "    </tr>\n",
       "  </tbody>\n",
       "</table>\n",
       "</div>"
      ],
      "text/plain": [
       "      Model_name Balanced_accuracy         Precision          Recall\n",
       "0  Random Forest   0.98 +/- 0.0034  0.96 +/- 0.00824  1.0 +/- 0.0001"
      ]
     },
     "execution_count": 22,
     "metadata": {},
     "output_type": "execute_result"
    }
   ],
   "source": [
    "# apply cross validation\n",
    "cross_validation_rf = cross_validation('Random Forest', x_cross_val, y_cross_val, rf, cv=5)\n",
    "cross_validation_rf"
   ]
  },
  {
   "cell_type": "markdown",
   "id": "a1e0a437",
   "metadata": {},
   "source": [
    "## 7.5 LGBM"
   ]
  },
  {
   "cell_type": "code",
   "execution_count": 23,
   "id": "66e500f3",
   "metadata": {},
   "outputs": [
    {
     "data": {
      "text/html": [
       "<div>\n",
       "<style scoped>\n",
       "    .dataframe tbody tr th:only-of-type {\n",
       "        vertical-align: middle;\n",
       "    }\n",
       "\n",
       "    .dataframe tbody tr th {\n",
       "        vertical-align: top;\n",
       "    }\n",
       "\n",
       "    .dataframe thead th {\n",
       "        text-align: right;\n",
       "    }\n",
       "</style>\n",
       "<table border=\"1\" class=\"dataframe\">\n",
       "  <thead>\n",
       "    <tr style=\"text-align: right;\">\n",
       "      <th></th>\n",
       "      <th>Model_name</th>\n",
       "      <th>Balanced_accuracy</th>\n",
       "      <th>Precision</th>\n",
       "      <th>Recall</th>\n",
       "    </tr>\n",
       "  </thead>\n",
       "  <tbody>\n",
       "    <tr>\n",
       "      <th>0</th>\n",
       "      <td>LGBM</td>\n",
       "      <td>0.985149</td>\n",
       "      <td>0.055012</td>\n",
       "      <td>0.99195</td>\n",
       "    </tr>\n",
       "  </tbody>\n",
       "</table>\n",
       "</div>"
      ],
      "text/plain": [
       "  Model_name  Balanced_accuracy  Precision   Recall\n",
       "0       LGBM           0.985149   0.055012  0.99195"
      ]
     },
     "execution_count": 23,
     "metadata": {},
     "output_type": "execute_result"
    },
    {
     "data": {
      "image/png": "[encoded data removed]",
      "text/plain": [
       "<Figure size 1080x360 with 4 Axes>"
      ]
     },
     "metadata": {
      "needs_background": "light"
     },
     "output_type": "display_data"
    }
   ],
   "source": [
    "# define LGBM\n",
    "lgbm = LGBMClassifier()\n",
    "\n",
    "# model training\n",
    "lgbm_trained = lgbm.fit(x_oversample, y_oversample)\n",
    "\n",
    "# predict with validation\n",
    "yhat_lgbm = lgbm_trained.predict(x_val)\n",
    "\n",
    "# compute metric\n",
    "metrics_lgbm = compute_metrics(model_name='LGBM', y_validation=y_val, yhat=yhat_lgbm)\n",
    "\n",
    "# show graph\n",
    "plot_metric(y_val, yhat_lgbm, 'LGBM')\n",
    "\n",
    "# show metric\n",
    "metrics_lgbm"
   ]
  },
  {
   "cell_type": "markdown",
   "id": "ace4f0d3",
   "metadata": {},
   "source": [
    "### 7.5.1 LGBM - Cross Validation"
   ]
  },
  {
   "cell_type": "code",
   "execution_count": 24,
   "id": "9029024d",
   "metadata": {},
   "outputs": [
    {
     "name": "stdout",
     "output_type": "stream",
     "text": [
      "Number KFold: 1/5\n",
      "Number KFold: 2/5\n",
      "Number KFold: 3/5\n",
      "Number KFold: 4/5\n",
      "Number KFold: 5/5\n"
     ]
    },
    {
     "data": {
      "text/html": [
       "<div>\n",
       "<style scoped>\n",
       "    .dataframe tbody tr th:only-of-type {\n",
       "        vertical-align: middle;\n",
       "    }\n",
       "\n",
       "    .dataframe tbody tr th {\n",
       "        vertical-align: top;\n",
       "    }\n",
       "\n",
       "    .dataframe thead th {\n",
       "        text-align: right;\n",
       "    }\n",
       "</style>\n",
       "<table border=\"1\" class=\"dataframe\">\n",
       "  <thead>\n",
       "    <tr style=\"text-align: right;\">\n",
       "      <th></th>\n",
       "      <th>Model_name</th>\n",
       "      <th>Balanced_accuracy</th>\n",
       "      <th>Precision</th>\n",
       "      <th>Recall</th>\n",
       "    </tr>\n",
       "  </thead>\n",
       "  <tbody>\n",
       "    <tr>\n",
       "      <th>0</th>\n",
       "      <td>LGBM</td>\n",
       "      <td>0.99 +/- 9e-05</td>\n",
       "      <td>0.97 +/- 0.00023</td>\n",
       "      <td>1.0 +/- 0.00028</td>\n",
       "    </tr>\n",
       "  </tbody>\n",
       "</table>\n",
       "</div>"
      ],
      "text/plain": [
       "  Model_name Balanced_accuracy         Precision           Recall\n",
       "0       LGBM    0.99 +/- 9e-05  0.97 +/- 0.00023  1.0 +/- 0.00028"
      ]
     },
     "execution_count": 24,
     "metadata": {},
     "output_type": "execute_result"
    }
   ],
   "source": [
    "# apply cross validation\n",
    "cross_validation_lgbm = cross_validation('LGBM', x_cross_val, y_cross_val, lgbm, cv=5)\n",
    "cross_validation_lgbm"
   ]
  },
  {
   "cell_type": "markdown",
   "id": "c2258b94",
   "metadata": {},
   "source": [
    "## 7.6 Comparação de Performance"
   ]
  },
  {
   "cell_type": "code",
   "execution_count": 25,
   "id": "ea03041a",
   "metadata": {},
   "outputs": [
    {
     "data": {
      "text/html": [
       "<div>\n",
       "<style scoped>\n",
       "    .dataframe tbody tr th:only-of-type {\n",
       "        vertical-align: middle;\n",
       "    }\n",
       "\n",
       "    .dataframe tbody tr th {\n",
       "        vertical-align: top;\n",
       "    }\n",
       "\n",
       "    .dataframe thead th {\n",
       "        text-align: right;\n",
       "    }\n",
       "</style>\n",
       "<table border=\"1\" class=\"dataframe\">\n",
       "  <thead>\n",
       "    <tr style=\"text-align: right;\">\n",
       "      <th></th>\n",
       "      <th>Model_name</th>\n",
       "      <th>Balanced_accuracy</th>\n",
       "      <th>Precision</th>\n",
       "      <th>Recall</th>\n",
       "    </tr>\n",
       "  </thead>\n",
       "  <tbody>\n",
       "    <tr>\n",
       "      <th>0</th>\n",
       "      <td>Baseline</td>\n",
       "      <td>0.5 +/- 0.0</td>\n",
       "      <td>0.0 +/- 0.0</td>\n",
       "      <td>0.0 +/- 0.0</td>\n",
       "    </tr>\n",
       "    <tr>\n",
       "      <th>0</th>\n",
       "      <td>Naive Bayes</td>\n",
       "      <td>0.88 +/- 0.00022</td>\n",
       "      <td>0.77 +/- 0.0003</td>\n",
       "      <td>0.98 +/- 0.00012</td>\n",
       "    </tr>\n",
       "    <tr>\n",
       "      <th>0</th>\n",
       "      <td>Logistic Regression</td>\n",
       "      <td>0.97 +/- 0.00035</td>\n",
       "      <td>0.92 +/- 0.00075</td>\n",
       "      <td>1.0 +/- 7e-05</td>\n",
       "    </tr>\n",
       "    <tr>\n",
       "      <th>0</th>\n",
       "      <td>Random Forest</td>\n",
       "      <td>0.98 +/- 0.0034</td>\n",
       "      <td>0.96 +/- 0.00824</td>\n",
       "      <td>1.0 +/- 0.0001</td>\n",
       "    </tr>\n",
       "    <tr>\n",
       "      <th>0</th>\n",
       "      <td>LGBM</td>\n",
       "      <td>0.99 +/- 9e-05</td>\n",
       "      <td>0.97 +/- 0.00023</td>\n",
       "      <td>1.0 +/- 0.00028</td>\n",
       "    </tr>\n",
       "  </tbody>\n",
       "</table>\n",
       "</div>"
      ],
      "text/plain": [
       "            Model_name Balanced_accuracy         Precision            Recall\n",
       "0             Baseline       0.5 +/- 0.0       0.0 +/- 0.0       0.0 +/- 0.0\n",
       "0          Naive Bayes  0.88 +/- 0.00022   0.77 +/- 0.0003  0.98 +/- 0.00012\n",
       "0  Logistic Regression  0.97 +/- 0.00035  0.92 +/- 0.00075     1.0 +/- 7e-05\n",
       "0        Random Forest   0.98 +/- 0.0034  0.96 +/- 0.00824    1.0 +/- 0.0001\n",
       "0                 LGBM    0.99 +/- 9e-05  0.97 +/- 0.00023   1.0 +/- 0.00028"
      ]
     },
     "execution_count": 25,
     "metadata": {},
     "output_type": "execute_result"
    }
   ],
   "source": [
    "performance = pd.concat([cross_baseline, cross_validation_bayes,\n",
    "                         cross_validation_lr, cross_validation_rf,\n",
    "                         cross_validation_lgbm], axis=0)\n",
    "\n",
    "performance"
   ]
  },
  {
   "cell_type": "markdown",
   "id": "82082603",
   "metadata": {},
   "source": [
    "**Insight:**"
   ]
  },
  {
   "cell_type": "markdown",
   "id": "1ffdc0b2",
   "metadata": {},
   "source": [
    "# 8.0 AJUSTE DE HIPERPARAMETROS"
   ]
  },
  {
   "cell_type": "markdown",
   "id": "efd02daf",
   "metadata": {},
   "source": [
    "A técnica de Random Search faz uma busca aleatória por parametros para encontrar a melhor combinação. O Random Search não é a técnica que obtem os melhores resultados, mas é mais rápida. Para este problema, como há um conjunto grande de dados, será usado o Random Search, devido precisar de menor poder para processamento e por levar menos tempo. "
   ]
  },
  {
   "cell_type": "markdown",
   "id": "2c46c084",
   "metadata": {},
   "source": [
    "## 8.1 Random Search"
   ]
  },
  {
   "cell_type": "code",
   "execution_count": 20,
   "id": "a9c51046",
   "metadata": {},
   "outputs": [
    {
     "name": "stdout",
     "output_type": "stream",
     "text": [
      "{'num_leaves': 60, 'max_depth': 5, 'min_split_gain': 0.01, 'min_child_weight': 30, 'subsample': 1, 'colsample_bytree': 0.1}\n",
      "Number KFold: 1/5\n",
      "Number KFold: 2/5\n",
      "Number KFold: 3/5\n",
      "Number KFold: 4/5\n",
      "Number KFold: 5/5\n",
      "{'num_leaves': 60, 'max_depth': 10, 'min_split_gain': 0.1, 'min_child_weight': 50, 'subsample': 0.5, 'colsample_bytree': 1}\n",
      "Number KFold: 1/5\n",
      "Number KFold: 2/5\n",
      "Number KFold: 3/5\n",
      "Number KFold: 4/5\n",
      "Number KFold: 5/5\n",
      "{'num_leaves': 15, 'max_depth': 7, 'min_split_gain': 0.1, 'min_child_weight': 50, 'subsample': 1, 'colsample_bytree': 0.1}\n",
      "Number KFold: 1/5\n",
      "Number KFold: 2/5\n",
      "Number KFold: 3/5\n",
      "Number KFold: 4/5\n",
      "Number KFold: 5/5\n",
      "{'num_leaves': 90, 'max_depth': 7, 'min_split_gain': 0.1, 'min_child_weight': 10, 'subsample': 0.5, 'colsample_bytree': 0.1}\n",
      "Number KFold: 1/5\n",
      "Number KFold: 2/5\n",
      "Number KFold: 3/5\n",
      "Number KFold: 4/5\n",
      "Number KFold: 5/5\n",
      "{'num_leaves': 60, 'max_depth': 5, 'min_split_gain': 0.001, 'min_child_weight': 40, 'subsample': 1, 'colsample_bytree': 1}\n",
      "Number KFold: 1/5\n",
      "Number KFold: 2/5\n",
      "Number KFold: 3/5\n",
      "Number KFold: 4/5\n",
      "Number KFold: 5/5\n",
      "{'num_leaves': 90, 'max_depth': 7, 'min_split_gain': 0.01, 'min_child_weight': 40, 'subsample': 0.5, 'colsample_bytree': 0.1}\n",
      "Number KFold: 1/5\n",
      "Number KFold: 2/5\n",
      "Number KFold: 3/5\n",
      "Number KFold: 4/5\n",
      "Number KFold: 5/5\n",
      "{'num_leaves': 45, 'max_depth': 7, 'min_split_gain': 0.001, 'min_child_weight': 40, 'subsample': 0.5, 'colsample_bytree': 0.1}\n",
      "Number KFold: 1/5\n",
      "Number KFold: 2/5\n",
      "Number KFold: 3/5\n",
      "Number KFold: 4/5\n",
      "Number KFold: 5/5\n",
      "{'num_leaves': 45, 'max_depth': 10, 'min_split_gain': 0.1, 'min_child_weight': 40, 'subsample': 0.5, 'colsample_bytree': 1}\n",
      "Number KFold: 1/5\n",
      "Number KFold: 2/5\n",
      "Number KFold: 3/5\n",
      "Number KFold: 4/5\n",
      "Number KFold: 5/5\n",
      "{'num_leaves': 15, 'max_depth': 5, 'min_split_gain': 0.1, 'min_child_weight': 40, 'subsample': 0.5, 'colsample_bytree': 1}\n",
      "Number KFold: 1/5\n",
      "Number KFold: 2/5\n",
      "Number KFold: 3/5\n",
      "Number KFold: 4/5\n",
      "Number KFold: 5/5\n",
      "{'num_leaves': 5, 'max_depth': 7, 'min_split_gain': 0.001, 'min_child_weight': 40, 'subsample': 1, 'colsample_bytree': 0.1}\n",
      "Number KFold: 1/5\n",
      "Number KFold: 2/5\n",
      "Number KFold: 3/5\n",
      "Number KFold: 4/5\n",
      "Number KFold: 5/5\n"
     ]
    },
    {
     "data": {
      "text/html": [
       "<div>\n",
       "<style scoped>\n",
       "    .dataframe tbody tr th:only-of-type {\n",
       "        vertical-align: middle;\n",
       "    }\n",
       "\n",
       "    .dataframe tbody tr th {\n",
       "        vertical-align: top;\n",
       "    }\n",
       "\n",
       "    .dataframe thead th {\n",
       "        text-align: right;\n",
       "    }\n",
       "</style>\n",
       "<table border=\"1\" class=\"dataframe\">\n",
       "  <thead>\n",
       "    <tr style=\"text-align: right;\">\n",
       "      <th></th>\n",
       "      <th>Model Name</th>\n",
       "      <th>Accuracy</th>\n",
       "      <th>Precision</th>\n",
       "      <th>Recall</th>\n",
       "    </tr>\n",
       "  </thead>\n",
       "  <tbody>\n",
       "    <tr>\n",
       "      <th>0</th>\n",
       "      <td>LGBM Random Search</td>\n",
       "      <td>0.97 +/- 0.00032</td>\n",
       "      <td>0.96 +/- 0.00037</td>\n",
       "      <td>0.98 +/- 0.00058</td>\n",
       "    </tr>\n",
       "    <tr>\n",
       "      <th>0</th>\n",
       "      <td>LGBM Random Search</td>\n",
       "      <td>0.99 +/- 0.0001</td>\n",
       "      <td>0.97 +/- 0.00028</td>\n",
       "      <td>1.0 +/- 9e-05</td>\n",
       "    </tr>\n",
       "    <tr>\n",
       "      <th>0</th>\n",
       "      <td>LGBM Random Search</td>\n",
       "      <td>0.97 +/- 0.00028</td>\n",
       "      <td>0.96 +/- 0.0004</td>\n",
       "      <td>0.98 +/- 0.00033</td>\n",
       "    </tr>\n",
       "    <tr>\n",
       "      <th>0</th>\n",
       "      <td>LGBM Random Search</td>\n",
       "      <td>0.97 +/- 0.00036</td>\n",
       "      <td>0.96 +/- 0.00036</td>\n",
       "      <td>0.98 +/- 0.00067</td>\n",
       "    </tr>\n",
       "    <tr>\n",
       "      <th>0</th>\n",
       "      <td>LGBM Random Search</td>\n",
       "      <td>0.99 +/- 8e-05</td>\n",
       "      <td>0.97 +/- 0.00019</td>\n",
       "      <td>1.0 +/- 5e-05</td>\n",
       "    </tr>\n",
       "    <tr>\n",
       "      <th>0</th>\n",
       "      <td>LGBM Random Search</td>\n",
       "      <td>0.97 +/- 0.00033</td>\n",
       "      <td>0.96 +/- 0.00033</td>\n",
       "      <td>0.98 +/- 0.00067</td>\n",
       "    </tr>\n",
       "    <tr>\n",
       "      <th>0</th>\n",
       "      <td>LGBM Random Search</td>\n",
       "      <td>0.97 +/- 0.00027</td>\n",
       "      <td>0.96 +/- 7e-05</td>\n",
       "      <td>0.98 +/- 0.00066</td>\n",
       "    </tr>\n",
       "    <tr>\n",
       "      <th>0</th>\n",
       "      <td>LGBM Random Search</td>\n",
       "      <td>0.99 +/- 0.0001</td>\n",
       "      <td>0.97 +/- 0.00027</td>\n",
       "      <td>1.0 +/- 9e-05</td>\n",
       "    </tr>\n",
       "    <tr>\n",
       "      <th>0</th>\n",
       "      <td>LGBM Random Search</td>\n",
       "      <td>0.99 +/- 8e-05</td>\n",
       "      <td>0.97 +/- 0.00018</td>\n",
       "      <td>1.0 +/- 4e-05</td>\n",
       "    </tr>\n",
       "    <tr>\n",
       "      <th>0</th>\n",
       "      <td>LGBM Random Search</td>\n",
       "      <td>0.97 +/- 0.00046</td>\n",
       "      <td>0.96 +/- 0.00101</td>\n",
       "      <td>0.97 +/- 0.0007</td>\n",
       "    </tr>\n",
       "  </tbody>\n",
       "</table>\n",
       "</div>"
      ],
      "text/plain": [
       "           Model Name          Accuracy         Precision            Recall\n",
       "0  LGBM Random Search  0.97 +/- 0.00032  0.96 +/- 0.00037  0.98 +/- 0.00058\n",
       "0  LGBM Random Search   0.99 +/- 0.0001  0.97 +/- 0.00028     1.0 +/- 9e-05\n",
       "0  LGBM Random Search  0.97 +/- 0.00028   0.96 +/- 0.0004  0.98 +/- 0.00033\n",
       "0  LGBM Random Search  0.97 +/- 0.00036  0.96 +/- 0.00036  0.98 +/- 0.00067\n",
       "0  LGBM Random Search    0.99 +/- 8e-05  0.97 +/- 0.00019     1.0 +/- 5e-05\n",
       "0  LGBM Random Search  0.97 +/- 0.00033  0.96 +/- 0.00033  0.98 +/- 0.00067\n",
       "0  LGBM Random Search  0.97 +/- 0.00027    0.96 +/- 7e-05  0.98 +/- 0.00066\n",
       "0  LGBM Random Search   0.99 +/- 0.0001  0.97 +/- 0.00027     1.0 +/- 9e-05\n",
       "0  LGBM Random Search    0.99 +/- 8e-05  0.97 +/- 0.00018     1.0 +/- 4e-05\n",
       "0  LGBM Random Search  0.97 +/- 0.00046  0.96 +/- 0.00101   0.97 +/- 0.0007"
      ]
     },
     "execution_count": 20,
     "metadata": {},
     "output_type": "execute_result"
    }
   ],
   "source": [
    "lgbm_parameter = {'num_leaves': [5,15,45,60,90],\n",
    "                  'max_depth': [5, 7, 10 ],\n",
    "                  'min_split_gain': [0.001, 0.01 ,0.1],\n",
    "                  'min_child_weight': [10,30,40,50],\n",
    "                  'subsample':[0.5, 1],\n",
    "                  'colsample_bytree':[0.1, 1]\n",
    "                 }\n",
    "\n",
    "MAX_EVAL = 10\n",
    "final_result = pd.DataFrame()\n",
    "\n",
    "for i in range(MAX_EVAL):\n",
    "    \n",
    "    # choose values for parameters randomly\n",
    "    hp = {k: random.sample(v, 1)[0] for k, v in lgbm_parameter.items()}\n",
    "    print(hp)\n",
    "    \n",
    "    # Define model\n",
    "    lgbm = LGBMClassifier(\n",
    "                    num_leaves=hp['num_leaves'],\n",
    "                    max_depth=hp['max_depth'],\n",
    "                    min_split_gain=hp['min_split_gain'],\n",
    "                    min_child_weight=hp['min_child_weight'],\n",
    "                    subsample=hp['subsample'],\n",
    "                    colsample_bytree=hp['colsample_bytree']\n",
    "    )\n",
    "\n",
    "\n",
    "    # Performance\n",
    "    result = cross_validation('LGBM Random Search', x_train_not_id, y_train, lgbm, cv=5)\n",
    "    final_result = pd.concat([final_result, result])\n",
    "    \n",
    "final_result"
   ]
  },
  {
   "cell_type": "markdown",
   "id": "74747717",
   "metadata": {},
   "source": [
    "## 8.2 Treinamento Modelo Final"
   ]
  },
  {
   "cell_type": "markdown",
   "id": "2456e89d",
   "metadata": {},
   "source": [
    "Para o treinamento do modelo final, será usado como treinamento a base de treino + validação e será avaliado com os dados de teste."
   ]
  },
  {
   "cell_type": "code",
   "execution_count": 26,
   "id": "2121691a",
   "metadata": {},
   "outputs": [],
   "source": [
    "# define model with final parameters\n",
    "lgbm_final = LGBMClassifier(max_depth=5, min_split_gain=0.1,\n",
    "                            min_child_weight=40, subsample=0.5,\n",
    "                            colsample_bytree= 1)\n",
    "\n",
    "# training lgbm \n",
    "lgbm_final_trained = lgbm_final.fit(x_cross_val, y_cross_val)"
   ]
  },
  {
   "cell_type": "markdown",
   "id": "7538f416",
   "metadata": {},
   "source": [
    "## 8.3 Teste Modelo Final"
   ]
  },
  {
   "cell_type": "code",
   "execution_count": 27,
   "id": "0d674ec8",
   "metadata": {},
   "outputs": [
    {
     "data": {
      "text/html": [
       "<div>\n",
       "<style scoped>\n",
       "    .dataframe tbody tr th:only-of-type {\n",
       "        vertical-align: middle;\n",
       "    }\n",
       "\n",
       "    .dataframe tbody tr th {\n",
       "        vertical-align: top;\n",
       "    }\n",
       "\n",
       "    .dataframe thead th {\n",
       "        text-align: right;\n",
       "    }\n",
       "</style>\n",
       "<table border=\"1\" class=\"dataframe\">\n",
       "  <thead>\n",
       "    <tr style=\"text-align: right;\">\n",
       "      <th></th>\n",
       "      <th>Model_name</th>\n",
       "      <th>Balanced_accuracy</th>\n",
       "      <th>Precision</th>\n",
       "      <th>Recall</th>\n",
       "    </tr>\n",
       "  </thead>\n",
       "  <tbody>\n",
       "    <tr>\n",
       "      <th>0</th>\n",
       "      <td>LGBM Final</td>\n",
       "      <td>0.986991</td>\n",
       "      <td>0.057899</td>\n",
       "      <td>0.995572</td>\n",
       "    </tr>\n",
       "  </tbody>\n",
       "</table>\n",
       "</div>"
      ],
      "text/plain": [
       "   Model_name  Balanced_accuracy  Precision    Recall\n",
       "0  LGBM Final           0.986991   0.057899  0.995572"
      ]
     },
     "execution_count": 27,
     "metadata": {},
     "output_type": "execute_result"
    },
    {
     "data": {
      "image/png": "[encoded data removed]",
      "text/plain": [
       "<Figure size 1080x360 with 4 Axes>"
      ]
     },
     "metadata": {
      "needs_background": "light"
     },
     "output_type": "display_data"
    }
   ],
   "source": [
    "# predict with test data\n",
    "yhat_lgbm_final = lgbm_final_trained.predict(x_test)\n",
    "\n",
    "# comoute metrics and show\n",
    "metrics_final = compute_metrics(yhat=yhat_lgbm_final, y_validation=y_test, model_name='LGBM Final')\n",
    "\n",
    "# show graph\n",
    "plot_metric(y_test, yhat_lgbm_final, 'LGBM Final')\n",
    "\n",
    "# show metrics\n",
    "metrics_final"
   ]
  },
  {
   "cell_type": "markdown",
   "id": "c411936b",
   "metadata": {},
   "source": [
    "**Insight:**"
   ]
  },
  {
   "cell_type": "markdown",
   "id": "e33ccfe2",
   "metadata": {},
   "source": [
    "# 9.0 TRADUÇÃO E INTERPRETAÇÃO"
   ]
  },
  {
   "cell_type": "markdown",
   "id": "f3652aca",
   "metadata": {},
   "source": [
    "### 1. Qual a Precisão e Acurácia do modelo?"
   ]
  },
  {
   "cell_type": "markdown",
   "id": "7072c5f2",
   "metadata": {},
   "source": [
    "O modelo tem **98.6%** de acurácia."
   ]
  },
  {
   "cell_type": "markdown",
   "id": "cb3ec01d",
   "metadata": {},
   "source": [
    "### 2. Qual a Confiabilidade do modelo em classificar as transações como legítimas ou fraudulentas?"
   ]
  },
  {
   "cell_type": "markdown",
   "id": "6714789f",
   "metadata": {},
   "source": [
    "Em cerca de 1 Milhão de transações, o modelo conseguiu acertar **99.55% das fraudes**."
   ]
  },
  {
   "cell_type": "markdown",
   "id": "dacf0474",
   "metadata": {},
   "source": [
    "### 3. Qual o Faturamento Esperado pela Empresa se classificarmos 100% das transações com o modelo?"
   ]
  },
  {
   "cell_type": "markdown",
   "id": "ddd782ae",
   "metadata": {},
   "source": [
    "Em 1 Milhão de transações, se classificarmos 100% das Fraudes, o faturamento esperado é de **93 Milhões e 477 mil**. "
   ]
  },
  {
   "cell_type": "markdown",
   "id": "4c740993",
   "metadata": {},
   "source": [
    "### 4. Qual o Prejuízo Esperado pela Empresa em caso de falha do modelo?"
   ]
  },
  {
   "cell_type": "markdown",
   "id": "10c0ae01",
   "metadata": {},
   "source": [
    "A cada 1 Milhão de transações o **modelo erra 0.5%** e de 1.329 transações Fraudulentas o **modelo erra 7**."
   ]
  },
  {
   "cell_type": "markdown",
   "id": "211472a5",
   "metadata": {},
   "source": [
    "### 5. Qual o Lucro Esperado pela Blocker Fraud Company ao utilizar o modelo?"
   ]
  },
  {
   "cell_type": "markdown",
   "id": "0f1525b5",
   "metadata": {},
   "source": [
    "Em 1 Milhão de transações, o <ins>lucro bruto</ins> é de 93 Milhões e 392 Mil e o <ins>lucro líquido</ins> por devolver 100% do valor aos 7 clientes é de **93 Milhões e 59 Mil**."
   ]
  },
  {
   "cell_type": "markdown",
   "id": "5e7da034",
   "metadata": {},
   "source": [
    "# 10.0 DEPLOY MODELO"
   ]
  },
  {
   "cell_type": "markdown",
   "id": "94db8501",
   "metadata": {},
   "source": [
    "## 10.1 Salvar Modelo"
   ]
  },
  {
   "cell_type": "code",
   "execution_count": 35,
   "id": "cf647ee5",
   "metadata": {},
   "outputs": [],
   "source": [
    "# Save model with pickle\n",
    "pickle.dump(lgbm_final_trained, open('C:/Users/Jhonatans/projects/ML/Classification/Financial-Fraud-Detection/src/model/lgbm.pkl', 'wb'))"
   ]
  },
  {
   "cell_type": "markdown",
   "id": "aecab2a7",
   "metadata": {},
   "source": [
    "## 10.2 Salvar Transformações"
   ]
  },
  {
   "cell_type": "code",
   "execution_count": null,
   "id": "78b5f05d",
   "metadata": {},
   "outputs": [],
   "source": [
    "# Save transformation with pickle\n",
    "pickle.dump(mms, open('C:/Users/Jhonatans/projects/ML/Classification/Financial-Fraud-Detection/src/preparation/mms_step.pkl', 'wb'))\n",
    "pickle.dump(rs_amount, open('C:/Users/Jhonatans/projects/ML/Classification/Financial-Fraud-Detection/src/preparation/rs_amount.pkl', 'wb'))\n",
    "pickle.dump(rs_oldbalance_org, open('C:/Users/Jhonatans/projects/ML/Classification/Financial-Fraud-Detection/src/preparation/rs_oldbalance_org.pkl', 'wb'))\n",
    "pickle.dump(rs_newbalance_orig, open('C:/Users/Jhonatans/projects/ML/Classification/Financial-Fraud-Detection/src/preparation/rs_newbalance_orig.pkl', 'wb'))\n",
    "pickle.dump(rs_oldbalance_dest, open('C:/Users/Jhonatans/projects/ML/Classification/Financial-Fraud-Detection/src/preparation/rs_oldbalance_dest.pkl', 'wb'))\n",
    "pickle.dump(rs_newbalance_dest, open('C:/Users/Jhonatans/projects/ML/Classification/Financial-Fraud-Detection/src/preparation/rs_newbalance_dest.pkl', 'wb'))"
   ]
  },
  {
   "cell_type": "markdown",
   "id": "c065657e",
   "metadata": {},
   "source": [
    "## 10.4 Test API"
   ]
  },
  {
   "cell_type": "code",
   "execution_count": null,
   "id": "b9f598da",
   "metadata": {},
   "outputs": [],
   "source": [
    "x_test = df.drop(columns=['isFraud']).sample(5)\n",
    "\n",
    "# data to json\n",
    "data = json.dumps(x_test.to_dict(orient='records'))\n",
    "\n",
    "#url = 'http://127.0.0.1:5000/fraudDetection/predict' (local host)\n",
    "url = 'https://api-fraud.herokuapp.com/fraudDetection/predict' # url heroku cloud\n",
    "header = {'content-type': 'application/json'} # set type as json\n",
    "\n",
    "# request with method POST\n",
    "response = requests.post(url, data=data, headers=header)\n",
    "print('Status code: {}'.format(response.status_code))\n",
    "\n",
    "# json to dataframe\n",
    "d1 = pd.DataFrame(response.json(), columns=response.json()[0].keys())\n",
    "d1"
   ]
  },
  {
   "cell_type": "markdown",
   "id": "59d3d18b",
   "metadata": {},
   "source": [
    "### + Dicionario de Dados\n",
    "\n",
    "\n",
    "**step**: mapeia uma unidade de tempo no mundo real. Neste caso, 1 passo é 1 hora de tempo. Total de etapas 744 (simulação de 30 dias).\n",
    "\n",
    "**type:** Tipo da transação.\n",
    "\n",
    "**amount:** valor da transação em moeda local.\n",
    "\n",
    "**nameOrig:** cliente que iniciou a transação.\n",
    "\n",
    "**oldbalanceOrg:** saldo inicial antes da transação.\n",
    "\n",
    "**newbalanceOrig:** Saldo depois da transação.\n",
    "\n",
    "**nameDest:** cliente que é o destinatário da transação.\n",
    "\n",
    "**oldbalanceDest:** destinatário do saldo inicial antes da transação. Observe que não há informações para clientes que começam com M (Comerciantes).\n",
    "\n",
    "**newbalanceDest:** novo destinatário do saldo após a transação. Observe que não há informações para clientes que começam com M (Comerciantes).\n",
    "\n",
    "**isFraud:** Target.\n",
    "\n",
    "**isFlaggedFraud:** O modelo de negócios visa controlar transferências massivas de uma conta para outra e sinaliza tentativas ilegais. Uma tentativa ilegal neste conjunto de dados é uma tentativa de transferir mais de 200.000 em uma única transação.\n"
   ]
  }
 ],
 "metadata": {
  "kernelspec": {
   "display_name": "Python 3 (ipykernel)",
   "language": "python",
   "name": "python3"
  },
  "language_info": {
   "codemirror_mode": {
    "name": "ipython",
    "version": 3
   },
   "file_extension": ".py",
   "mimetype": "text/x-python",
   "name": "python",
   "nbconvert_exporter": "python",
   "pygments_lexer": "ipython3",
   "version": "3.9.6"
  }
 },
 "nbformat": 4,
 "nbformat_minor": 5
}
