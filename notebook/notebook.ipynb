{
 "cells": [
  {
   "cell_type": "markdown",
   "id": "0d927fba",
   "metadata": {},
   "source": [
    "# CONTEXTO DO PROBLEMA"
   ]
  },
  {
   "cell_type": "markdown",
   "id": "1626be3a",
   "metadata": {},
   "source": [
    "A Blocker Fraude Company é uma empresa especializada na detecção de fraudes em transações financeiras feitas através de dispositivos móveis. A empresa tem um serviço chamado “Blocker Fraud” no qual garante o bloqueio de transações fraudulentas.\n",
    "\n",
    "E o modelo de negócio da empresa é do tipo Serviço com a monetização feita por performance do serviço prestado, ou seja, o usuário paga uma taxa fixa sobre o sucesso na detecção de fraude das transações do cliente.\n",
    "\n",
    "Porém, a Blocker Fraud Company está em fase de expansão no Brasil e para adquirir clientes mais rapidamente, ela adotou uma estratégia muito agressiva. A estratégia funciona da seguinte forma:\n",
    "\n",
    "1. A empresa vai receber 25% do valor de cada transação detectada verdadeiramente como fraude.\n",
    "2. A empresa vai receber 5% do valor de cada transação detectada como fraude, porém a transação é verdadeiramente legítima.\n",
    "3. A empresa vai devolver 100% do valor para o cliente, a cada transação detectada como legítima, porém a transação é verdadeiramente uma fraude.\n",
    "\n",
    "\n",
    "Com essa estratégia agressiva a empresa assume os riscos em falhar na detecção de fraude e é remunerada na detecção assertiva das fraudes.\n",
    "\n",
    "Para o cliente, é um excelente negócio contratar a Blocker Fraud Company. Apesar da taxa cobrada ser muito alta sobre o sucesso, 25%, a empresa reduz seus custos com transações fraudulentas detectadas corretamente e ainda o prejuízo causado por um erro do serviço de anti-fraude será coberto pela própria Blocker Fraud Company.\n",
    "\n",
    "Para a empresa, além de conseguir muitos clientes com essa estratégia arriscada em garantir o reembolso no caso de uma falha na detecção de fraude do cliente, ela depende somente da precisão e da acurácia dos modelos construídos pelos seus Cientistas de Dados, ou seja, quanto mais preciso for o modelo “Blocker Fraud”, maior o faturamento da empresa. Porém, se o modelo tiver baixa precisão, a empresa poderá ter um prejuízo enorme."
   ]
  },
  {
   "cell_type": "markdown",
   "id": "f5c4ef93",
   "metadata": {},
   "source": [
    "# O PROBLEMA"
   ]
  },
  {
   "cell_type": "markdown",
   "id": "ed223ec7",
   "metadata": {},
   "source": [
    "Você foi contratado como um Consultor de Ciência de Dados para criar um modelo de alta precisão e acurácia na detecção de fraudes de transações feitas através de dispositivos móveis.\n",
    "\n",
    "Ao final da sua consultoria, você precisa entregar ao CEO da Blocker Fraud Company um modelo em produção no qual seu acesso será feito via API, ou seja, os clientes enviarão suas transações via API para que o seu modelo as classifique como fraudulentas ou legítimas.\n",
    "\n",
    "Além disso, você precisará entregar um relatório reportando a performance e os resultados do seu modelo em relação ao lucro e prejuízo que a empresa terá ao usar o modelo que você produziu. No seu relatório deve conter as respostas para as seguintes perguntas:\n",
    "\n",
    "1. Qual a Precisão e Acurácia do modelo?\n",
    "2. Qual a Confiabilidade do modelo em classificar as transações como legítimas ou fraudulentas?\n",
    "3. Qual o Faturamento Esperado pela Empresa se classificarmos 100% das transações com o modelo?\n",
    "4. Qual o Prejuízo Esperado pela Empresa em caso de falha do modelo?\n",
    "5. Qual o Lucro Esperado pela Blocker Fraud Company ao utilizar o modelo?"
   ]
  },
  {
   "cell_type": "markdown",
   "id": "d51b078e",
   "metadata": {},
   "source": [
    "# ENTENDIMENTO DO PROBLEMA"
   ]
  },
  {
   "cell_type": "markdown",
   "id": "d5971761",
   "metadata": {},
   "source": [
    "**Motivação:** Alta estratégia de crescimento para expansão sobre os resultados de detecção das fraudes.\n",
    "\n",
    "**Causa Raiz do Problema:** Criar um modelo capaz de detectar fraudes com alta acuracia.\n",
    "\n",
    "**Tipo de Problema:** Detecção de Fraude.\n",
    "\n",
    "**Potênciais Métodos:** Classificação.\n",
    "\n",
    "**Granularidade:** Classificação de Fraude por Transação.\n",
    "\n",
    "**Entraga da Solução:** WebApp contendo a predição e o Relatório.\n",
    "\n",
    "**Dados para Resolver o Problema:** [Kaggle](https://www.kaggle.com/ealaxi/paysim1)."
   ]
  },
  {
   "cell_type": "markdown",
   "id": "eb0ca4e8",
   "metadata": {},
   "source": [
    "# 0.0 IMPORTS"
   ]
  },
  {
   "cell_type": "code",
   "execution_count": 4,
   "id": "0516426e",
   "metadata": {},
   "outputs": [],
   "source": [
    "# Manipulation\n",
    "import pandas as pd\n",
    "import inflection\n",
    "\n",
    "# Visualization\n",
    "import matplotlib.pyplot as plt\n",
    "import seaborn as sns"
   ]
  },
  {
   "cell_type": "markdown",
   "id": "977d5737",
   "metadata": {},
   "source": [
    "## 0.1 Funções Auxiliares"
   ]
  },
  {
   "cell_type": "markdown",
   "id": "e5248ef9",
   "metadata": {},
   "source": [
    "## 0.2 Carregamento de Dados"
   ]
  },
  {
   "cell_type": "code",
   "execution_count": 5,
   "id": "f3283124",
   "metadata": {},
   "outputs": [
    {
     "data": {
      "text/html": [
       "<div>\n",
       "<style scoped>\n",
       "    .dataframe tbody tr th:only-of-type {\n",
       "        vertical-align: middle;\n",
       "    }\n",
       "\n",
       "    .dataframe tbody tr th {\n",
       "        vertical-align: top;\n",
       "    }\n",
       "\n",
       "    .dataframe thead th {\n",
       "        text-align: right;\n",
       "    }\n",
       "</style>\n",
       "<table border=\"1\" class=\"dataframe\">\n",
       "  <thead>\n",
       "    <tr style=\"text-align: right;\">\n",
       "      <th></th>\n",
       "      <th>step</th>\n",
       "      <th>type</th>\n",
       "      <th>amount</th>\n",
       "      <th>nameOrig</th>\n",
       "      <th>oldbalanceOrg</th>\n",
       "      <th>newbalanceOrig</th>\n",
       "      <th>nameDest</th>\n",
       "      <th>oldbalanceDest</th>\n",
       "      <th>newbalanceDest</th>\n",
       "      <th>isFraud</th>\n",
       "      <th>isFlaggedFraud</th>\n",
       "    </tr>\n",
       "  </thead>\n",
       "  <tbody>\n",
       "    <tr>\n",
       "      <th>0</th>\n",
       "      <td>1</td>\n",
       "      <td>PAYMENT</td>\n",
       "      <td>9839.64</td>\n",
       "      <td>C1231006815</td>\n",
       "      <td>170136.0</td>\n",
       "      <td>160296.36</td>\n",
       "      <td>M1979787155</td>\n",
       "      <td>0.0</td>\n",
       "      <td>0.0</td>\n",
       "      <td>0</td>\n",
       "      <td>0</td>\n",
       "    </tr>\n",
       "    <tr>\n",
       "      <th>1</th>\n",
       "      <td>1</td>\n",
       "      <td>PAYMENT</td>\n",
       "      <td>1864.28</td>\n",
       "      <td>C1666544295</td>\n",
       "      <td>21249.0</td>\n",
       "      <td>19384.72</td>\n",
       "      <td>M2044282225</td>\n",
       "      <td>0.0</td>\n",
       "      <td>0.0</td>\n",
       "      <td>0</td>\n",
       "      <td>0</td>\n",
       "    </tr>\n",
       "    <tr>\n",
       "      <th>2</th>\n",
       "      <td>1</td>\n",
       "      <td>TRANSFER</td>\n",
       "      <td>181.00</td>\n",
       "      <td>C1305486145</td>\n",
       "      <td>181.0</td>\n",
       "      <td>0.00</td>\n",
       "      <td>C553264065</td>\n",
       "      <td>0.0</td>\n",
       "      <td>0.0</td>\n",
       "      <td>1</td>\n",
       "      <td>0</td>\n",
       "    </tr>\n",
       "    <tr>\n",
       "      <th>3</th>\n",
       "      <td>1</td>\n",
       "      <td>CASH_OUT</td>\n",
       "      <td>181.00</td>\n",
       "      <td>C840083671</td>\n",
       "      <td>181.0</td>\n",
       "      <td>0.00</td>\n",
       "      <td>C38997010</td>\n",
       "      <td>21182.0</td>\n",
       "      <td>0.0</td>\n",
       "      <td>1</td>\n",
       "      <td>0</td>\n",
       "    </tr>\n",
       "    <tr>\n",
       "      <th>4</th>\n",
       "      <td>1</td>\n",
       "      <td>PAYMENT</td>\n",
       "      <td>11668.14</td>\n",
       "      <td>C2048537720</td>\n",
       "      <td>41554.0</td>\n",
       "      <td>29885.86</td>\n",
       "      <td>M1230701703</td>\n",
       "      <td>0.0</td>\n",
       "      <td>0.0</td>\n",
       "      <td>0</td>\n",
       "      <td>0</td>\n",
       "    </tr>\n",
       "  </tbody>\n",
       "</table>\n",
       "</div>"
      ],
      "text/plain": [
       "   step      type    amount     nameOrig  oldbalanceOrg  newbalanceOrig  \\\n",
       "0     1   PAYMENT   9839.64  C1231006815       170136.0       160296.36   \n",
       "1     1   PAYMENT   1864.28  C1666544295        21249.0        19384.72   \n",
       "2     1  TRANSFER    181.00  C1305486145          181.0            0.00   \n",
       "3     1  CASH_OUT    181.00   C840083671          181.0            0.00   \n",
       "4     1   PAYMENT  11668.14  C2048537720        41554.0        29885.86   \n",
       "\n",
       "      nameDest  oldbalanceDest  newbalanceDest  isFraud  isFlaggedFraud  \n",
       "0  M1979787155             0.0             0.0        0               0  \n",
       "1  M2044282225             0.0             0.0        0               0  \n",
       "2   C553264065             0.0             0.0        1               0  \n",
       "3    C38997010         21182.0             0.0        1               0  \n",
       "4  M1230701703             0.0             0.0        0               0  "
      ]
     },
     "execution_count": 5,
     "metadata": {},
     "output_type": "execute_result"
    }
   ],
   "source": [
    "df = pd.read_csv('../data/fraud_data.csv') # load data\n",
    "\n",
    "df.head() # show data"
   ]
  },
  {
   "cell_type": "markdown",
   "id": "f9b62eea",
   "metadata": {},
   "source": [
    "# 1.0 DESCRIÇÃO DE DADOS"
   ]
  },
  {
   "cell_type": "markdown",
   "id": "bf15bd67",
   "metadata": {},
   "source": [
    "## 1.1 Dimensão de Dados"
   ]
  },
  {
   "cell_type": "code",
   "execution_count": 6,
   "id": "39f31f36",
   "metadata": {},
   "outputs": [
    {
     "name": "stdout",
     "output_type": "stream",
     "text": [
      "Qty. Rows: 6362620\n",
      "Qty. Columns: 11\n"
     ]
    }
   ],
   "source": [
    "print(f'Qty. Rows: {df.shape[0]}')\n",
    "print(f'Qty. Columns: {df.shape[1]}')"
   ]
  },
  {
   "cell_type": "markdown",
   "id": "23b2d57d",
   "metadata": {},
   "source": [
    "## 1.2 Renomeação de Colunas"
   ]
  },
  {
   "cell_type": "code",
   "execution_count": 7,
   "id": "45644bfb",
   "metadata": {},
   "outputs": [
    {
     "data": {
      "text/plain": [
       "Index(['step', 'type', 'amount', 'name_orig', 'oldbalance_org',\n",
       "       'newbalance_orig', 'name_dest', 'oldbalance_dest', 'newbalance_dest',\n",
       "       'is_fraud', 'is_flagged_fraud'],\n",
       "      dtype='object')"
      ]
     },
     "execution_count": 7,
     "metadata": {},
     "output_type": "execute_result"
    }
   ],
   "source": [
    "# Snakecase\n",
    "snakecase = lambda x: inflection.underscore(x)\n",
    "\n",
    "# Alter name columns\n",
    "df.columns = list(map(snakecase, list(df.columns)))\n",
    "df.columns"
   ]
  },
  {
   "cell_type": "markdown",
   "id": "599e905b",
   "metadata": {},
   "source": [
    "## 1.3 Tipo de Dados"
   ]
  },
  {
   "cell_type": "code",
   "execution_count": 8,
   "id": "298d380b",
   "metadata": {},
   "outputs": [
    {
     "data": {
      "text/plain": [
       "step                  int64\n",
       "type                 object\n",
       "amount              float64\n",
       "name_orig            object\n",
       "oldbalance_org      float64\n",
       "newbalance_orig     float64\n",
       "name_dest            object\n",
       "oldbalance_dest     float64\n",
       "newbalance_dest     float64\n",
       "is_fraud              int64\n",
       "is_flagged_fraud      int64\n",
       "dtype: object"
      ]
     },
     "execution_count": 8,
     "metadata": {},
     "output_type": "execute_result"
    }
   ],
   "source": [
    "df.dtypes"
   ]
  },
  {
   "cell_type": "markdown",
   "id": "c956edb6",
   "metadata": {},
   "source": [
    "## 1.4 Verificação de Dados Ausentes"
   ]
  },
  {
   "cell_type": "code",
   "execution_count": 9,
   "id": "bbed8890",
   "metadata": {},
   "outputs": [
    {
     "data": {
      "text/plain": [
       "step                0\n",
       "type                0\n",
       "amount              0\n",
       "name_orig           0\n",
       "oldbalance_org      0\n",
       "newbalance_orig     0\n",
       "name_dest           0\n",
       "oldbalance_dest     0\n",
       "newbalance_dest     0\n",
       "is_fraud            0\n",
       "is_flagged_fraud    0\n",
       "dtype: int64"
      ]
     },
     "execution_count": 9,
     "metadata": {},
     "output_type": "execute_result"
    }
   ],
   "source": [
    "df.isna().sum()"
   ]
  },
  {
   "cell_type": "markdown",
   "id": "6e6143b9",
   "metadata": {},
   "source": [
    "## 1.5 Mudança do Tipo de Dados"
   ]
  },
  {
   "cell_type": "markdown",
   "id": "87cc218e",
   "metadata": {},
   "source": [
    "## 1.6 Estatística Descritiva"
   ]
  },
  {
   "cell_type": "markdown",
   "id": "95496ea8",
   "metadata": {},
   "source": [
    "### 1.6.1 Atributos Numéricos"
   ]
  },
  {
   "cell_type": "code",
   "execution_count": 10,
   "id": "34a7298f",
   "metadata": {},
   "outputs": [
    {
     "data": {
      "text/html": [
       "<div>\n",
       "<style scoped>\n",
       "    .dataframe tbody tr th:only-of-type {\n",
       "        vertical-align: middle;\n",
       "    }\n",
       "\n",
       "    .dataframe tbody tr th {\n",
       "        vertical-align: top;\n",
       "    }\n",
       "\n",
       "    .dataframe thead th {\n",
       "        text-align: right;\n",
       "    }\n",
       "</style>\n",
       "<table border=\"1\" class=\"dataframe\">\n",
       "  <thead>\n",
       "    <tr style=\"text-align: right;\">\n",
       "      <th></th>\n",
       "      <th>count</th>\n",
       "      <th>mean</th>\n",
       "      <th>std</th>\n",
       "      <th>min</th>\n",
       "      <th>25%</th>\n",
       "      <th>50%</th>\n",
       "      <th>75%</th>\n",
       "      <th>max</th>\n",
       "      <th>kurtosis</th>\n",
       "      <th>skew</th>\n",
       "    </tr>\n",
       "  </thead>\n",
       "  <tbody>\n",
       "    <tr>\n",
       "      <th>step</th>\n",
       "      <td>6362620.0</td>\n",
       "      <td>2.433972e+02</td>\n",
       "      <td>1.423320e+02</td>\n",
       "      <td>1.0</td>\n",
       "      <td>156.00</td>\n",
       "      <td>239.000</td>\n",
       "      <td>3.350000e+02</td>\n",
       "      <td>7.430000e+02</td>\n",
       "      <td>0.329071</td>\n",
       "      <td>0.375177</td>\n",
       "    </tr>\n",
       "    <tr>\n",
       "      <th>amount</th>\n",
       "      <td>6362620.0</td>\n",
       "      <td>1.798619e+05</td>\n",
       "      <td>6.038582e+05</td>\n",
       "      <td>0.0</td>\n",
       "      <td>13389.57</td>\n",
       "      <td>74871.940</td>\n",
       "      <td>2.087215e+05</td>\n",
       "      <td>9.244552e+07</td>\n",
       "      <td>1797.956705</td>\n",
       "      <td>30.993949</td>\n",
       "    </tr>\n",
       "    <tr>\n",
       "      <th>oldbalance_org</th>\n",
       "      <td>6362620.0</td>\n",
       "      <td>8.338831e+05</td>\n",
       "      <td>2.888243e+06</td>\n",
       "      <td>0.0</td>\n",
       "      <td>0.00</td>\n",
       "      <td>14208.000</td>\n",
       "      <td>1.073152e+05</td>\n",
       "      <td>5.958504e+07</td>\n",
       "      <td>32.964879</td>\n",
       "      <td>5.249136</td>\n",
       "    </tr>\n",
       "    <tr>\n",
       "      <th>newbalance_orig</th>\n",
       "      <td>6362620.0</td>\n",
       "      <td>8.551137e+05</td>\n",
       "      <td>2.924049e+06</td>\n",
       "      <td>0.0</td>\n",
       "      <td>0.00</td>\n",
       "      <td>0.000</td>\n",
       "      <td>1.442584e+05</td>\n",
       "      <td>4.958504e+07</td>\n",
       "      <td>32.066985</td>\n",
       "      <td>5.176884</td>\n",
       "    </tr>\n",
       "    <tr>\n",
       "      <th>oldbalance_dest</th>\n",
       "      <td>6362620.0</td>\n",
       "      <td>1.100702e+06</td>\n",
       "      <td>3.399180e+06</td>\n",
       "      <td>0.0</td>\n",
       "      <td>0.00</td>\n",
       "      <td>132705.665</td>\n",
       "      <td>9.430367e+05</td>\n",
       "      <td>3.560159e+08</td>\n",
       "      <td>948.674125</td>\n",
       "      <td>19.921758</td>\n",
       "    </tr>\n",
       "    <tr>\n",
       "      <th>newbalance_dest</th>\n",
       "      <td>6362620.0</td>\n",
       "      <td>1.224996e+06</td>\n",
       "      <td>3.674129e+06</td>\n",
       "      <td>0.0</td>\n",
       "      <td>0.00</td>\n",
       "      <td>214661.440</td>\n",
       "      <td>1.111909e+06</td>\n",
       "      <td>3.561793e+08</td>\n",
       "      <td>862.156508</td>\n",
       "      <td>19.352302</td>\n",
       "    </tr>\n",
       "    <tr>\n",
       "      <th>is_fraud</th>\n",
       "      <td>6362620.0</td>\n",
       "      <td>1.290820e-03</td>\n",
       "      <td>3.590480e-02</td>\n",
       "      <td>0.0</td>\n",
       "      <td>0.00</td>\n",
       "      <td>0.000</td>\n",
       "      <td>0.000000e+00</td>\n",
       "      <td>1.000000e+00</td>\n",
       "      <td>769.702982</td>\n",
       "      <td>27.779538</td>\n",
       "    </tr>\n",
       "    <tr>\n",
       "      <th>is_flagged_fraud</th>\n",
       "      <td>6362620.0</td>\n",
       "      <td>2.514687e-06</td>\n",
       "      <td>1.585775e-03</td>\n",
       "      <td>0.0</td>\n",
       "      <td>0.00</td>\n",
       "      <td>0.000</td>\n",
       "      <td>0.000000e+00</td>\n",
       "      <td>1.000000e+00</td>\n",
       "      <td>397659.062500</td>\n",
       "      <td>630.603629</td>\n",
       "    </tr>\n",
       "  </tbody>\n",
       "</table>\n",
       "</div>"
      ],
      "text/plain": [
       "                      count          mean           std  min       25%  \\\n",
       "step              6362620.0  2.433972e+02  1.423320e+02  1.0    156.00   \n",
       "amount            6362620.0  1.798619e+05  6.038582e+05  0.0  13389.57   \n",
       "oldbalance_org    6362620.0  8.338831e+05  2.888243e+06  0.0      0.00   \n",
       "newbalance_orig   6362620.0  8.551137e+05  2.924049e+06  0.0      0.00   \n",
       "oldbalance_dest   6362620.0  1.100702e+06  3.399180e+06  0.0      0.00   \n",
       "newbalance_dest   6362620.0  1.224996e+06  3.674129e+06  0.0      0.00   \n",
       "is_fraud          6362620.0  1.290820e-03  3.590480e-02  0.0      0.00   \n",
       "is_flagged_fraud  6362620.0  2.514687e-06  1.585775e-03  0.0      0.00   \n",
       "\n",
       "                         50%           75%           max       kurtosis  \\\n",
       "step                 239.000  3.350000e+02  7.430000e+02       0.329071   \n",
       "amount             74871.940  2.087215e+05  9.244552e+07    1797.956705   \n",
       "oldbalance_org     14208.000  1.073152e+05  5.958504e+07      32.964879   \n",
       "newbalance_orig        0.000  1.442584e+05  4.958504e+07      32.066985   \n",
       "oldbalance_dest   132705.665  9.430367e+05  3.560159e+08     948.674125   \n",
       "newbalance_dest   214661.440  1.111909e+06  3.561793e+08     862.156508   \n",
       "is_fraud               0.000  0.000000e+00  1.000000e+00     769.702982   \n",
       "is_flagged_fraud       0.000  0.000000e+00  1.000000e+00  397659.062500   \n",
       "\n",
       "                        skew  \n",
       "step                0.375177  \n",
       "amount             30.993949  \n",
       "oldbalance_org      5.249136  \n",
       "newbalance_orig     5.176884  \n",
       "oldbalance_dest    19.921758  \n",
       "newbalance_dest    19.352302  \n",
       "is_fraud           27.779538  \n",
       "is_flagged_fraud  630.603629  "
      ]
     },
     "execution_count": 10,
     "metadata": {},
     "output_type": "execute_result"
    }
   ],
   "source": [
    "numerical = df.select_dtypes(include=['int64', 'float64'])  # Select numerical data\n",
    "describe = numerical.describe().T  # describe data\n",
    "\n",
    "describe['kurtosis'] = numerical.apply(lambda x: x.kurtosis())  # add kurtosis in describe\n",
    "describe['skew'] = numerical.apply(lambda x: x.skew())  # add skew in describe\n",
    "\n",
    "describe"
   ]
  },
  {
   "cell_type": "markdown",
   "id": "cb5935d1",
   "metadata": {},
   "source": [
    "**Insight:**\n",
    "\n",
    "<ins>Distribuição</ins>: Há pessoas que fizeram transação com valor de 0 no total, e pessoas que fizeram transação sem dinheiro na conta. O valor máximo de uma transação foi de 92 milhões, um range de transações muito grande.No geral todas as variaveis numéricas estão com um range grande com valores muito altos e nenhuma está seguindo uma distribuição normal.\n",
    "\n",
    "<ins>Negócio</ins>: A média do valor das transações é de 100 mil, valores extremos aumentaram o valor da transação média. 50% das transações são feitas em cerca de 74 mil e 50% das contas de quem fez a transação restou 14 mil de saldo final. Em relação a fraude, mias de 75% dos casos são de transações legais e dentro do padrão. "
   ]
  },
  {
   "cell_type": "markdown",
   "id": "cf564c30",
   "metadata": {},
   "source": [
    "### 1.6.2 Atributos Categóricos"
   ]
  },
  {
   "cell_type": "code",
   "execution_count": 11,
   "id": "6571dbc8",
   "metadata": {},
   "outputs": [
    {
     "data": {
      "image/png": "[encoded data removed]",
      "text/plain": [
       "<Figure size 1080x360 with 1 Axes>"
      ]
     },
     "metadata": {
      "needs_background": "light"
     },
     "output_type": "display_data"
    }
   ],
   "source": [
    "# Select categorical data\n",
    "categorical = df.select_dtypes(include=['object'])\n",
    "\n",
    "# Count unique values \n",
    "values_cat = categorical.apply(lambda x: len(x.unique())).sort_values(ascending=False)\n",
    "\n",
    "# Figure\n",
    "plt.figure(figsize=(15, 5))\n",
    "sns.barplot(x=values_cat.index, y=values_cat.values);"
   ]
  },
  {
   "cell_type": "markdown",
   "id": "da6f95ef",
   "metadata": {},
   "source": [
    "**Insight:**\n",
    "\n",
    "Os atributos categóricos possuem um grande range de possíveis valores, com exceção do tipo da transação."
   ]
  },
  {
   "cell_type": "markdown",
   "id": "063f8f10",
   "metadata": {},
   "source": [
    "# 2.0 FEATURE ENGINEERING"
   ]
  },
  {
   "cell_type": "markdown",
   "id": "c1567cb3",
   "metadata": {},
   "source": [
    "## 2.1 Mapa Mental de Hipóteses"
   ]
  },
  {
   "cell_type": "markdown",
   "id": "602f701a",
   "metadata": {},
   "source": [
    "<p align=\"center\">\n",
    "  <img src=\"../img/mind_map.png\" width=\"1000\" title=\"mind-map\">\n",
    "</p>"
   ]
  },
  {
   "cell_type": "markdown",
   "id": "349e2c1d",
   "metadata": {},
   "source": [
    "## 2.2 Hipóteses"
   ]
  },
  {
   "cell_type": "markdown",
   "id": "ffd948dd",
   "metadata": {},
   "source": [
    "### 2.2.1 Hipóteses Período"
   ]
  },
  {
   "cell_type": "markdown",
   "id": "d4c5916d",
   "metadata": {},
   "source": [
    "**1.** Fraudes acontecem mais no final de semana.\n",
    "\n",
    "**2.** Fraudes acontecem mais em época de Black Friday.\n",
    "\n",
    "**3.** Fraudes acontecem mais em feriados."
   ]
  },
  {
   "cell_type": "markdown",
   "id": "1fe3a66e",
   "metadata": {},
   "source": [
    "### 2.2.2 Hipóteses Transação"
   ]
  },
  {
   "cell_type": "markdown",
   "id": "fe02d19f",
   "metadata": {},
   "source": [
    "**1.** Fraudes acontecem mais em pagamentos de crédito.\n",
    "\n",
    "**2.** Transações maiores que 50% do saldo bancario são fraudes.\n",
    "\n",
    "**3.** A maior parte de transações feitas superior que 80mil, são fraudes.\n",
    "\n",
    "**4.** Contas de origem que ficaram zeradas após as transações, são fraudes."
   ]
  },
  {
   "cell_type": "markdown",
   "id": "c615fdfa",
   "metadata": {},
   "source": [
    "### 2.2.3 Hipóteses Cliente"
   ]
  },
  {
   "cell_type": "markdown",
   "id": "46c2e4ad",
   "metadata": {},
   "source": [
    "**1.** Há maior quantidade de fraudes em contas de pessoas físicas.\n",
    "\n",
    "**2.** Há maior quantidade de fraudes em contas de pessoas com alto poder aquisitivo.\n",
    "\n",
    "**3.** Há maior quantidade de fraudes em transações de pessoa física para juridica."
   ]
  },
  {
   "cell_type": "markdown",
   "id": "8913b727",
   "metadata": {},
   "source": [
    "## 2.3 Lista Final de Hipóteses"
   ]
  },
  {
   "cell_type": "markdown",
   "id": "8f19792c",
   "metadata": {},
   "source": [
    "**1.** Fraudes acontecem mais em pagamentos de crédito.\n",
    "\n",
    "**2.** Transações maiores que 50% do saldo bancario são fraudes.\n",
    "\n",
    "**3.** A maior parte de transações feitas superior que 80mil, são fraudes.\n",
    "\n",
    "**4.** Contas de origem que ficaram zeradas após as transações, são fraudes.\n",
    "\n",
    "**5.** Há maior quantidade de fraudes em contas de pessoas físicas.\n",
    "\n",
    "**6.** Há maior quantidade de fraudes em contas de pessoas com alto poder aquisitivo.\n",
    "\n",
    "**7.** Há maior quantidade de fraudes em transações de pessoa física para juridica."
   ]
  },
  {
   "cell_type": "markdown",
   "id": "a5702e10",
   "metadata": {},
   "source": [
    "## 2.3 Feature Engineering"
   ]
  },
  {
   "cell_type": "code",
   "execution_count": 13,
   "id": "ecee6353",
   "metadata": {},
   "outputs": [],
   "source": [
    "# Copy dataframe\n",
    "df2 = df.copy()\n",
    "\n",
    "# greater_50 - describe if the transaction is greater than 50% of the balance (yes ou no)\n",
    "df2['greater_50%'] = df2[['amount', 'oldbalance_org']].apply(\n",
    "    lambda x: 'yes' if x['amount'] / 2 > x['oldbalance_org'] else 'no', axis=1\n",
    "    )\n",
    "\n",
    "# purchasing_power_org - describe the purchasing power of the origin transaction\n",
    "average_salary = 3400\n",
    "median_salary = df2['oldbalance_org'].median()\n",
    "\n",
    "df2['purchasing_power_org'] = df2['oldbalance_org'].apply(\n",
    "    lambda x: 'low' if x <= average_salary else 'average' \n",
    "                    if x > average_salary and x <= median_salary else 'high'\n",
    "                )\n",
    "\n",
    "# type_transaction - describe the type of transaction C = Customer and M = Merchants\n",
    "df2['type_transaction'] = df2[['name_orig', 'name_dest']].apply(\n",
    "    lambda x: 'C to C' if x['name_orig'][0] == 'C' and x['name_dest'][0] == 'C' else 'M to M' \n",
    "                       if x['name_orig'][0] == 'M' and x['name_dest'][0] == 'M' else 'C to M' \n",
    "                       if x['name_orig'][0] == 'C' and x['name_dest'][0] == 'M' else 'M to C' \n",
    "                       if x['name_orig'][0] == 'M' and x['name_dest'][0] == 'C' else None, axis=1\n",
    "                    )"
   ]
  },
  {
   "cell_type": "markdown",
   "id": "d86107a1",
   "metadata": {},
   "source": [
    "# 3.0 FILTRAGEM DE DADOS"
   ]
  },
  {
   "cell_type": "markdown",
   "id": "45735526",
   "metadata": {},
   "source": [
    "## 3.1 Filtragem de Linhas"
   ]
  },
  {
   "cell_type": "markdown",
   "id": "e7546e91",
   "metadata": {},
   "source": [
    "## 3.2 Filtragem de Colunas"
   ]
  },
  {
   "cell_type": "markdown",
   "id": "aa989abf",
   "metadata": {},
   "source": [
    "# 4.0 EDA"
   ]
  },
  {
   "cell_type": "markdown",
   "id": "a6d68385",
   "metadata": {},
   "source": [
    "## 4.1 Análise Univariada"
   ]
  },
  {
   "cell_type": "markdown",
   "id": "37e26a22",
   "metadata": {},
   "source": [
    "### 4.1.1 Variável Resposta"
   ]
  },
  {
   "cell_type": "code",
   "execution_count": 14,
   "id": "4e66c7e0",
   "metadata": {},
   "outputs": [
    {
     "data": {
      "image/png": "[encoded data removed]",
      "text/plain": [
       "<Figure size 1080x360 with 1 Axes>"
      ]
     },
     "metadata": {
      "needs_background": "light"
     },
     "output_type": "display_data"
    }
   ],
   "source": [
    "# Copy dataframe\n",
    "df4 = df2.copy()\n",
    "\n",
    "# Figure \n",
    "plt.figure(figsize=(15, 5))\n",
    "sns.countplot(x='is_fraud', data=df4);"
   ]
  },
  {
   "cell_type": "markdown",
   "id": "ad19cacc",
   "metadata": {},
   "source": [
    "**Insight:**\n",
    "\n",
    "Apenas 1º das transações são de fraude e 99% normais. Há um alto desbalanceamento de dados, visto que há um numero muito pequeno de fraudes."
   ]
  },
  {
   "cell_type": "markdown",
   "id": "9f2f351b",
   "metadata": {},
   "source": [
    "### 4.1.2 Variável Numérica"
   ]
  },
  {
   "cell_type": "code",
   "execution_count": 25,
   "id": "adba14de",
   "metadata": {},
   "outputs": [
    {
     "data": {
      "image/png": "[encoded data removed]",
      "text/plain": [
       "<Figure size 1080x1080 with 9 Axes>"
      ]
     },
     "metadata": {
      "needs_background": "light"
     },
     "output_type": "display_data"
    }
   ],
   "source": [
    "# Filter numerical atributes\n",
    "num = df4.select_dtypes(include=['int64', 'float64']).drop(columns=['is_fraud'])\n",
    "\n",
    "# Figure\n",
    "num.hist(grid=False, bins=20, ec='k', figsize=(15, 15));"
   ]
  },
  {
   "cell_type": "markdown",
   "id": "a7df64de",
   "metadata": {},
   "source": [
    "**Insight:**\n",
    "\n",
    "No geral, as variavies numéricas não possuem tanto comportamento, estão com as distribuições mais concentradas em torno do zero, devido a possuir alta quantidade de informações com zero, deslocando as distribuições para a esquerda com um alto pico. A exceção é o atributo <ins>step</ins> que há maior comportamento e posui uma distribuição maior em valores entre 0 a 400. Os atributos estão longe de uma distribuição normal."
   ]
  },
  {
   "cell_type": "markdown",
   "id": "b36f74cc",
   "metadata": {},
   "source": [
    "### 4.1.3 Variável Categórica"
   ]
  },
  {
   "cell_type": "code",
   "execution_count": 29,
   "id": "aa5cb798",
   "metadata": {},
   "outputs": [
    {
     "data": {
      "image/png": "[encoded data removed]",
      "text/plain": [
       "<Figure size 1080x720 with 4 Axes>"
      ]
     },
     "metadata": {
      "needs_background": "light"
     },
     "output_type": "display_data"
    }
   ],
   "source": [
    "# Filter categorical atributes\n",
    "cat = df4.select_dtypes(include=['object'])\n",
    "\n",
    "# Figure 1\n",
    "plt.figure(figsize=(15, 10))\n",
    "plt.subplot(2, 2, 1)\n",
    "sns.countplot(x='type', data=cat, order=list(cat['type'].value_counts().sort_values(ascending=False).index))\n",
    "\n",
    "# Figure 2\n",
    "plt.subplot(2, 2, 2)\n",
    "sns.countplot(x='greater_50%', data=cat, order=['yes', 'no'])\n",
    "\n",
    "# Figure 3\n",
    "plt.subplot(2, 2, 3)\n",
    "sns.countplot(x='purchasing_power_org', data=cat)\n",
    "\n",
    "# Figure 4\n",
    "plt.subplot(2, 2, 4)\n",
    "sns.countplot(x='type_transaction', data=cat, order=['C to C', 'C to M']);"
   ]
  },
  {
   "cell_type": "markdown",
   "id": "32d73fd4",
   "metadata": {},
   "source": [
    "**Insight:**\n",
    "\n",
    "A maior parte das transações são feitas de saques e de pagamentos, e a minoria é feita de débito. A maior parte das pessoas realizam transações maiores que 50% de seu saldo na conta. Também, a maior quantidade das pessoas/comercios que fazem transações possuem um alto poder aquisitivo e  grande parte das transações são de clientes para clientes."
   ]
  },
  {
   "cell_type": "markdown",
   "id": "a80bf8d5",
   "metadata": {},
   "source": [
    "## 4.2 Análise Bivariada"
   ]
  },
  {
   "cell_type": "markdown",
   "id": "f2fa275c",
   "metadata": {},
   "source": [
    "### H2. Transações maiores que 50% do saldo bancario são fraudes.\n",
    "\n",
    "**RESULTADO**"
   ]
  },
  {
   "cell_type": "markdown",
   "id": "c878b2e5",
   "metadata": {},
   "source": [
    "### H3. A maior parte de transações feitas superior que 80mil, são fraudes.\n",
    "\n",
    "**RESULTADO**"
   ]
  },
  {
   "cell_type": "markdown",
   "id": "6f8d4fa9",
   "metadata": {},
   "source": [
    "### H4.  Contas de origem que ficaram zeradas após as transações, são fraudes.\n",
    "\n",
    "**RESULTADO**"
   ]
  },
  {
   "cell_type": "markdown",
   "id": "c4e5953b",
   "metadata": {},
   "source": [
    "### H5. Há maior quantidade de fraudes em contas de pessoas físicas.\n",
    "\n",
    "**RESULTADO**"
   ]
  },
  {
   "cell_type": "markdown",
   "id": "cd18aebf",
   "metadata": {},
   "source": [
    "### H6. Há maior quantidade de fraudes em contas de pessoas com alto poder aquisitivo.\n",
    "\n",
    "**RESULTADO**"
   ]
  },
  {
   "cell_type": "markdown",
   "id": "9cec4010",
   "metadata": {},
   "source": [
    "### H7. Há maior quantidade de fraudes em transações de pessoa física para juridica.\n",
    "\n",
    "**RESULTADO**"
   ]
  },
  {
   "cell_type": "markdown",
   "id": "c10a5851",
   "metadata": {},
   "source": [
    "## 4.3 Análise Multivariada"
   ]
  },
  {
   "cell_type": "markdown",
   "id": "5f57ea13",
   "metadata": {},
   "source": [
    "### 4.3.1 Variável Numérica"
   ]
  },
  {
   "cell_type": "markdown",
   "id": "3d3aef01",
   "metadata": {},
   "source": [
    "### 4.3.2 Variável Categórica"
   ]
  },
  {
   "cell_type": "markdown",
   "id": "4abcbb41",
   "metadata": {},
   "source": [
    "# 5.0 PREPRAÇÃO DE DADOS"
   ]
  },
  {
   "cell_type": "markdown",
   "id": "6555f701",
   "metadata": {},
   "source": [
    "# 6.0 SELEÇÃO DE FEATURE"
   ]
  },
  {
   "cell_type": "markdown",
   "id": "03174a51",
   "metadata": {},
   "source": [
    "# 7.0 MACHINE LEARNING"
   ]
  },
  {
   "cell_type": "markdown",
   "id": "1ffdc0b2",
   "metadata": {},
   "source": [
    "# 8.0 AJUSTE DE HIPERPARAMETROS"
   ]
  },
  {
   "cell_type": "markdown",
   "id": "e33ccfe2",
   "metadata": {},
   "source": [
    "# 9.0 TRADUÇÃO E INTERPRETAÇÃO"
   ]
  },
  {
   "cell_type": "markdown",
   "id": "5e7da034",
   "metadata": {},
   "source": [
    "# 10.0 DEPLOY MODELO"
   ]
  },
  {
   "cell_type": "markdown",
   "id": "59d3d18b",
   "metadata": {},
   "source": [
    "### + Dicionario de Dados\n",
    "\n",
    "\n",
    "**step**: mapeia uma unidade de tempo no mundo real. Neste caso, 1 passo é 1 hora de tempo. Total de etapas 744 (simulação de 30 dias).\n",
    "\n",
    "**type:** Tipo da transação.\n",
    "\n",
    "**amount:** valor da transação em moeda local.\n",
    "\n",
    "**nameOrig:** cliente que iniciou a transação.\n",
    "\n",
    "**oldbalanceOrg:** saldo inicial antes da transação.\n",
    "\n",
    "**newbalanceOrig:** Saldo depois da transação.\n",
    "\n",
    "**nameDest:** cliente que é o destinatário da transação.\n",
    "\n",
    "**oldbalanceDest:** destinatário do saldo inicial antes da transação. Observe que não há informações para clientes que começam com M (Comerciantes).\n",
    "\n",
    "**newbalanceDest:** novo destinatário do saldo após a transação. Observe que não há informações para clientes que começam com M (Comerciantes).\n",
    "\n",
    "**isFraud:** Target.\n",
    "\n",
    "**isFlaggedFraud:** O modelo de negócios visa controlar transferências massivas de uma conta para outra e sinaliza tentativas ilegais. Uma tentativa ilegal neste conjunto de dados é uma tentativa de transferir mais de 200.000 em uma única transação.\n"
   ]
  }
 ],
 "metadata": {
  "kernelspec": {
   "display_name": "Python 3 (ipykernel)",
   "language": "python",
   "name": "python3"
  },
  "language_info": {
   "codemirror_mode": {
    "name": "ipython",
    "version": 3
   },
   "file_extension": ".py",
   "mimetype": "text/x-python",
   "name": "python",
   "nbconvert_exporter": "python",
   "pygments_lexer": "ipython3",
   "version": "3.9.6"
  }
 },
 "nbformat": 4,
 "nbformat_minor": 5
}
